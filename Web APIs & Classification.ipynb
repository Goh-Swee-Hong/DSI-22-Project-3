{
 "cells": [
  {
   "cell_type": "markdown",
   "id": "9fab0f09",
   "metadata": {},
   "source": [
    "# ![](https://ga-dash.s3.amazonaws.com/production/assets/logo-9f88ae6c9c3871690e33280fcf557f33.png) Project 3: Web APIs & Classification\n"
   ]
  },
  {
   "cell_type": "markdown",
   "id": "79901139",
   "metadata": {},
   "source": [
    "## Problem statement"
   ]
  },
  {
   "cell_type": "markdown",
   "id": "5c15a22b",
   "metadata": {},
   "source": [
    "The objective of this project is to collect posts from two subreddits using Reddit's API and then use NLP to train a classifier on which subreddit a given post came from. Data are to be gathered and prepared using the `requests` library. Two models are to be created and compared and one of the two models must be a Bayes classifier. (context, objective, stakeholders)"
   ]
  },
  {
   "cell_type": "markdown",
   "id": "27d91296",
   "metadata": {},
   "source": [
    "## Importing libraries"
   ]
  },
  {
   "cell_type": "code",
   "execution_count": 1,
   "id": "11b64f38",
   "metadata": {},
   "outputs": [],
   "source": [
    "import pandas as pd\n",
    "import numpy as np\n",
    "import matplotlib.pyplot as plt\n",
    "import seaborn as sns\n",
    "import requests\n",
    "import time\n",
    "import random\n",
    "import nltk\n",
    "import re\n",
    "\n",
    "from bs4 import BeautifulSoup\n",
    "from nltk.tokenize import word_tokenize\n",
    "from nltk.corpus import stopwords\n",
    "from nltk.stem.porter import PorterStemmer\n",
    "from sklearn.model_selection import train_test_split, GridSearchCV\n",
    "from sklearn.feature_extraction.text import CountVectorizer, TfidfVectorizer\n",
    "from sklearn.linear_model import LogisticRegression\n",
    "from sklearn.pipeline import Pipeline\n",
    "from sklearn.naive_bayes import MultinomialNB\n",
    "%matplotlib inline"
   ]
  },
  {
   "cell_type": "markdown",
   "id": "d9c40c4a",
   "metadata": {},
   "source": [
    "## Data collection"
   ]
  },
  {
   "cell_type": "markdown",
   "id": "b69f2a3b",
   "metadata": {},
   "source": [
    "### Keto subreddit"
   ]
  },
  {
   "cell_type": "code",
   "execution_count": 2,
   "id": "0310d971",
   "metadata": {},
   "outputs": [],
   "source": [
    "# Loading datasets and setting header\n",
    "urlketo = 'https://www.reddit.com/r/keto.json'\n",
    "urldrink = 'https://www.reddit.com/r/stopdrinking.json'\n",
    "headers = {'User-agent': 'Oscar Goh 69.69'}"
   ]
  },
  {
   "cell_type": "code",
   "execution_count": 3,
   "id": "ebed6feb",
   "metadata": {
    "scrolled": true
   },
   "outputs": [],
   "source": [
    "# Creating a loop to scrape posts from a subreddit\n",
    "ketoposts = []\n",
    "after = None\n",
    "for i in range(40):\n",
    "    if after == None:\n",
    "        params = {}\n",
    "    else:\n",
    "        params = {'after': after}\n",
    "    url = 'https://www.reddit.com/r/keto.json'\n",
    "    res = requests.get(url, params=params, headers=headers)\n",
    "    if res.status_code == 200:\n",
    "        the_json = res.json()\n",
    "        ketoposts.extend(the_json['data']['children'])\n",
    "        after = the_json['data']['after']\n",
    "    else:\n",
    "        print(res, status_code)\n",
    "        break\n",
    "    sleep_duration = random.randint(2, 6)\n",
    "    time.sleep(sleep_duration)\n",
    "\n",
    "# Code from primer video on how to use Reddit's API"
   ]
  },
  {
   "cell_type": "code",
   "execution_count": 4,
   "id": "b894417f",
   "metadata": {},
   "outputs": [
    {
     "data": {
      "text/plain": [
       "994"
      ]
     },
     "execution_count": 4,
     "metadata": {},
     "output_type": "execute_result"
    }
   ],
   "source": [
    "# Check to see how many posts we successfully scraped\n",
    "len(ketoposts)"
   ]
  },
  {
   "cell_type": "code",
   "execution_count": 5,
   "id": "86275c55",
   "metadata": {},
   "outputs": [
    {
     "data": {
      "text/plain": [
       "742"
      ]
     },
     "execution_count": 5,
     "metadata": {},
     "output_type": "execute_result"
    }
   ],
   "source": [
    "# Check to see how many unique posts out of the posts we scraped\n",
    "len(set([p['data']['name'] for p in ketoposts]))"
   ]
  },
  {
   "cell_type": "markdown",
   "id": "bd025500",
   "metadata": {},
   "source": [
    "### Quit drinking subreddit"
   ]
  },
  {
   "cell_type": "code",
   "execution_count": 6,
   "id": "d7044a72",
   "metadata": {
    "scrolled": true
   },
   "outputs": [],
   "source": [
    "# Same loop to scrape posts from another subreddit\n",
    "drinkposts = []\n",
    "after = None\n",
    "for i in range(40):\n",
    "    if after == None:\n",
    "        params = {}\n",
    "    else:\n",
    "        params = {'after': after}\n",
    "    url = 'https://www.reddit.com/r/stopdrinking.json'\n",
    "    res = requests.get(url, params=params, headers=headers)\n",
    "    if res.status_code == 200:\n",
    "        the_json = res.json()\n",
    "        drinkposts.extend(the_json['data']['children'])\n",
    "        after = the_json['data']['after']\n",
    "    else:\n",
    "        print(res, status_code)\n",
    "        break\n",
    "    sleep_duration = random.randint(2, 6)\n",
    "    time.sleep(sleep_duration)"
   ]
  },
  {
   "cell_type": "code",
   "execution_count": 7,
   "id": "781e1018",
   "metadata": {},
   "outputs": [
    {
     "data": {
      "text/plain": [
       "995"
      ]
     },
     "execution_count": 7,
     "metadata": {},
     "output_type": "execute_result"
    }
   ],
   "source": [
    "# Check to see how many posts we successfully scrape\n",
    "len(drinkposts)"
   ]
  },
  {
   "cell_type": "code",
   "execution_count": 8,
   "id": "1ee1ff77",
   "metadata": {},
   "outputs": [
    {
     "data": {
      "text/plain": [
       "995"
      ]
     },
     "execution_count": 8,
     "metadata": {},
     "output_type": "execute_result"
    }
   ],
   "source": [
    "# Check to see how many unique posts out of the posts we scraped\n",
    "len(set([p['data']['name'] for p in drinkposts]))"
   ]
  },
  {
   "cell_type": "code",
   "execution_count": 9,
   "id": "fccfe5bb",
   "metadata": {},
   "outputs": [],
   "source": [
    "# Making the lists of posts into dataframes\n",
    "ketodf = pd.DataFrame(ketoposts)\n",
    "drinkdf = pd.DataFrame(drinkposts)"
   ]
  },
  {
   "cell_type": "code",
   "execution_count": 10,
   "id": "50bfeca6",
   "metadata": {},
   "outputs": [],
   "source": [
    "# Saving the dataframes into csv files\n",
    "ketodf.to_csv('keto.csv')\n",
    "drinkdf.to_csv('drink.csv')"
   ]
  },
  {
   "cell_type": "code",
   "execution_count": 11,
   "id": "7eac2b19",
   "metadata": {},
   "outputs": [
    {
     "name": "stdout",
     "output_type": "stream",
     "text": [
      "<class 'pandas.core.frame.DataFrame'>\n",
      "RangeIndex: 994 entries, 0 to 993\n",
      "Data columns (total 2 columns):\n",
      " #   Column  Non-Null Count  Dtype \n",
      "---  ------  --------------  ----- \n",
      " 0   kind    994 non-null    object\n",
      " 1   data    994 non-null    object\n",
      "dtypes: object(2)\n",
      "memory usage: 15.7+ KB\n"
     ]
    }
   ],
   "source": [
    "# Checking the dataframe from the first subreddit\n",
    "ketodf.info()"
   ]
  },
  {
   "cell_type": "code",
   "execution_count": 12,
   "id": "c2b5c88c",
   "metadata": {},
   "outputs": [
    {
     "name": "stdout",
     "output_type": "stream",
     "text": [
      "<class 'pandas.core.frame.DataFrame'>\n",
      "RangeIndex: 995 entries, 0 to 994\n",
      "Data columns (total 2 columns):\n",
      " #   Column  Non-Null Count  Dtype \n",
      "---  ------  --------------  ----- \n",
      " 0   kind    995 non-null    object\n",
      " 1   data    995 non-null    object\n",
      "dtypes: object(2)\n",
      "memory usage: 15.7+ KB\n"
     ]
    }
   ],
   "source": [
    "# Checking the dataframe from the second subreddit\n",
    "drinkdf.info()"
   ]
  },
  {
   "cell_type": "code",
   "execution_count": 13,
   "id": "b7cf14a3",
   "metadata": {
    "scrolled": true
   },
   "outputs": [
    {
     "data": {
      "text/plain": [
       "(994, 2)"
      ]
     },
     "execution_count": 13,
     "metadata": {},
     "output_type": "execute_result"
    }
   ],
   "source": [
    "ketodf.shape"
   ]
  },
  {
   "cell_type": "markdown",
   "id": "ac253d81",
   "metadata": {},
   "source": [
    "### Extracting useful data: title, post and name"
   ]
  },
  {
   "cell_type": "code",
   "execution_count": 14,
   "id": "4a4be6c0",
   "metadata": {},
   "outputs": [],
   "source": [
    "# Creating a dictionary from the dataframe with only name, title and post\n",
    "ketotext = {}\n",
    "for i in range(ketodf.shape[0]):\n",
    "    ketotext[i] = {\n",
    "        'title': ketodf['data'][i]['title'],\n",
    "        'post': ketodf['data'][i]['selftext'],\n",
    "        'name': ketodf['data'][i]['name']\n",
    "    }"
   ]
  },
  {
   "cell_type": "code",
   "execution_count": 15,
   "id": "c2d255b3",
   "metadata": {},
   "outputs": [],
   "source": [
    "# Making the dictionary into a dataframe\n",
    "ketodf1 = pd.DataFrame(ketotext)"
   ]
  },
  {
   "cell_type": "code",
   "execution_count": 16,
   "id": "a11a231e",
   "metadata": {},
   "outputs": [],
   "source": [
    "# Transposing the dataframe\n",
    "ketodf1 = ketodf1.T"
   ]
  },
  {
   "cell_type": "code",
   "execution_count": 17,
   "id": "df28a859",
   "metadata": {},
   "outputs": [
    {
     "data": {
      "text/html": [
       "<div>\n",
       "<style scoped>\n",
       "    .dataframe tbody tr th:only-of-type {\n",
       "        vertical-align: middle;\n",
       "    }\n",
       "\n",
       "    .dataframe tbody tr th {\n",
       "        vertical-align: top;\n",
       "    }\n",
       "\n",
       "    .dataframe thead th {\n",
       "        text-align: right;\n",
       "    }\n",
       "</style>\n",
       "<table border=\"1\" class=\"dataframe\">\n",
       "  <thead>\n",
       "    <tr style=\"text-align: right;\">\n",
       "      <th></th>\n",
       "      <th>title</th>\n",
       "      <th>post</th>\n",
       "      <th>name</th>\n",
       "    </tr>\n",
       "  </thead>\n",
       "  <tbody>\n",
       "    <tr>\n",
       "      <th>0</th>\n",
       "      <td>[2021-06-16] - /r/keto Beginners &amp;amp; Communi...</td>\n",
       "      <td>Hello /r/keto Community!\\n\\nPlease use this su...</td>\n",
       "      <td>t3_o11ass</td>\n",
       "    </tr>\n",
       "    <tr>\n",
       "      <th>1</th>\n",
       "      <td>[2021-06-16] - [Workout Wednesday] – What’s yo...</td>\n",
       "      <td>Hey /r/keto!\\n\\nRunning? Lifting? Yoga? Swimmi...</td>\n",
       "      <td>t3_o11as5</td>\n",
       "    </tr>\n",
       "    <tr>\n",
       "      <th>2</th>\n",
       "      <td>Keto transformation.. Over 77LB / 35kg gone, a...</td>\n",
       "      <td>https://imgur.com/a/Fce07sf\\n\\nHI all, hopeful...</td>\n",
       "      <td>t3_o1fb8a</td>\n",
       "    </tr>\n",
       "    <tr>\n",
       "      <th>3</th>\n",
       "      <td>36 days, 15.2 pounds gone!</td>\n",
       "      <td>Good morning Keto peeps. This is my third atte...</td>\n",
       "      <td>t3_o157o7</td>\n",
       "    </tr>\n",
       "    <tr>\n",
       "      <th>4</th>\n",
       "      <td>Year 2 Update - Slow Progress, but getting the...</td>\n",
       "      <td>Hey everyone! What a crazy year! \\n\\nThis is a...</td>\n",
       "      <td>t3_o1hkuz</td>\n",
       "    </tr>\n",
       "  </tbody>\n",
       "</table>\n",
       "</div>"
      ],
      "text/plain": [
       "                                               title  \\\n",
       "0  [2021-06-16] - /r/keto Beginners &amp; Communi...   \n",
       "1  [2021-06-16] - [Workout Wednesday] – What’s yo...   \n",
       "2  Keto transformation.. Over 77LB / 35kg gone, a...   \n",
       "3                         36 days, 15.2 pounds gone!   \n",
       "4  Year 2 Update - Slow Progress, but getting the...   \n",
       "\n",
       "                                                post       name  \n",
       "0  Hello /r/keto Community!\\n\\nPlease use this su...  t3_o11ass  \n",
       "1  Hey /r/keto!\\n\\nRunning? Lifting? Yoga? Swimmi...  t3_o11as5  \n",
       "2  https://imgur.com/a/Fce07sf\\n\\nHI all, hopeful...  t3_o1fb8a  \n",
       "3  Good morning Keto peeps. This is my third atte...  t3_o157o7  \n",
       "4  Hey everyone! What a crazy year! \\n\\nThis is a...  t3_o1hkuz  "
      ]
     },
     "execution_count": 17,
     "metadata": {},
     "output_type": "execute_result"
    }
   ],
   "source": [
    "# Checking the dataframe\n",
    "ketodf1.head()"
   ]
  },
  {
   "cell_type": "code",
   "execution_count": 18,
   "id": "b7031afc",
   "metadata": {},
   "outputs": [],
   "source": [
    "# Repeat the same steps for the dataframe from the second subreddit\n",
    "drinktext = {}\n",
    "for i in range(drinkdf.shape[0]):\n",
    "    drinktext[i] = {\n",
    "        'title': drinkdf['data'][i]['title'],\n",
    "        'post': drinkdf['data'][i]['selftext'],\n",
    "        'name': drinkdf['data'][i]['name']\n",
    "    }"
   ]
  },
  {
   "cell_type": "code",
   "execution_count": 19,
   "id": "a919ae3d",
   "metadata": {},
   "outputs": [],
   "source": [
    "drinkdf1 = pd.DataFrame(drinktext)"
   ]
  },
  {
   "cell_type": "code",
   "execution_count": 20,
   "id": "a112eaa2",
   "metadata": {},
   "outputs": [],
   "source": [
    "drinkdf1 = drinkdf1.T"
   ]
  },
  {
   "cell_type": "code",
   "execution_count": 21,
   "id": "08731d1a",
   "metadata": {
    "scrolled": true
   },
   "outputs": [
    {
     "data": {
      "text/html": [
       "<div>\n",
       "<style scoped>\n",
       "    .dataframe tbody tr th:only-of-type {\n",
       "        vertical-align: middle;\n",
       "    }\n",
       "\n",
       "    .dataframe tbody tr th {\n",
       "        vertical-align: top;\n",
       "    }\n",
       "\n",
       "    .dataframe thead th {\n",
       "        text-align: right;\n",
       "    }\n",
       "</style>\n",
       "<table border=\"1\" class=\"dataframe\">\n",
       "  <thead>\n",
       "    <tr style=\"text-align: right;\">\n",
       "      <th></th>\n",
       "      <th>title</th>\n",
       "      <th>post</th>\n",
       "      <th>name</th>\n",
       "    </tr>\n",
       "  </thead>\n",
       "  <tbody>\n",
       "    <tr>\n",
       "      <th>0</th>\n",
       "      <td>What’s Up Wednesday</td>\n",
       "      <td>It’s that day again. Guess what day it is? Hap...</td>\n",
       "      <td>t3_o0z9ja</td>\n",
       "    </tr>\n",
       "    <tr>\n",
       "      <th>1</th>\n",
       "      <td>The Daily Check-In for Wednesday, June 16th: J...</td>\n",
       "      <td>*We may be anonymous strangers on the internet...</td>\n",
       "      <td>t3_o0z9nf</td>\n",
       "    </tr>\n",
       "    <tr>\n",
       "      <th>2</th>\n",
       "      <td>Marriage is Over</td>\n",
       "      <td>My wife, my best friend, my everything, saved ...</td>\n",
       "      <td>t3_o16z5e</td>\n",
       "    </tr>\n",
       "    <tr>\n",
       "      <th>3</th>\n",
       "      <td>Sobriety did this.</td>\n",
       "      <td>I just got offered my dream position with an i...</td>\n",
       "      <td>t3_o1h9vc</td>\n",
       "    </tr>\n",
       "    <tr>\n",
       "      <th>4</th>\n",
       "      <td>30 days but forgot two bottles...</td>\n",
       "      <td>I'm a month sober, after I had a total psychot...</td>\n",
       "      <td>t3_o1kqgt</td>\n",
       "    </tr>\n",
       "  </tbody>\n",
       "</table>\n",
       "</div>"
      ],
      "text/plain": [
       "                                               title  \\\n",
       "0                                What’s Up Wednesday   \n",
       "1  The Daily Check-In for Wednesday, June 16th: J...   \n",
       "2                                   Marriage is Over   \n",
       "3                                 Sobriety did this.   \n",
       "4                  30 days but forgot two bottles...   \n",
       "\n",
       "                                                post       name  \n",
       "0  It’s that day again. Guess what day it is? Hap...  t3_o0z9ja  \n",
       "1  *We may be anonymous strangers on the internet...  t3_o0z9nf  \n",
       "2  My wife, my best friend, my everything, saved ...  t3_o16z5e  \n",
       "3  I just got offered my dream position with an i...  t3_o1h9vc  \n",
       "4  I'm a month sober, after I had a total psychot...  t3_o1kqgt  "
      ]
     },
     "execution_count": 21,
     "metadata": {},
     "output_type": "execute_result"
    }
   ],
   "source": [
    "drinkdf1.head()"
   ]
  },
  {
   "cell_type": "markdown",
   "id": "a775db50",
   "metadata": {},
   "source": [
    "## Data cleaning and EDA"
   ]
  },
  {
   "cell_type": "code",
   "execution_count": 22,
   "id": "db3bfe0d",
   "metadata": {},
   "outputs": [
    {
     "data": {
      "text/plain": [
       "title    0\n",
       "post     0\n",
       "name     0\n",
       "dtype: int64"
      ]
     },
     "execution_count": 22,
     "metadata": {},
     "output_type": "execute_result"
    }
   ],
   "source": [
    "# Checking for null\n",
    "ketodf1.isnull().sum()"
   ]
  },
  {
   "cell_type": "code",
   "execution_count": 23,
   "id": "8bae95a5",
   "metadata": {},
   "outputs": [
    {
     "data": {
      "text/plain": [
       "title    0\n",
       "post     0\n",
       "name     0\n",
       "dtype: int64"
      ]
     },
     "execution_count": 23,
     "metadata": {},
     "output_type": "execute_result"
    }
   ],
   "source": [
    "drinkdf1.isnull().sum()"
   ]
  },
  {
   "cell_type": "code",
   "execution_count": 24,
   "id": "b6474e57",
   "metadata": {},
   "outputs": [
    {
     "data": {
      "text/plain": [
       "title    0\n",
       "post     0\n",
       "name     0\n",
       "dtype: int64"
      ]
     },
     "execution_count": 24,
     "metadata": {},
     "output_type": "execute_result"
    }
   ],
   "source": [
    "# Checking for blank\n",
    "(ketodf1 == '').sum()"
   ]
  },
  {
   "cell_type": "code",
   "execution_count": 25,
   "id": "b69b3aac",
   "metadata": {},
   "outputs": [
    {
     "data": {
      "text/plain": [
       "title    0\n",
       "post     0\n",
       "name     0\n",
       "dtype: int64"
      ]
     },
     "execution_count": 25,
     "metadata": {},
     "output_type": "execute_result"
    }
   ],
   "source": [
    "(drinkdf1 == '').sum()"
   ]
  },
  {
   "cell_type": "markdown",
   "id": "5053a739",
   "metadata": {},
   "source": [
    "Null and blank values in data can affect the accuracy of the prediction. Upon inspection, no null or blank are observed in either dataset."
   ]
  },
  {
   "cell_type": "code",
   "execution_count": 26,
   "id": "63ca064d",
   "metadata": {},
   "outputs": [],
   "source": [
    "# Using 'name' column as reference, duplicated rows are dropped\n",
    "ketodf1.drop_duplicates(subset=['name'], keep='first', inplace=True)"
   ]
  },
  {
   "cell_type": "code",
   "execution_count": 27,
   "id": "45c77b95",
   "metadata": {},
   "outputs": [
    {
     "name": "stdout",
     "output_type": "stream",
     "text": [
      "<class 'pandas.core.frame.DataFrame'>\n",
      "Int64Index: 742 entries, 0 to 741\n",
      "Data columns (total 3 columns):\n",
      " #   Column  Non-Null Count  Dtype \n",
      "---  ------  --------------  ----- \n",
      " 0   title   742 non-null    object\n",
      " 1   post    742 non-null    object\n",
      " 2   name    742 non-null    object\n",
      "dtypes: object(3)\n",
      "memory usage: 23.2+ KB\n"
     ]
    }
   ],
   "source": [
    "ketodf1.info()"
   ]
  },
  {
   "cell_type": "markdown",
   "id": "48180061",
   "metadata": {},
   "source": [
    "There are no duplicated rows in drinkdf so no action required in this step"
   ]
  },
  {
   "cell_type": "code",
   "execution_count": 28,
   "id": "8a75140a",
   "metadata": {},
   "outputs": [],
   "source": [
    "# Saving the dataframes to csv\n",
    "ketodf1.to_csv('./data/ketotextdf.csv')\n",
    "drinkdf1.to_csv('./data/drinktextdf.csv')"
   ]
  },
  {
   "cell_type": "code",
   "execution_count": 2,
   "id": "0d449b5a",
   "metadata": {},
   "outputs": [],
   "source": [
    "# Reading the csv files\n",
    "ketodf = pd.read_csv('./data/ketotextdf.csv')\n",
    "drinkdf = pd.read_csv('./data/drinktextdf.csv')"
   ]
  },
  {
   "cell_type": "code",
   "execution_count": 3,
   "id": "eb53211d",
   "metadata": {},
   "outputs": [
    {
     "data": {
      "text/html": [
       "<div>\n",
       "<style scoped>\n",
       "    .dataframe tbody tr th:only-of-type {\n",
       "        vertical-align: middle;\n",
       "    }\n",
       "\n",
       "    .dataframe tbody tr th {\n",
       "        vertical-align: top;\n",
       "    }\n",
       "\n",
       "    .dataframe thead th {\n",
       "        text-align: right;\n",
       "    }\n",
       "</style>\n",
       "<table border=\"1\" class=\"dataframe\">\n",
       "  <thead>\n",
       "    <tr style=\"text-align: right;\">\n",
       "      <th></th>\n",
       "      <th>Unnamed: 0</th>\n",
       "      <th>title</th>\n",
       "      <th>post</th>\n",
       "      <th>name</th>\n",
       "    </tr>\n",
       "  </thead>\n",
       "  <tbody>\n",
       "    <tr>\n",
       "      <th>0</th>\n",
       "      <td>0</td>\n",
       "      <td>[2021-06-16] - /r/keto Beginners &amp;amp; Communi...</td>\n",
       "      <td>Hello /r/keto Community!\\n\\nPlease use this su...</td>\n",
       "      <td>t3_o11ass</td>\n",
       "    </tr>\n",
       "    <tr>\n",
       "      <th>1</th>\n",
       "      <td>1</td>\n",
       "      <td>[2021-06-16] - [Workout Wednesday] – What’s yo...</td>\n",
       "      <td>Hey /r/keto!\\n\\nRunning? Lifting? Yoga? Swimmi...</td>\n",
       "      <td>t3_o11as5</td>\n",
       "    </tr>\n",
       "    <tr>\n",
       "      <th>2</th>\n",
       "      <td>2</td>\n",
       "      <td>Keto transformation.. Over 77LB / 35kg gone, a...</td>\n",
       "      <td>https://imgur.com/a/Fce07sf\\n\\nHI all, hopeful...</td>\n",
       "      <td>t3_o1fb8a</td>\n",
       "    </tr>\n",
       "    <tr>\n",
       "      <th>3</th>\n",
       "      <td>3</td>\n",
       "      <td>36 days, 15.2 pounds gone!</td>\n",
       "      <td>Good morning Keto peeps. This is my third atte...</td>\n",
       "      <td>t3_o157o7</td>\n",
       "    </tr>\n",
       "    <tr>\n",
       "      <th>4</th>\n",
       "      <td>4</td>\n",
       "      <td>Year 2 Update - Slow Progress, but getting the...</td>\n",
       "      <td>Hey everyone! What a crazy year! \\n\\nThis is a...</td>\n",
       "      <td>t3_o1hkuz</td>\n",
       "    </tr>\n",
       "  </tbody>\n",
       "</table>\n",
       "</div>"
      ],
      "text/plain": [
       "   Unnamed: 0                                              title  \\\n",
       "0           0  [2021-06-16] - /r/keto Beginners &amp; Communi...   \n",
       "1           1  [2021-06-16] - [Workout Wednesday] – What’s yo...   \n",
       "2           2  Keto transformation.. Over 77LB / 35kg gone, a...   \n",
       "3           3                         36 days, 15.2 pounds gone!   \n",
       "4           4  Year 2 Update - Slow Progress, but getting the...   \n",
       "\n",
       "                                                post       name  \n",
       "0  Hello /r/keto Community!\\n\\nPlease use this su...  t3_o11ass  \n",
       "1  Hey /r/keto!\\n\\nRunning? Lifting? Yoga? Swimmi...  t3_o11as5  \n",
       "2  https://imgur.com/a/Fce07sf\\n\\nHI all, hopeful...  t3_o1fb8a  \n",
       "3  Good morning Keto peeps. This is my third atte...  t3_o157o7  \n",
       "4  Hey everyone! What a crazy year! \\n\\nThis is a...  t3_o1hkuz  "
      ]
     },
     "execution_count": 3,
     "metadata": {},
     "output_type": "execute_result"
    }
   ],
   "source": [
    "ketodf.head()"
   ]
  },
  {
   "cell_type": "code",
   "execution_count": 3,
   "id": "a7c7c4e9",
   "metadata": {},
   "outputs": [],
   "source": [
    "# Dropping the Unnamed column\n",
    "ketodf.drop('Unnamed: 0', axis=1, inplace=True)\n",
    "drinkdf.drop('Unnamed: 0', axis=1, inplace=True)"
   ]
  },
  {
   "cell_type": "code",
   "execution_count": 4,
   "id": "1ead2ed8",
   "metadata": {},
   "outputs": [],
   "source": [
    "# Reordering the columns\n",
    "ketodf = ketodf[['name', 'title', 'post']]\n",
    "drinkdf = drinkdf[['name', 'title', 'post']]"
   ]
  },
  {
   "cell_type": "code",
   "execution_count": 6,
   "id": "bbfc0804",
   "metadata": {},
   "outputs": [
    {
     "data": {
      "text/html": [
       "<div>\n",
       "<style scoped>\n",
       "    .dataframe tbody tr th:only-of-type {\n",
       "        vertical-align: middle;\n",
       "    }\n",
       "\n",
       "    .dataframe tbody tr th {\n",
       "        vertical-align: top;\n",
       "    }\n",
       "\n",
       "    .dataframe thead th {\n",
       "        text-align: right;\n",
       "    }\n",
       "</style>\n",
       "<table border=\"1\" class=\"dataframe\">\n",
       "  <thead>\n",
       "    <tr style=\"text-align: right;\">\n",
       "      <th></th>\n",
       "      <th>name</th>\n",
       "      <th>title</th>\n",
       "      <th>post</th>\n",
       "    </tr>\n",
       "  </thead>\n",
       "  <tbody>\n",
       "    <tr>\n",
       "      <th>0</th>\n",
       "      <td>t3_o11ass</td>\n",
       "      <td>[2021-06-16] - /r/keto Beginners &amp;amp; Communi...</td>\n",
       "      <td>Hello /r/keto Community!\\n\\nPlease use this su...</td>\n",
       "    </tr>\n",
       "    <tr>\n",
       "      <th>1</th>\n",
       "      <td>t3_o11as5</td>\n",
       "      <td>[2021-06-16] - [Workout Wednesday] – What’s yo...</td>\n",
       "      <td>Hey /r/keto!\\n\\nRunning? Lifting? Yoga? Swimmi...</td>\n",
       "    </tr>\n",
       "    <tr>\n",
       "      <th>2</th>\n",
       "      <td>t3_o1fb8a</td>\n",
       "      <td>Keto transformation.. Over 77LB / 35kg gone, a...</td>\n",
       "      <td>https://imgur.com/a/Fce07sf\\n\\nHI all, hopeful...</td>\n",
       "    </tr>\n",
       "    <tr>\n",
       "      <th>3</th>\n",
       "      <td>t3_o157o7</td>\n",
       "      <td>36 days, 15.2 pounds gone!</td>\n",
       "      <td>Good morning Keto peeps. This is my third atte...</td>\n",
       "    </tr>\n",
       "    <tr>\n",
       "      <th>4</th>\n",
       "      <td>t3_o1hkuz</td>\n",
       "      <td>Year 2 Update - Slow Progress, but getting the...</td>\n",
       "      <td>Hey everyone! What a crazy year! \\n\\nThis is a...</td>\n",
       "    </tr>\n",
       "  </tbody>\n",
       "</table>\n",
       "</div>"
      ],
      "text/plain": [
       "        name                                              title  \\\n",
       "0  t3_o11ass  [2021-06-16] - /r/keto Beginners &amp; Communi...   \n",
       "1  t3_o11as5  [2021-06-16] - [Workout Wednesday] – What’s yo...   \n",
       "2  t3_o1fb8a  Keto transformation.. Over 77LB / 35kg gone, a...   \n",
       "3  t3_o157o7                         36 days, 15.2 pounds gone!   \n",
       "4  t3_o1hkuz  Year 2 Update - Slow Progress, but getting the...   \n",
       "\n",
       "                                                post  \n",
       "0  Hello /r/keto Community!\\n\\nPlease use this su...  \n",
       "1  Hey /r/keto!\\n\\nRunning? Lifting? Yoga? Swimmi...  \n",
       "2  https://imgur.com/a/Fce07sf\\n\\nHI all, hopeful...  \n",
       "3  Good morning Keto peeps. This is my third atte...  \n",
       "4  Hey everyone! What a crazy year! \\n\\nThis is a...  "
      ]
     },
     "execution_count": 6,
     "metadata": {},
     "output_type": "execute_result"
    }
   ],
   "source": [
    "ketodf.head()"
   ]
  },
  {
   "cell_type": "code",
   "execution_count": 5,
   "id": "b79a8b91",
   "metadata": {},
   "outputs": [],
   "source": [
    "# Creating a new column 'message' by merging 'title' and 'post' columns\n",
    "ketodf['message'] = ketodf['title'] + ketodf['post']\n",
    "drinkdf['message'] = drinkdf['title'] + drinkdf['post']"
   ]
  },
  {
   "cell_type": "code",
   "execution_count": 6,
   "id": "c57588df",
   "metadata": {},
   "outputs": [],
   "source": [
    "# Dropping the 'title' and 'post' columns\n",
    "ketodf.drop(['title', 'post'], axis=1, inplace=True)\n",
    "drinkdf.drop(['title', 'post'], axis=1, inplace=True)"
   ]
  },
  {
   "cell_type": "code",
   "execution_count": 7,
   "id": "79c711c7",
   "metadata": {},
   "outputs": [],
   "source": [
    "# Creating a new column 'target' to label each data sets\n",
    "ketodf['target'] = 0\n",
    "drinkdf['target'] = 1"
   ]
  },
  {
   "cell_type": "code",
   "execution_count": 8,
   "id": "cb82a031",
   "metadata": {},
   "outputs": [],
   "source": [
    "# Merging both datasets into combine dataset\n",
    "combine = pd.concat([ketodf, drinkdf], ignore_index=True)"
   ]
  },
  {
   "cell_type": "code",
   "execution_count": 11,
   "id": "a6230ca5",
   "metadata": {},
   "outputs": [
    {
     "data": {
      "text/plain": [
       "1    995\n",
       "0    742\n",
       "Name: target, dtype: int64"
      ]
     },
     "execution_count": 11,
     "metadata": {},
     "output_type": "execute_result"
    }
   ],
   "source": [
    "# Checking number of rows from each data sets\n",
    "combine.target.value_counts()"
   ]
  },
  {
   "cell_type": "code",
   "execution_count": 12,
   "id": "d893b4d6",
   "metadata": {
    "scrolled": true
   },
   "outputs": [
    {
     "data": {
      "text/html": [
       "<div>\n",
       "<style scoped>\n",
       "    .dataframe tbody tr th:only-of-type {\n",
       "        vertical-align: middle;\n",
       "    }\n",
       "\n",
       "    .dataframe tbody tr th {\n",
       "        vertical-align: top;\n",
       "    }\n",
       "\n",
       "    .dataframe thead th {\n",
       "        text-align: right;\n",
       "    }\n",
       "</style>\n",
       "<table border=\"1\" class=\"dataframe\">\n",
       "  <thead>\n",
       "    <tr style=\"text-align: right;\">\n",
       "      <th></th>\n",
       "      <th>name</th>\n",
       "      <th>message</th>\n",
       "      <th>target</th>\n",
       "    </tr>\n",
       "  </thead>\n",
       "  <tbody>\n",
       "    <tr>\n",
       "      <th>0</th>\n",
       "      <td>t3_o11ass</td>\n",
       "      <td>[2021-06-16] - /r/keto Beginners &amp;amp; Communi...</td>\n",
       "      <td>0</td>\n",
       "    </tr>\n",
       "    <tr>\n",
       "      <th>1</th>\n",
       "      <td>t3_o11as5</td>\n",
       "      <td>[2021-06-16] - [Workout Wednesday] – What’s yo...</td>\n",
       "      <td>0</td>\n",
       "    </tr>\n",
       "    <tr>\n",
       "      <th>2</th>\n",
       "      <td>t3_o1fb8a</td>\n",
       "      <td>Keto transformation.. Over 77LB / 35kg gone, a...</td>\n",
       "      <td>0</td>\n",
       "    </tr>\n",
       "    <tr>\n",
       "      <th>3</th>\n",
       "      <td>t3_o157o7</td>\n",
       "      <td>36 days, 15.2 pounds gone!Good morning Keto pe...</td>\n",
       "      <td>0</td>\n",
       "    </tr>\n",
       "    <tr>\n",
       "      <th>4</th>\n",
       "      <td>t3_o1hkuz</td>\n",
       "      <td>Year 2 Update - Slow Progress, but getting the...</td>\n",
       "      <td>0</td>\n",
       "    </tr>\n",
       "  </tbody>\n",
       "</table>\n",
       "</div>"
      ],
      "text/plain": [
       "        name                                            message  target\n",
       "0  t3_o11ass  [2021-06-16] - /r/keto Beginners &amp; Communi...       0\n",
       "1  t3_o11as5  [2021-06-16] - [Workout Wednesday] – What’s yo...       0\n",
       "2  t3_o1fb8a  Keto transformation.. Over 77LB / 35kg gone, a...       0\n",
       "3  t3_o157o7  36 days, 15.2 pounds gone!Good morning Keto pe...       0\n",
       "4  t3_o1hkuz  Year 2 Update - Slow Progress, but getting the...       0"
      ]
     },
     "execution_count": 12,
     "metadata": {},
     "output_type": "execute_result"
    }
   ],
   "source": [
    "combine.head()"
   ]
  },
  {
   "cell_type": "markdown",
   "id": "c7c4314e",
   "metadata": {},
   "source": [
    "## Pre-processing"
   ]
  },
  {
   "cell_type": "code",
   "execution_count": 9,
   "id": "881d44a3",
   "metadata": {},
   "outputs": [],
   "source": [
    "# Defining a fuction to pre-process the data for modeling\n",
    "def message_to_words(raw_message):\n",
    "    # Function to convert a raw message to a string of words\n",
    "    # The input is a single string (a raw reddit message), and\n",
    "    # the output is a single string (a preprocessed reddit message)\n",
    "\n",
    "    # 1. Remove Url.\n",
    "    message_text = re.sub('http[s]?://\\S+', '', raw_message)\n",
    "\n",
    "    # 2. Remove non-letters.\n",
    "    letters_only = re.sub(\"[^a-zA-Z]\", \" \", message_text)\n",
    "\n",
    "    # 3. Convert to lower case, split into individual words.\n",
    "    words = letters_only.lower().split()\n",
    "\n",
    "    # 4. Converting the list of stop words to a set for faster searching\n",
    "    stops = set(stopwords.words('english'))\n",
    "\n",
    "    # 5. Remove stopwords.\n",
    "    meaningful_words = [w for w in words if w not in stops]\n",
    "\n",
    "    # 6. Remove subreddit and words closely related to subreddit.\n",
    "    subred = [\n",
    "        'keto', 'ketogenic', 'diet', 'dieting', 'drink', 'drank', 'drunk',\n",
    "        'drinks', 'drinking', 'alcohol', 'alcohols', 'alcoholic', 'alcoholics',\n",
    "        'alcoholism', 'stopdrinking'\n",
    "    ]\n",
    "    clean_words = [x for x in meaningful_words if x not in subred]\n",
    "\n",
    "    # 6. Join the words back into one string separated by space,\n",
    "    # and return the result.\n",
    "    return (\" \".join(clean_words))\n",
    "\n",
    "# code from lesson 05.05 nlp-i"
   ]
  },
  {
   "cell_type": "code",
   "execution_count": 10,
   "id": "33c2f063",
   "metadata": {},
   "outputs": [
    {
     "name": "stdout",
     "output_type": "stream",
     "text": [
      "There are 1737 messages.\n"
     ]
    }
   ],
   "source": [
    "# Get the number of messages based on the dataframe size.\n",
    "total_messages = combine.shape[0]\n",
    "print(f'There are {total_messages} messages.')"
   ]
  },
  {
   "cell_type": "code",
   "execution_count": 11,
   "id": "3c7e96ca",
   "metadata": {},
   "outputs": [
    {
     "name": "stdout",
     "output_type": "stream",
     "text": [
      "Cleaning and parsing the combine set reddit messages...\n",
      "Message 100 of 1737.\n",
      "Message 200 of 1737.\n",
      "Message 300 of 1737.\n",
      "Message 400 of 1737.\n",
      "Message 500 of 1737.\n",
      "Message 600 of 1737.\n",
      "Message 700 of 1737.\n",
      "Message 800 of 1737.\n",
      "Message 900 of 1737.\n",
      "Message 1000 of 1737.\n",
      "Message 1100 of 1737.\n",
      "Message 1200 of 1737.\n",
      "Message 1300 of 1737.\n",
      "Message 1400 of 1737.\n",
      "Message 1500 of 1737.\n",
      "Message 1600 of 1737.\n",
      "Message 1700 of 1737.\n"
     ]
    }
   ],
   "source": [
    "# Initialize an empty list to hold the clean messages.\n",
    "clean_messages = []\n",
    "\n",
    "print(\"Cleaning and parsing the combine set reddit messages...\")\n",
    "\n",
    "# Instantiate counter.\n",
    "j = 0\n",
    "\n",
    "# For every message in our list...\n",
    "for message in combine['message']:\n",
    "\n",
    "    # Convert message to words, then append to clean_messages.\n",
    "    clean_messages.append(message_to_words(message))\n",
    "\n",
    "    # If the index is divisible by 100, print a message.\n",
    "    if (j + 1) % 100 == 0:\n",
    "        print(f'Message {j + 1} of {total_messages}.')\n",
    "\n",
    "    j += 1"
   ]
  },
  {
   "cell_type": "code",
   "execution_count": 12,
   "id": "7c6bb10d",
   "metadata": {},
   "outputs": [],
   "source": [
    "# Replacing message column with clean_message\n",
    "combine['message'] = clean_messages"
   ]
  },
  {
   "cell_type": "code",
   "execution_count": 13,
   "id": "3c891eb4",
   "metadata": {},
   "outputs": [],
   "source": [
    "# Saving combine dataframe to csv\n",
    "combine.to_csv('./data/combine.csv')"
   ]
  },
  {
   "cell_type": "code",
   "execution_count": 2,
   "id": "0aacba1f",
   "metadata": {},
   "outputs": [],
   "source": [
    "# Read in combine.csv file\n",
    "combine = pd.read_csv('./data/combine.csv')"
   ]
  },
  {
   "cell_type": "code",
   "execution_count": 3,
   "id": "62b82a6b",
   "metadata": {},
   "outputs": [],
   "source": [
    "combine.drop('Unnamed: 0', axis=1, inplace=True)"
   ]
  },
  {
   "cell_type": "markdown",
   "id": "6fc210e7",
   "metadata": {},
   "source": [
    "## Modeling"
   ]
  },
  {
   "cell_type": "code",
   "execution_count": 4,
   "id": "69c03ce4",
   "metadata": {},
   "outputs": [],
   "source": [
    "# Setting X and y\n",
    "X = combine['message']\n",
    "y = combine['target']"
   ]
  },
  {
   "cell_type": "code",
   "execution_count": 6,
   "id": "9e852dc4",
   "metadata": {},
   "outputs": [],
   "source": [
    "# Splitting X and y into train and test for modeling\n",
    "X_train, X_test, y_train, y_test = train_test_split(X,\n",
    "                                                    y,\n",
    "                                                    test_size=0.25,\n",
    "                                                    stratify=y,\n",
    "                                                    random_state=42)"
   ]
  },
  {
   "cell_type": "code",
   "execution_count": 7,
   "id": "3ebce450",
   "metadata": {
    "scrolled": true
   },
   "outputs": [
    {
     "data": {
      "text/plain": [
       "1    0.572414\n",
       "0    0.427586\n",
       "Name: target, dtype: float64"
      ]
     },
     "execution_count": 7,
     "metadata": {},
     "output_type": "execute_result"
    }
   ],
   "source": [
    "# Baseline accuracy\n",
    "y_test.value_counts(normalize=True)"
   ]
  },
  {
   "cell_type": "markdown",
   "id": "bf38b967",
   "metadata": {},
   "source": [
    "Baseline accuracy: 57.24%"
   ]
  },
  {
   "cell_type": "markdown",
   "id": "5b2fecb5",
   "metadata": {},
   "source": [
    "### CountVectorizer"
   ]
  },
  {
   "cell_type": "code",
   "execution_count": 8,
   "id": "252cfa8a",
   "metadata": {},
   "outputs": [],
   "source": [
    "# Instantiating countvectorizer\n",
    "cvec = CountVectorizer()"
   ]
  },
  {
   "cell_type": "code",
   "execution_count": 9,
   "id": "ecfb1e15",
   "metadata": {},
   "outputs": [],
   "source": [
    "# fit_transform() does two things: First, it fits the model and\n",
    "# learns the vocabulary; second, it transforms our training data\n",
    "# into feature vectors. The input to fit_transform should be a\n",
    "# list of strings.\n",
    "\n",
    "X_train_cvec = cvec.fit_transform(X_train)\n",
    "\n",
    "X_test_cvec = cvec.transform(X_test)"
   ]
  },
  {
   "cell_type": "code",
   "execution_count": 10,
   "id": "7ea3c28f",
   "metadata": {},
   "outputs": [
    {
     "name": "stdout",
     "output_type": "stream",
     "text": [
      "(1302, 10116)\n"
     ]
    }
   ],
   "source": [
    "print(X_train_cvec.shape)"
   ]
  },
  {
   "cell_type": "code",
   "execution_count": 11,
   "id": "e37dc6a1",
   "metadata": {},
   "outputs": [
    {
     "name": "stdout",
     "output_type": "stream",
     "text": [
      "(435, 10116)\n"
     ]
    }
   ],
   "source": [
    "print(X_test_cvec.shape)"
   ]
  },
  {
   "cell_type": "code",
   "execution_count": 12,
   "id": "6cd2eff3",
   "metadata": {},
   "outputs": [
    {
     "name": "stdout",
     "output_type": "stream",
     "text": [
      "['aa', 'abandon', 'abandoned', 'abandoning', 'abdominal', 'abilities', 'ability', 'abit', 'able', 'abnormal', 'abrasive', 'abs', 'absalom', 'abscess', 'absconding', 'absolute', 'absolutely', 'absorb', 'absorbed', 'absorbing', 'abstain', 'abstaining', 'absthen', 'abstinence', 'absurd', 'abuse', 'abused', 'abusing', 'abusive', 'abv', 'abysmal', 'acamprosate', 'accept', 'acceptable', 'acceptance', 'accepted', 'accepting', 'accepts', 'access', 'accessible', 'accident', 'accidentally', 'accidents', 'accompanied', 'accomplish', 'accomplishable', 'accomplished', 'accomplishment', 'accomplishments', 'according', 'account', 'accountability', 'accountable', 'accountablei', 'accounting', 'accounts', 'accross', 'accumulated', 'accuracy', 'accurate', 'accurately', 'accustomed', 'ace', 'acesulfame', 'acetone', 'ache', 'achieve', 'achieved', 'achievement', 'achieving', 'aching', 'achs', 'acid', 'acidic', 'acids', 'acne', 'acquaintance', 'acquiesced', 'across', 'act', 'acted', 'acting', 'action', 'actions', 'active', 'actively', 'activities', 'activity', 'acts', 'actual', 'actuality', 'actually', 'acute', 'ad', 'adapt', 'adaptationi', 'adapted', 'adaptedcontext', 'add', 'added', 'adderall', 'addict', 'addicted', 'addicteduntil', 'addiction', 'addictions', 'addictive', 'addicts', 'adding', 'addition', 'additional', 'additionally', 'additives', 'address', 'addressed', 'addressing', 'adds', 'adequate', 'adf', 'adhd', 'adhere', 'adherence', 'adhering', 'adieu', 'adios', 'adjust', 'adjusted', 'adjusting', 'adjustment', 'adjusts', 'admit', 'admitted', 'admittedly', 'admitting', 'adolescence', 'adoring', 'adrenaline', 'ads', 'adult', 'adulting', 'adults', 'advance', 'advanced', 'advantage', 'advantages', 'adventure', 'adverse', 'advert', 'advertise', 'advertised', 'advertisement', 'advertising', 'advice', 'advicegot', 'advicelong', 'advil', 'advise', 'advised', 'advocate', 'aerobic', 'aesthetics', 'af', 'afaik', 'affair', 'affect', 'affected', 'affecting', 'affectionately', 'affective', 'affects', 'affiliated', 'affinity', 'affirmed', 'affirming', 'afford', 'affording', 'afraid', 'aftermath', 'afternoon', 'aftertaste', 'afterward', 'afterwards', 'againhi', 'againi', 'againlast', 'againoh', 'againread', 'againwas', 'againwell', 'age', 'aged', 'agenda', 'ages', 'aggressive', 'ago', 'agonal', 'agonising', 'agonisingly', 'agonized', 'agony', 'agree', 'agreed', 'agressive', 'aha', 'ahead', 'ahem', 'ahh', 'ahhh', 'ahhhh', 'ahold', 'ai', 'aid', 'aided', 'aids', 'ailment', 'aim', 'aimed', 'aiming', 'aint', 'air', 'airborne', 'airport', 'airtight', 'airways', 'aka', 'ala', 'alanine', 'alarm', 'alarms', 'alas', 'albatross', 'album', 'alc', 'alchemy', 'alchol', 'alcholics', 'alcoholhello', 'alcoholicmy', 'alcoholicso', 'alcoholvery', 'aldi', 'ale', 'alert', 'alerted', 'aleve', 'alfredo', 'align', 'aligns', 'alike', 'alison', 'alive', 'alkali', 'allan', 'allegedly', 'allen', 'allergic', 'allergies', 'allergy', 'allergyi', 'alleviate', 'alli', 'allllll', 'allocation', 'allot', 'allotment', 'allotted', 'allow', 'allowance', 'allowed', 'allowing', 'allows', 'allulose', 'ally', 'almond', 'almonds', 'almost', 'alone', 'along', 'alot', 'already', 'alright', 'alrightthis', 'also', 'alt', 'altered', 'altering', 'alternate', 'alternative', 'alternatives', 'although', 'altitude', 'altogether', 'aluminum', 'alway', 'always', 'alzheimer', 'amalgamation', 'amalyse', 'amazed', 'amazement', 'amazes', 'amazing', 'amazingi', 'amazingly', 'amazon', 'amber', 'ambiguous', 'ambulance', 'amended', 'amends', 'american', 'amidst', 'amone', 'among', 'amongst', 'amount', 'amounts', 'amp', 'amran', 'amusement', 'amy', 'anal', 'analyzer', 'ancestors', 'anchor', 'anchorman', 'ancient', 'anecdotal', 'anecdote', 'anecdotes', 'anemia', 'anesthesia', 'aneurysm', 'anger', 'angrily', 'angry', 'angst', 'anguish', 'anhedonia', 'animal', 'animals', 'anime', 'ankle', 'annie', 'anniversary', 'anniversaryfeeling', 'annnd', 'announced', 'annoyed', 'annoying', 'annual', 'anonymous', 'another', 'answer', 'answered', 'answering', 'answers', 'antabus', 'antabuse', 'antacid', 'antacids', 'anthony', 'anti', 'antibiotics', 'anticipate', 'anticipating', 'antics', 'antidepressant', 'antidepressants', 'antidepressantsupdate', 'antisocial', 'antsyness', 'anxieties', 'anxiety', 'anxietyany', 'anxietyi', 'anxious', 'anxiousspent', 'anybody', 'anyhoo', 'anyhow', 'anymore', 'anymorei', 'anymoreso', 'anyone', 'anything', 'anytime', 'anyway', 'anyways', 'anywayyss', 'anywhere', 'anywho', 'aok', 'apart', 'apartment', 'apartments', 'apathy', 'apnea', 'apolipoprotein', 'apologies', 'apologize', 'apologized', 'apologizes', 'apologizing', 'apology', 'apologyhello', 'app', 'apparant', 'apparent', 'apparently', 'appealing', 'appear', 'appearance', 'appeared', 'appears', 'appease', 'appetite', 'apple', 'apples', 'applicable', 'application', 'applied', 'applies', 'apply', 'appointment', 'appointments', 'appreciate', 'appreciated', 'appreciatedhey', 'appreciating', 'appreciation', 'approach', 'approached', 'approaching', 'appropriate', 'approve', 'approved', 'approx', 'approximate', 'approximately', 'apps', 'apr', 'april', 'arby', 'archieving', 'area', 'areas', 'arent', 'arguably', 'argued', 'arguing', 'argument', 'argumentative', 'arguments', 'aria', 'ariatm', 'arises', 'arm', 'armed', 'armrests', 'arms', 'army', 'around', 'aroundi', 'arrange', 'arranged', 'array', 'arrest', 'arrested', 'arrestedjust', 'arrival', 'arrive', 'arrived', 'arse', 'art', 'arthritis', 'artichoke', 'article', 'articles', 'articulate', 'articulated', 'artificial', 'artificially', 'artisan', 'artist', 'arts', 'artsy', 'asap', 'ascension', 'asf', 'ashamed', 'asia', 'asian', 'aside', 'asistance', 'ask', 'asked', 'asking', 'asleep', 'asparagus', 'aspartame', 'aspect', 'aspects', 'aspirating', 'aspirations', 'aspiring', 'ass', 'assault', 'assaulted', 'assed', 'assess', 'assessing', 'asshey', 'asshole', 'assholes', 'assists', 'associated', 'assortment', 'assuage', 'assume', 'assumed', 'assuming', 'assuredness', 'assuring', 'ast', 'astaxanthin', 'asthma', 'astronaut', 'astronautswhen', 'aswell', 'ate', 'athlete', 'athletes', 'athletic', 'atkin', 'atkins', 'atkinsdoes', 'atleast', 'atm', 'atmosphere', 'attached', 'attachment', 'attack', 'attacked', 'attacks', 'attempt', 'attempted', 'attempthi', 'attempting', 'attempts', 'attend', 'attended', 'attending', 'attention', 'attia', 'attitude', 'attractive', 'attribute', 'audible', 'audio', 'auditory', 'augmentin', 'august', 'aunt', 'aura', 'austo', 'australia', 'authentic', 'auto', 'autobot', 'automatic', 'automatically', 'autopilot', 'avacado', 'available', 'avaliable', 'average', 'averaged', 'averaging', 'aversion', 'avg', 'avid', 'avocado', 'avocados', 'avoid', 'avoidance', 'avoided', 'avoiding', 'awaits', 'awake', 'awakening', 'awakenings', 'award', 'awards', 'aware', 'awareness', 'away', 'awe', 'awesome', 'awful', 'awhile', 'awkward', 'awkwardness', 'awoke', 'ayo', 'babble', 'babies', 'baby', 'babygirl', 'bac', 'bachelor', 'bachelorette', 'back', 'backfired', 'background', 'backhand', 'backpacking', 'backpain', 'backroad', 'backs', 'backstory', 'backwell', 'backwinewinewinewinewinewinewineiwnewimeiwnewinewineeinewinewinewinewinesinesieemwinewimeimewinewinewinewinewinewinewinewinewinewinewinewinewimewimewimewinewinewinewinewimewinewinewinewinewinewinewinewinewinewinewinewinewinewinewinewinewinewinewinewinewinewinewinewinewinewinewinewinewinewinewinewinewinewinewinewinewinewinewinewinewinewinewinewine', 'backyard', 'bacon', 'bacteria', 'bad', 'badass', 'badge', 'badgebot', 'badly', 'baffled', 'bag', 'bagel', 'bagged', 'baggie', 'baggins', 'bags', 'bai', 'bail', 'bailed', 'bake', 'baked', 'bakedcutie', 'baker', 'bakers', 'bakery', 'bakes', 'baking', 'balance', 'balanced', 'balancing', 'balcony', 'bald', 'baldspot', 'baldwin', 'ball', 'ballooned', 'ballpark', 'balls', 'balm', 'bam', 'bammmm', 'banana', 'band', 'bandages', 'bands', 'banging', 'banish', 'bank', 'banners', 'banning', 'bar', 'barbecue', 'barcode', 'bardoing', 'bare', 'barefoot', 'barely', 'bargaining', 'bariatric', 'barista', 'bark', 'barnes', 'barracks', 'barrell', 'barren', 'barrier', 'barriers', 'barring', 'bars', 'bartender', 'base', 'baseball', 'based', 'baseline', 'basement', 'bash', 'basic', 'basically', 'basics', 'basis', 'basket', 'basketball', 'bat', 'batch', 'bath', 'bathing', 'bathroom', 'bathrooms', 'batman', 'batmani', 'battle', 'battled', 'battling', 'bay', 'bb', 'bbq', 'bbqs', 'bc', 'bcs', 'bd', 'bday', 'beach', 'beachfor', 'bean', 'beans', 'beansordered', 'bear', 'bearable', 'beast', 'beat', 'beaten', 'beating', 'beats', 'beautiful', 'beautifully', 'became', 'become', 'becomes', 'becoming', 'bed', 'bedridden', 'bedroom', 'bedtime', 'beef', 'beer', 'beergaritas', 'beers', 'beershello', 'bees', 'befor', 'beforehand', 'beg', 'began', 'begged', 'begging', 'begin', 'beginner', 'beginneri', 'beginners', 'beginning', 'beginnings', 'begins', 'begun', 'behave', 'behaves', 'behaving', 'behavior', 'behavioral', 'behaviour', 'behavioural', 'behaviours', 'behind', 'behold', 'belated', 'belief', 'believable', 'believe', 'believed', 'believers', 'believing', 'bell', 'bellow', 'bells', 'belly', 'belong', 'belonging', 'belongings', 'belt', 'belts', 'belttoday', 'benches', 'bend', 'bender', 'benders', 'bending', 'beneficial', 'benefit', 'benefits', 'benevolent', 'benzodiazepines', 'benzos', 'berating', 'berberine', 'bergen', 'berries', 'berry', 'beside', 'besides', 'best', 'bestowed', 'bet', 'beta', 'betrayed', 'better', 'betterit', 'betty', 'beverage', 'beverages', 'beyond', 'bf', 'bg', 'bias', 'big', 'bigger', 'biggest', 'bigtex', 'bigtexan', 'bigtexans', 'bigtime', 'bike', 'biking', 'bikini', 'bile', 'bills', 'billy', 'biltong', 'bin', 'binge', 'binged', 'binges', 'binging', 'binginghi', 'bins', 'bio', 'bioactive', 'biochemistry', 'biological', 'biologically', 'biologist', 'biomarkers', 'biome', 'biotin', 'bipolar', 'bipolari', 'birch', 'bird', 'birds', 'birth', 'birthday', 'birthdayhello', 'birthdayi', 'birthdays', 'biscuits', 'bisglycinate', 'bismol', 'bit', 'bitch', 'bitchiness', 'bitchwell', 'bite', 'bites', 'bits', 'bitter', 'bitterness', 'biweekly', 'bizarre', 'bjj', 'black', 'blackberry', 'blacked', 'blacking', 'blackout', 'bladder', 'blade', 'blah', 'blame', 'blamed', 'bland', 'blank', 'blanket', 'blaring', 'blast', 'blasted', 'blasts', 'bleed', 'blend', 'blended', 'bless', 'blessed', 'blessing', 'blessings', 'blew', 'blind', 'blindly', 'blindness', 'blindsided', 'blink', 'bliss', 'bloat', 'bloated', 'bloating', 'bloatover', 'block', 'blockbuster', 'blocked', 'blocks', 'blog', 'bloggers', 'blogs', 'blood', 'bloodshot', 'bloodwork', 'bloody', 'bloom', 'blow', 'blowing', 'blown', 'blue', 'blueberries', 'blueberry', 'blueprint', 'blues', 'bluesthird', 'blunt', 'blur', 'blurred', 'blushed', 'bmi', 'bmp', 'bmr', 'bo', 'board', 'boarding', 'boat', 'boats', 'bob', 'boba', 'bod', 'bodies', 'bodily', 'body', 'bodybuilders', 'bodyfat', 'bodyweight', 'boil', 'boiled', 'bojack', 'bomb', 'bombs', 'bone', 'boneless', 'bones', 'bonfire', 'bonjour', 'bonked', 'bonkers', 'bonned', 'bonus', 'boogie', 'book', 'booked', 'bookedgot', 'bookmarks', 'books', 'boom', 'boost', 'boosted', 'boosting', 'boot', 'boots', 'booze', 'boozeville', 'boozing', 'boozy', 'borderline', 'bordom', 'bore', 'bored', 'boredom', 'boring', 'born', 'borne', 'bortolin', 'boss', 'bosses', 'bot', 'bother', 'bothered', 'bothering', 'boti', 'bottle', 'bottles', 'bottlesat', 'bottling', 'bottom', 'bottombeen', 'bought', 'bouillon', 'bounce', 'bouncing', 'bound', 'boundaries', 'boundary', 'boundless', 'bounds', 'bourbon', 'bout', 'bouts', 'bowel', 'bowels', 'bowl', 'bowls', 'box', 'boxed', 'boxes', 'boxsets', 'boy', 'boyfriend', 'boyfriends', 'boys', 'bp', 'bpd', 'bpm', 'bpmy', 'bra', 'brace', 'bracelet', 'bracing', 'brag', 'bragged', 'bragging', 'brags', 'brain', 'brainer', 'brains', 'brainwashed', 'brakes', 'branch', 'brand', 'branded', 'brands', 'branson', 'brats', 'bravado', 'brave', 'brazi', 'brazil', 'bread', 'breaded', 'breadhey', 'breadi', 'breadjust', 'breads', 'breadthe', 'breadtoday', 'break', 'breakdown', 'breakfast', 'breakfasts', 'breakfastscramble', 'breaking', 'breakouts', 'breaks', 'breakthrough', 'breakup', 'breast', 'breastfeeding', 'breasts', 'breath', 'breathalyser', 'breathe', 'breathed', 'breathing', 'breats', 'breckenridge', 'brendan', 'brew', 'breweries', 'brewery', 'brewing', 'breyers', 'bridal', 'bride', 'bridesmaids', 'bridge', 'bridges', 'brief', 'briefly', 'bright', 'brightening', 'brighter', 'brightest', 'brightness', 'brilliant', 'bring', 'bringing', 'brings', 'brit', 'brits', 'britta', 'broad', 'broadcast', 'broc', 'broccoli', 'brocolli', 'broke', 'broken', 'bronze', 'broskis', 'broth', 'brother', 'brothers', 'brought', 'brown', 'browned', 'brownies', 'browsing', 'bruised', 'bruises', 'brunch', 'brunettes', 'brush', 'brushed', 'brushing', 'brussel', 'brusseles', 'brussels', 'brutal', 'brutality', 'brutally', 'bryant', 'bryce', 'bs', 'btut', 'btw', 'bubble', 'bubblegum', 'bubbly', 'bucket', 'bucks', 'buckwheat', 'bud', 'buddies', 'budding', 'buddy', 'budge', 'budged', 'budget', 'budging', 'bueno', 'bugs', 'build', 'building', 'built', 'buku', 'bulb', 'bulk', 'bull', 'bulletproof', 'bullied', 'bullshit', 'bum', 'bummed', 'bummer', 'bumped', 'bumps', 'bumpy', 'bumwees', 'bun', 'bunch', 'bunless', 'buns', 'bur', 'burger', 'burgers', 'burn', 'burned', 'burnham', 'burnhi', 'burning', 'burnout', 'burns', 'burnside', 'burnt', 'burping', 'burps', 'burrito', 'burritos', 'burst', 'bus', 'busi', 'business', 'bust', 'busted', 'busy', 'butcher', 'bute', 'butt', 'butter', 'buttered', 'butterflies', 'butters', 'button', 'buttons', 'buy', 'buying', 'buys', 'buzz', 'buzzed', 'bye', 'byeeee', 'bypass', 'ca', 'cabbage', 'cabins', 'cabra', 'cacao', 'cafe', 'cafes', 'caffeine', 'cake', 'cakes', 'cal', 'calc', 'calcium', 'calculate', 'calculated', 'calculates', 'calculateur', 'calculating', 'calculation', 'calculations', 'calculator', 'calculators', 'calendar', 'cali', 'caliber', 'california', 'call', 'called', 'calling', 'calls', 'calm', 'calmer', 'calming', 'calmly', 'calmness', 'caloric', 'calorie', 'calories', 'cals', 'calves', 'came', 'camel', 'camembert', 'cameo', 'camping', 'campus', 'canada', 'canadian', 'cancel', 'canceled', 'cancelled', 'cancer', 'candidate', 'candies', 'candle', 'candles', 'candy', 'candydry', 'cane', 'canker', 'cankle', 'cannabis', 'canned', 'cannoli', 'cannon', 'cannot', 'canola', 'cans', 'cant', 'cantina', 'canvas', 'canyon', 'capable', 'capped', 'car', 'caramel', 'carb', 'carbawhat', 'carbohydrate', 'carbohydrates', 'carbonaut', 'carbs', 'carbshoping', 'carbsi', 'carby', 'card', 'cardio', 'cardiologist', 'cards', 'care', 'cared', 'career', 'carefree', 'careful', 'carefully', 'careless', 'carer', 'cares', 'caring', 'carnivore', 'carr', 'carried', 'carries', 'carrots', 'carry', 'carrying', 'cars', 'cart', 'carts', 'carving', 'carw', 'cascading', 'case', 'cases', 'cash', 'cashew', 'cashews', 'casserole', 'cast', 'casual', 'casually', 'cat', 'cataclysm', 'catalina', 'catalyst', 'catch', 'catching', 'categories', 'category', 'cater', 'cats', 'caught', 'cauliflower', 'causation', 'cause', 'caused', 'causes', 'causing', 'cautious', 'cave', 'caveat', 'caved', 'cavedi', 'caveman', 'caving', 'cayenne', 'cbd', 'cbfd', 'cbt', 'ce', 'ceased', 'cele', 'celebrate', 'celebrated', 'celebrating', 'celebration', 'celebratory', 'celery', 'cell', 'cellmate', 'cells', 'celtic', 'cement', 'cent', 'center', 'centered', 'centers', 'centimeters', 'central', 'centre', 'centric', 'cents', 'centuries', 'century', 'cept', 'cereal', 'ceremonially', 'ceremony', 'certain', 'certainly', 'certainty', 'chafle', 'chai', 'chain', 'chained', 'chainsaw', 'chair', 'chairs', 'chalky', 'challenge', 'challenges', 'challengesi', 'challenging', 'chamomile', 'champagne', 'champions', 'chance', 'chances', 'change', 'changed', 'changer', 'changes', 'changeshi', 'changesit', 'changing', 'channel', 'chaos', 'chapter', 'chapters', 'character', 'characterized', 'characters', 'chardonnay', 'charge', 'charged', 'charges', 'charlie', 'chart', 'chase', 'chased', 'chaser', 'chasing', 'chat', 'chats', 'chatted', 'chatter', 'chattering', 'chatting', 'chatty', 'cheap', 'cheaper', 'cheat', 'cheated', 'cheating', 'cheats', 'check', 'checked', 'checking', 'checks', 'checkup', 'cheddar', 'cheek', 'cheeks', 'cheeky', 'cheer', 'cheerful', 'cheerfully', 'cheers', 'cheese', 'cheeseburger', 'cheeseburgers', 'cheesecake', 'cheesecakes', 'cheeses', 'cheesesteak', 'cheesy', 'chef', 'chemical', 'chemo', 'chemotherapy', 'cherishing', 'cherries', 'cherry', 'chest', 'chew', 'chewables', 'chewing', 'chewy', 'chia', 'chicken', 'chickenim', 'child', 'childcare', 'childhood', 'children', 'childservies', 'chili', 'chill', 'chilled', 'chilli', 'chillies', 'chilling', 'chills', 'chime', 'chin', 'china', 'chinese', 'chip', 'chippy', 'chips', 'chiptoday', 'chiropractic', 'chirping', 'chlorella', 'chloride', 'chlorine', 'choc', 'chocolate', 'choice', 'choices', 'choisi', 'choke', 'choked', 'choking', 'cholesterol', 'cholesterolhey', 'choose', 'chooses', 'choosing', 'chopped', 'chops', 'chore', 'chores', 'chose', 'chosen', 'chris', 'christian', 'christmas', 'chromium', 'chronic', 'chronometer', 'chug', 'chugged', 'chugging', 'chunk', 'chunks', 'cico', 'cider', 'ciders', 'cigarettes', 'cinnamon', 'circadian', 'circle', 'circles', 'circular', 'circumstance', 'circumstances', 'circus', 'cirrhosis', 'cities', 'citizen', 'citrate', 'city', 'ck', 'cking', 'cl', 'claim', 'claiming', 'claims', 'clarification', 'clarifies', 'clarify', 'clarity', 'class', 'classes', 'classic', 'classics', 'classify', 'claws', 'clean', 'cleaned', 'cleanest', 'cleaning', 'cleanse', 'clear', 'cleared', 'clearer', 'clearing', 'clearly', 'clerks', 'clever', 'cliche', 'click', 'clicked', 'clicking', 'client', 'clients', 'cliff', 'climb', 'climbed', 'climbing', 'cling', 'clingy', 'clinic', 'clinicians', 'clinics', 'clock', 'clocks', 'clockwork', 'close', 'closed', 'closely', 'closeness', 'closer', 'closest', 'closet', 'closing', 'clothed', 'clothes', 'clotheslike', 'clothing', 'clots', 'cloud', 'clouds', 'cloudy', 'club', 'clubi', 'clubs', 'clue', 'clued', 'clueless', 'clues', 'clumps', 'clumsy', 'clusters', 'clutches', 'clutching', 'cm', 'cms', 'co', 'coach', 'coaches', 'coastal', 'coaster', 'coat', 'coated', 'coating', 'coats', 'cob', 'cocaine', 'cocktail', 'cocktails', 'cocky', 'coco', 'cocoa', 'coconut', 'cod', 'code', 'codependency', 'coffee', 'coffeehello', 'coffeei', 'cognitive', 'cohesive', 'coil', 'coincidental', 'coke', 'cokes', 'colby', 'cold', 'coldly', 'coliflour', 'colitis', 'collagen', 'colleagues', 'collecting', 'collective', 'collects', 'college', 'cologne', 'color', 'colorado', 'colors', 'colour', 'com', 'coma', 'comatose', 'combat', 'combination', 'combine', 'combined', 'combining', 'combo', 'come', 'comedians', 'comedy', 'comes', 'comfort', 'comfortable', 'comfy', 'coming', 'comment', 'commented', 'commenting', 'comments', 'commercial', 'commit', 'commitment', 'commitmenti', 'committed', 'committing', 'common', 'commonly', 'communicate', 'communicating', 'communication', 'communicative', 'communities', 'community', 'communityi', 'communitywell', 'commute', 'companies', 'companion', 'companions', 'companionship', 'company', 'comparable', 'comparatively', 'compare', 'compared', 'comparing', 'comparison', 'compass', 'compassion', 'compatible', 'compelling', 'compensate', 'competent', 'competing', 'competitions', 'compile', 'complain', 'complainer', 'complaining', 'complains', 'complaint', 'complaints', 'complete', 'completed', 'completely', 'completing', 'complex', 'complexion', 'compliance', 'complicated', 'complicating', 'complications', 'compliments', 'composed', 'composition', 'compounded', 'compounds', 'comprehensive', 'comprendre', 'compressions', 'compromise', 'compromised', 'compromising', 'compulsion', 'compulsory', 'computer', 'comrades', 'coms', 'conceal', 'concentrate', 'concentrating', 'concept', 'concern', 'concerned', 'concerning', 'concerns', 'concernshi', 'concert', 'concerts', 'concinced', 'concious', 'concise', 'conclusion', 'conclusions', 'concrete', 'concussion', 'condescending', 'condescendingly', 'condition', 'conditioning', 'conditions', 'condo', 'confectioners', 'conference', 'confession', 'confessionwhat', 'confidant', 'confided', 'confidence', 'confident', 'confinement', 'confirm', 'conflict', 'conflicted', 'conflicting', 'confounding', 'confrontational', 'confronting', 'confused', 'confusedafter', 'confusion', 'confusionhi', 'congested', 'congrats', 'congratulated', 'congratulations', 'connect', 'connected', 'connecting', 'connection', 'connections', 'connoisseur', 'connoisseurs', 'conor', 'conquer', 'conroy', 'cons', 'conscious', 'consciously', 'consciousness', 'consecutive', 'consensus', 'consequence', 'consequences', 'conservative', 'consider', 'considerable', 'considerably', 'consideration', 'considered', 'considering', 'consist', 'consisted', 'consistent', 'consistently', 'consists', 'consolation', 'consolidates', 'constant', 'constantly', 'constipated', 'constipation', 'construction', 'constructive', 'consult', 'consultant', 'consulted', 'consulting', 'consume', 'consumed', 'consuming', 'consumption', 'contact', 'contacted', 'contacting', 'contain', 'contained', 'container', 'containers', 'contains', 'contemplated', 'contempt', 'contend', 'content', 'contents', 'context', 'continually', 'continue', 'continued', 'continues', 'continuing', 'continuous', 'contract', 'contradicting', 'contrary', 'contrast', 'contribute', 'contributed', 'contributes', 'contributing', 'contributor', 'control', 'controlled', 'controlling', 'controversial', 'conundrum', 'convenience', 'convenient', 'convent', 'conventional', 'conversation', 'conversational', 'conversely', 'convert', 'convey', 'convicted', 'conviction', 'convience', 'convince', 'convinced', 'convinces', 'convincing', 'convoso', 'convulsing', 'cook', 'cookbook', 'cookbooks', 'cooked', 'cookie', 'cooking', 'cookout', 'cool', 'coolant', 'cooler', 'coopers', 'coordination', 'coordinator', 'cop', 'cope', 'coped', 'coping', 'copious', 'cops', 'copying', 'cordialement', 'core', 'corn', 'corner', 'cornerstore', 'cornstarch', 'corona', 'coronas', 'coronavirus', 'corps', 'correct', 'corrected', 'correcting', 'correctly', 'correlation', 'correlations', 'corresponds', 'cortisol', 'cos', 'cost', 'costco', 'costed', 'costs', 'cottage', 'cotton', 'couch', 'cough', 'coughs', 'could', 'couldi', 'couldnt', 'council', 'counsel', 'counseling', 'counselling', 'counsellor', 'counsellors', 'counselor', 'counselors', 'count', 'counter', 'counti', 'counting', 'countinghi', 'countless', 'country', 'counts', 'county', 'couple', 'coupled', 'couples', 'coupling', 'courage', 'course', 'courses', 'court', 'courthouse', 'courtyard', 'couscous', 'cousin', 'cousins', 'cover', 'covered', 'covering', 'covers', 'covid', 'cow', 'coworker', 'coworkers', 'cows', 'cozy', 'cpap', 'cps', 'crack', 'cracked', 'cracker', 'crackers', 'cracking', 'craft', 'cramming', 'cramp', 'crampahi', 'cramped', 'cramping', 'cramps', 'crankin', 'cranking', 'crap', 'crappy', 'crash', 'crashed', 'crashes', 'crasheshi', 'crashing', 'crate', 'crave', 'craved', 'craving', 'cravings', 'cravingsi', 'cravingsince', 'crawl', 'crawled', 'crawling', 'craziest', 'crazy', 'cream', 'creamer', 'creamy', 'create', 'created', 'creates', 'creating', 'creation', 'creations', 'creative', 'creativity', 'creators', 'creatures', 'credentials', 'credit', 'creek', 'creep', 'creeped', 'creeping', 'creeps', 'creepy', 'crepe', 'crepini', 'crept', 'crestfallen', 'crew', 'cried', 'crime', 'cringe', 'cringy', 'cripple', 'crippling', 'crisis', 'crisp', 'crispy', 'criteria', 'critical', 'criticisms', 'criticize', 'crocodile', 'crohn', 'croix', 'cronometer', 'cross', 'crossed', 'crucial', 'crucifixion', 'crude', 'cruel', 'crumbles', 'crumbling', 'crumbs', 'crummy', 'crunch', 'crunchy', 'crushers', 'crushing', 'crust', 'crusts', 'crutch', 'crutches', 'cry', 'crying', 'crystallized', 'cs', 'cubes', 'cucumber', 'cuddle', 'cuff', 'culinary', 'cull', 'culprit', 'cult', 'cultivate', 'culture', 'cumulative', 'cup', 'cupboard', 'cups', 'curb', 'curcumin', 'cure', 'cured', 'curiosity', 'curious', 'current', 'currently', 'curse', 'curveballs', 'cus', 'custodial', 'custody', 'customer', 'cut', 'cute', 'cutoff', 'cuts', 'cutting', 'cuz', 'cv', 'cvs', 'cw', 'cycle', 'cycles', 'cyclical', 'cycling', 'cyclist', 'cyclists', 'cystic', 'dabbled', 'dabbles', 'dabbling', 'dad', 'daddy', 'dads', 'daily', 'dairy', 'dairyhi', 'dairynew', 'damage', 'damaged', 'damages', 'damaging', 'dammit', 'damn', 'damnit', 'damp', 'damper', 'dance', 'danced', 'dancer', 'dancing', 'dandy', 'danger', 'dangerous', 'dangers', 'dans', 'dare', 'dark', 'darkened', 'darkest', 'darts', 'dashes', 'data', 'database', 'date', 'dated', 'dates', 'dating', 'daughter', 'daughters', 'daunting', 'dawned', 'day', 'daycare', 'daydream', 'dayi', 'dayknocked', 'days', 'dayshello', 'daysi', 'daysjust', 'dayskeep', 'daysnever', 'daysofketo', 'daysstarted', 'daysthis', 'daystoday', 'dayswell', 'dayswent', 'dayswhen', 'daytreatment', 'dbt', 'dci', 'de', 'dead', 'deaden', 'deadly', 'deaf', 'deal', 'dealership', 'dealerships', 'dealing', 'deals', 'dealt', 'dean', 'dear', 'dearest', 'death', 'deaths', 'debacle', 'debate', 'debating', 'debilitating', 'debt', 'debts', 'dec', 'decade', 'decades', 'decaf', 'decant', 'decay', 'deceit', 'december', 'decent', 'decently', 'deception', 'decide', 'decided', 'deciding', 'deciphering', 'decision', 'decisions', 'decline', 'declined', 'declining', 'decongestant', 'decrease', 'decreased', 'dedicated', 'deduct', 'deen', 'deep', 'deeper', 'deeply', 'deer', 'defeat', 'defeated', 'defecating', 'defense', 'defensive', 'deficiencies', 'deficiency', 'deficit', 'deficitfirst', 'deficits', 'define', 'defined', 'defines', 'defining', 'definitely', 'definition', 'definitively', 'degenerate', 'degree', 'degrees', 'dehydrate', 'dehydrated', 'dehydration', 'dehyration', 'deity', 'deja', 'delaying', 'delays', 'delete', 'deleted', 'delhi', 'deli', 'deliberately', 'delicious', 'deliciously', 'delight', 'delighted', 'delirium', 'delivered', 'delivers', 'delivery', 'delt', 'deluded', 'delusion', 'delve', 'demand', 'demanding', 'demands', 'demon', 'demons', 'demonstrate', 'demonstrating', 'demoralizing', 'demoted', 'demotivated', 'denial', 'denominator', 'dense', 'dent', 'dental', 'dented', 'dentist', 'dentistwondering', 'deny', 'denying', 'deodorant', 'department', 'depend', 'dependant', 'dependence', 'dependency', 'dependent', 'depending', 'depleting', 'deployed', 'deployment', 'deprecation', 'depressant', 'depressants', 'depressed', 'depressedhello', 'depressing', 'depression', 'depressionso', 'depressionthe', 'depressive', 'deprived', 'depths', 'der', 'derail', 'describe', 'described', 'describing', 'desert', 'deserts', 'desertsi', 'deserve', 'deserved', 'deserves', 'deserving', 'desi', 'designed', 'designing', 'desire', 'desired', 'desk', 'desklast', 'desks', 'despair', 'desperate', 'desperately', 'despite', 'dessert', 'desserts', 'destination', 'destinations', 'destined', 'destress', 'destroy', 'destroyed', 'destroying', 'destruct', 'destruction', 'destructive', 'detail', 'detailed', 'details', 'detention', 'deter', 'deteriorating', 'determination', 'determine', 'determined', 'detox', 'detoxi', 'detoxing', 'detract', 'devastated', 'develop', 'developed', 'developing', 'developments', 'deviation', 'device', 'devil', 'devouring', 'dew', 'dextrose', 'dfs', 'diabetes', 'diabetic', 'diabetics', 'diagnosed', 'diagnosis', 'dial', 'diarrhea', 'diarrhoea', 'dice', 'dichotomy', 'dick', 'dickheads', 'dictates', 'didnt', 'die', 'died', 'dietary', 'dieted', 'dieters', 'diethi', 'dietic', 'dietician', 'dietitians', 'dietnerd', 'diets', 'dietsigh', 'diettrackerbot', 'diff', 'difference', 'differences', 'different', 'differently', 'differents', 'differentso', 'difficult', 'difficulties', 'difficulty', 'dig', 'digest', 'digested', 'digestion', 'digestive', 'digging', 'digital', 'digits', 'dignity', 'digressing', 'diligent', 'diluted', 'dilution', 'dim', 'diminished', 'diminishes', 'diminishing', 'dining', 'dinner', 'dinners', 'dinnertime', 'dioralyte', 'dip', 'diphelp', 'dipped', 'dipping', 'direct', 'directed', 'direction', 'directions', 'directly', 'dirty', 'disability', 'disabled', 'disappear', 'disappeared', 'disappoint', 'disappointed', 'disappointing', 'disappointment', 'disappointments', 'disaster', 'disasters', 'disastrous', 'disbanding', 'disbelief', 'disc', 'discharge', 'discharged', 'discipline', 'disciplined', 'disclaimer', 'disclose', 'disclosure', 'discomfort', 'disconnected', 'discontentedness', 'discouraged', 'discouraging', 'discover', 'discovered', 'discovery', 'discredit', 'discuss', 'discussed', 'discussing', 'discussion', 'discussions', 'disdain', 'disease', 'diseases', 'disgraced', 'disgruntled', 'disgust', 'disgusted', 'disgusting', 'disgustingly', 'disgustingyou', 'dish', 'dishearten', 'dishes', 'disinterested', 'dislike', 'dismissed', 'disney', 'disorder', 'disorders', 'disorganized', 'disparage', 'display', 'displays', 'disposable', 'dispose', 'disposed', 'disregard', 'disrespect', 'disrespected', 'disrespectful', 'disrespecting', 'disrupted', 'dissapointed', 'dissatisfaction', 'disservice', 'dissipated', 'dissociation', 'dissociative', 'dissolve', 'dissolved', 'distance', 'distancing', 'distant', 'distract', 'distracted', 'distracting', 'distractions', 'distress', 'distressed', 'disturbances', 'disturbed', 'disulfiram', 'ditch', 'ditching', 'dive', 'diving', 'division', 'divorce', 'divorced', 'dizziness', 'dizzy', 'dj', 'dl', 'dno', 'doable', 'doc', 'docs', 'doctor', 'doctorate', 'doctors', 'document', 'documents', 'dodge', 'dodged', 'doe', 'doesnt', 'dog', 'dogs', 'doi', 'dollars', 'dollop', 'domain', 'domestic', 'domino', 'donated', 'done', 'doner', 'donn', 'donner', 'dont', 'donut', 'donuts', 'doom', 'doomed', 'door', 'doori', 'doors', 'doorway', 'dopamine', 'dope', 'dosage', 'dosages', 'dose', 'dosent', 'doses', 'dostruggling', 'double', 'doubled', 'doubles', 'doubling', 'doubt', 'doubts', 'douche', 'dough', 'doughy', 'downed', 'downers', 'downfall', 'downhill', 'downing', 'downloaded', 'downprogress', 'downright', 'downs', 'downshit', 'downside', 'downstairs', 'downthought', 'downtown', 'downward', 'downwow', 'dozen', 'dpw', 'dr', 'drag', 'dragged', 'dragging', 'drain', 'draining', 'drainthis', 'drama', 'dramatically', 'drastic', 'drastically', 'dravet', 'draw', 'drawbacks', 'drawer', 'drawers', 'drawing', 'drawn', 'dread', 'dreaded', 'dreading', 'dream', 'dreamers', 'dreami', 'dreaming', 'dreams', 'dreamt', 'dreamthis', 'drenched', 'dress', 'dressing', 'dressings', 'dried', 'drift', 'drifting', 'drill', 'drilled', 'drinker', 'drinkers', 'drinkerthe', 'drinkhow', 'drinki', 'drinkingand', 'drinkinganyone', 'drinkingi', 'drinkingnot', 'drinkingso', 'drinkmade', 'drinknot', 'drinkok', 'drinkstigator', 'drinkwhat', 'drip', 'drive', 'driven', 'driver', 'driverhowdy', 'drives', 'driveway', 'driving', 'drivng', 'drizzle', 'drool', 'drop', 'dropped', 'dropping', 'drops', 'drove', 'droves', 'drown', 'drowning', 'drowsy', 'drug', 'drugged', 'drugrehab', 'drugs', 'drugstore', 'drum', 'drumroll', 'drunkcleaning', 'drunken', 'drunkenly', 'drunkenness', 'drunkhey', 'drunktards', 'dry', 'dryer', 'drying', 'ds', 'dt', 'dts', 'du', 'duct', 'dude', 'due', 'dug', 'duh', 'dui', 'duis', 'dull', 'dulling', 'dumb', 'dumbass', 'dumbest', 'dumbfounded', 'dummy', 'dumped', 'dumping', 'dumpster', 'dunno', 'duration', 'durations', 'dust', 'dustbin', 'dusting', 'duties', 'duty', 'dwi', 'dwindled', 'dying', 'dynamic', 'eachother', 'eager', 'ear', 'earlier', 'earliernormally', 'earliest', 'early', 'earned', 'earring', 'ears', 'earth', 'earthquake', 'ease', 'eases', 'easier', 'easiest', 'easily', 'east', 'easter', 'eastern', 'easy', 'easyi', 'eat', 'eaten', 'eaters', 'eating', 'eats', 'ebbed', 'ebbing', 'echo', 'echoes', 'eckhart', 'economic', 'ecstasy', 'ecstatic', 'ect', 'ed', 'edge', 'edges', 'edit', 'edited', 'editx', 'eds', 'educated', 'educator', 'eeekkk', 'eff', 'effect', 'effective', 'effectively', 'effects', 'effexor', 'efficient', 'efficiently', 'effort', 'effortless', 'efforts', 'eg', 'egg', 'egged', 'eggplant', 'eggs', 'ego', 'egyptian', 'eh', 'eidetic', 'eight', 'either', 'elaborate', 'elbow', 'elbows', 'elderly', 'eldest', 'electricity', 'electrolye', 'electrolyte', 'electrolytehi', 'electrolytes', 'electrolyteshey', 'elemental', 'elementary', 'elephant', 'elevated', 'elevation', 'eleven', 'eliminate', 'eliminated', 'eliminating', 'elixir', 'elliptical', 'else', 'elses', 'elsewhere', 'elusive', 'em', 'email', 'emailed', 'embarking', 'embarrass', 'embarrassed', 'embarrassing', 'embarrassment', 'embedded', 'embrace', 'emeals', 'emealsi', 'emergency', 'emigrated', 'emmerich', 'emoji', 'emotioanlly', 'emotion', 'emotional', 'emotionally', 'emotions', 'emotionsi', 'empathetic', 'empathy', 'employee', 'employees', 'employer', 'emptied', 'empties', 'empty', 'emptying', 'ems', 'emt', 'enable', 'enabled', 'enabler', 'encounter', 'encountered', 'encourage', 'encouraged', 'encouragement', 'encouragementi', 'encouragementso', 'encouraging', 'encroaching', 'end', 'ended', 'ending', 'endless', 'endlessly', 'endorphins', 'endorsements', 'endoscopy', 'ends', 'endsi', 'endurance', 'enemy', 'energetic', 'energy', 'energygood', 'enforcements', 'engage', 'engaged', 'engaging', 'england', 'english', 'enhance', 'enhancement', 'enivitable', 'enjoy', 'enjoyable', 'enjoyed', 'enjoying', 'enjoyment', 'enjoys', 'enlightened', 'enlisted', 'enough', 'enoughfor', 'enoughi', 'enquire', 'enrolled', 'ensure', 'ensuring', 'enter', 'entered', 'entering', 'entertaining', 'enthusiast', 'enthusiastically', 'entire', 'entirely', 'entirety', 'entree', 'envied', 'envious', 'environment', 'environments', 'enzymedica', 'enzymes', 'epic', 'epilepsy', 'epiphany', 'episode', 'episodes', 'equal', 'equally', 'equals', 'equates', 'equation', 'equilibrium', 'equipment', 'equivalent', 'er', 'era', 'erased', 'errands', 'erratic', 'error', 'errors', 'ers', 'erythritol', 'es', 'escalate', 'escalated', 'escalating', 'escalation', 'escapade', 'escape', 'escaped', 'escaping', 'escitalopr', 'escorted', 'eshhh', 'esketamine', 'esophagus', 'especially', 'esperal', 'espresso', 'essential', 'essentially', 'est', 'establish', 'establishing', 'esteem', 'estimate', 'estranged', 'et', 'eta', 'etc', 'eternally', 'ether', 'euphoria', 'euphoric', 'europe', 'euros', 'eurosthis', 'evaluation', 'evaporated', 'eve', 'even', 'evening', 'evenings', 'event', 'eventhough', 'events', 'eventually', 'ever', 'every', 'everybody', 'everyday', 'everyone', 'everything', 'everythingeverything', 'everythings', 'everytime', 'everywhere', 'everywhereit', 'evict', 'evicted', 'evidence', 'evidently', 'evil', 'evils', 'evolution', 'evolved', 'evoo', 'ex', 'exacerbate', 'exact', 'exactly', 'exaggeration', 'exam', 'example', 'examples', 'exceed', 'excelled', 'excellence', 'excellent', 'except', 'exception', 'excercise', 'excercised', 'excersing', 'excersizing', 'excess', 'excessive', 'excessively', 'excited', 'excitement', 'exciting', 'exclude', 'excluding', 'exclusive', 'exclusively', 'excruciatingly', 'excuse', 'excuses', 'exercice', 'exercise', 'exercised', 'exercisei', 'exercises', 'exercising', 'exersizer', 'exes', 'exhaust', 'exhausted', 'exhausting', 'exhaustion', 'exhibit', 'exhilarating', 'exist', 'existence', 'existent', 'existential', 'existing', 'exists', 'exit', 'exotic', 'expand', 'expect', 'expectation', 'expectations', 'expected', 'expecting', 'expects', 'expedite', 'expenditure', 'expense', 'expensive', 'experience', 'experienced', 'experiences', 'experiencing', 'experiential', 'experiment', 'experimenting', 'experiments', 'expert', 'expertise', 'experts', 'expired', 'expiring', 'explain', 'explained', 'explaining', 'explains', 'explanation', 'explicitly', 'explode', 'exploded', 'explore', 'exploring', 'explosive', 'expose', 'exposed', 'exposing', 'express', 'expressed', 'extend', 'extended', 'extender', 'extension', 'extensive', 'extent', 'external', 'extortion', 'extra', 'extracted', 'extraordinary', 'extreme', 'extremely', 'extrovert', 'extroverted', 'eye', 'eyeball', 'eyeing', 'eyes', 'eyesi', 'fab', 'fabulous', 'face', 'facebook', 'faced', 'facial', 'facilitated', 'facility', 'facing', 'fact', 'facto', 'factor', 'factors', 'factory', 'facts', 'faculties', 'fade', 'faded', 'fading', 'fail', 'failed', 'failedits', 'failing', 'failings', 'failure', 'failures', 'faint', 'fair', 'fairly', 'fairs', 'faith', 'fake', 'fall', 'fallen', 'falling', 'fallout', 'falls', 'false', 'falsely', 'faltered', 'fam', 'famed', 'familiar', 'familiarity', 'families', 'family', 'famished', 'famous', 'famously', 'fan', 'fanatic', 'fancy', 'fans', 'fantastic', 'fantastically', 'fantasy', 'faq', 'faqs', 'far', 'farmer', 'farts', 'fascinating', 'fashioned', 'fast', 'faster', 'fastest', 'fastfood', 'fasting', 'fastingi', 'fasts', 'fat', 'fatal', 'fate', 'fateful', 'father', 'fathers', 'fathi', 'fathom', 'fatigue', 'fatigued', 'fatiguei', 'fatness', 'fats', 'fatter', 'fatty', 'fault', 'fauna', 'fav', 'favor', 'favorite', 'favorited', 'favorites', 'favors', 'favourite', 'fb', 'fbg', 'fcking', 'fear', 'feared', 'fearful', 'feasible', 'feast', 'feat', 'featured', 'features', 'feb', 'february', 'fed', 'feed', 'feedback', 'feeding', 'feeds', 'feel', 'feelin', 'feeling', 'feelings', 'feels', 'feet', 'feetso', 'fell', 'feller', 'felling', 'fellow', 'fellowship', 'felony', 'felt', 'feltthe', 'female', 'females', 'fence', 'ferment', 'ferriss', 'festival', 'festivalsjust', 'feta', 'fever', 'fevers', 'fewer', 'fi', 'fianc', 'fiance', 'fiber', 'fibre', 'fibril', 'ficit', 'fiction', 'field', 'fiesta', 'fifth', 'fight', 'fighter', 'fighting', 'fights', 'figuratively', 'figure', 'figured', 'figures', 'figuring', 'fil', 'file', 'fill', 'filled', 'fillet', 'filling', 'filter', 'filtered', 'filtering', 'filth', 'final', 'finally', 'finance', 'finances', 'financial', 'financially', 'find', 'finding', 'fine', 'fineday', 'finely', 'finer', 'finger', 'fingers', 'finish', 'finished', 'finishes', 'finishing', 'finn', 'fiona', 'fire', 'fireball', 'fired', 'firm', 'firmly', 'first', 'fish', 'fisherman', 'fishi', 'fishy', 'fist', 'fit', 'fitbit', 'fitness', 'fits', 'fitting', 'five', 'fix', 'fixated', 'fixed', 'fixes', 'fixing', 'fizzy', 'fking', 'flab', 'flabbergasted', 'flabby', 'flag', 'flagellating', 'flags', 'flailing', 'flair', 'flairs', 'flake', 'flaked', 'flare', 'flash', 'flashes', 'flask', 'flat', 'flattest', 'flavor', 'flavored', 'flavoring', 'flavorings', 'flavour', 'flavoured', 'flavourlast', 'flavours', 'flawed', 'flaws', 'flax', 'flew', 'flexible', 'flies', 'flight', 'flights', 'flinch', 'flip', 'flippant', 'flipped', 'flippin', 'flips', 'flitting', 'float', 'floating', 'flooding', 'floor', 'floored', 'floppy', 'florida', 'floss', 'flossing', 'flour', 'flours', 'flow', 'flowed', 'flower', 'flowers', 'flowin', 'flowing', 'flu', 'fluctuate', 'fluctuated', 'fluctuates', 'fluctuating', 'fluctuations', 'fluent', 'fluid', 'fluids', 'fluke', 'flushed', 'flute', 'fly', 'flying', 'fmla', 'fo', 'foamy', 'focus', 'focused', 'focuses', 'focusing', 'fog', 'foggy', 'foil', 'folding', 'folks', 'follow', 'followed', 'following', 'follows', 'fomo', 'fond', 'font', 'food', 'foodbeen', 'foodi', 'foodie', 'foods', 'foodswhat', 'fool', 'fooled', 'fooling', 'foolish', 'foolproof', 'foot', 'football', 'footing', 'forbidden', 'force', 'forced', 'forces', 'forcible', 'forcing', 'ford', 'forehead', 'foreman', 'forest', 'forever', 'foreverhi', 'forge', 'forget', 'forgetting', 'forging', 'forgive', 'forgiven', 'forgiveness', 'forgiving', 'forgot', 'forgotten', 'form', 'formally', 'format', 'formatting', 'formed', 'former', 'forms', 'forth', 'fortunate', 'fortunately', 'fortune', 'forum', 'forward', 'forwards', 'fought', 'found', 'foundation', 'fountain', 'four', 'fourth', 'fr', 'fracture', 'fragile', 'frame', 'frames', 'france', 'frankly', 'frantically', 'franz', 'freaked', 'freaking', 'freaks', 'free', 'freed', 'freedom', 'freeing', 'freelance', 'freely', 'freeze', 'freezer', 'freezing', 'fremont', 'french', 'frenemy', 'frequency', 'frequent', 'frequenting', 'frequently', 'fresh', 'freshen', 'freshlyfit', 'freshman', 'fri', 'frick', 'fricken', 'fricking', 'friday', 'fridays', 'fridge', 'fried', 'friend', 'friendly', 'friends', 'friendship', 'friendships', 'friendsi', 'fries', 'frightened', 'frodo', 'front', 'frontier', 'frown', 'frozen', 'fruit', 'fruithi', 'fruits', 'frustrated', 'frustratedi', 'frustrating', 'frustratingi', 'frustration', 'frustrations', 'frying', 'ft', 'fuck', 'fucked', 'fuckin', 'fucking', 'fucks', 'fudge', 'fuel', 'fueled', 'fueling', 'fulfilled', 'fulfilling', 'full', 'fuller', 'fullest', 'fullness', 'fully', 'fun', 'function', 'functional', 'functioning', 'functions', 'fundamental', 'fundamentally', 'fundamentals', 'funk', 'funnily', 'funny', 'fur', 'furious', 'furnished', 'fuse', 'fusion', 'fussed', 'future', 'fuuuuuuuucksocializing', 'fuzzy', 'fwiw', 'fxxx', 'fyi', 'gaba', 'gag', 'gagging', 'gain', 'gained', 'gaining', 'gains', 'gal', 'gallbladder', 'gallon', 'gallons', 'gallstones', 'gallstoneshi', 'gals', 'game', 'gamers', 'games', 'gang', 'gapping', 'garage', 'garbage', 'garden', 'gardening', 'garli', 'garlic', 'gary', 'gas', 'gaslighted', 'gasping', 'gasps', 'gastric', 'gather', 'gatherer', 'gathering', 'gatherings', 'gatheringwe', 'gatorade', 'gauze', 'gave', 'gaviscon', 'gear', 'gears', 'geekery', 'gel', 'gender', 'general', 'generally', 'generated', 'generations', 'genes', 'genetic', 'genius', 'genpop', 'genre', 'gentle', 'gentleman', 'genuine', 'genuinely', 'george', 'gerd', 'german', 'gestational', 'gesture', 'get', 'getaway', 'gets', 'gettin', 'getting', 'gf', 'ghee', 'ghey', 'gi', 'giant', 'giants', 'gift', 'gifted', 'gifts', 'gig', 'giggly', 'gigs', 'gime', 'gimmicky', 'gin', 'ginger', 'girl', 'girlfriend', 'girlfriends', 'girls', 'give', 'given', 'giver', 'gives', 'giving', 'gki', 'glad', 'gladly', 'glamorized', 'glamorous', 'glamourising', 'glamourize', 'glamourous', 'glance', 'glanced', 'gland', 'glaringly', 'glass', 'glasses', 'glean', 'glimpse', 'global', 'gloomy', 'glorify', 'glorifying', 'glorious', 'glory', 'glossed', 'glowing', 'glucosamine', 'glucose', 'gluten', 'glycemic', 'glycinate', 'gm', 'gnarly', 'gnawing', 'gnocchi', 'go', 'goal', 'goals', 'goaltl', 'god', 'goddamn', 'goes', 'goesbeen', 'going', 'goingi', 'goingup', 'goit', 'gold', 'golden', 'golds', 'golf', 'gone', 'gonna', 'good', 'goodbye', 'goodi', 'goodness', 'goodnight', 'goofy', 'google', 'googled', 'googling', 'goooo', 'goose', 'gordon', 'gorgeous', 'gosh', 'got', 'gotta', 'gotten', 'gout', 'goutsugar', 'government', 'gp', 'gr', 'grab', 'grabbed', 'grabbing', 'grace', 'gracefully', 'gracegrace', 'gracious', 'grad', 'grade', 'grades', 'gradient', 'gradually', 'graduate', 'graduated', 'graduates', 'graduating', 'graduation', 'grail', 'grain', 'gram', 'grammar', 'grams', 'grand', 'grandfather', 'grandma', 'grandparents', 'granola', 'granted', 'granulations', 'grape', 'grapes', 'graph', 'grasp', 'grass', 'grassy', 'grateful', 'gratification', 'gratitude', 'graves', 'gravity', 'grazing', 'grease', 'greasy', 'great', 'greater', 'greatest', 'greatly', 'greatrecently', 'greek', 'green', 'greenchef', 'greens', 'greeted', 'gregory', 'grew', 'grey', 'griddle', 'grief', 'grieving', 'griffin', 'grigio', 'grill', 'grilled', 'grim', 'grin', 'grinding', 'grip', 'gripe', 'grips', 'gritty', 'groan', 'groaning', 'groceries', 'grocery', 'groggy', 'groove', 'gross', 'ground', 'groundbreaking', 'grounding', 'group', 'groups', 'grow', 'growing', 'grown', 'grueling', 'grump', 'grumpy', 'gruntled', 'gt', 'gtfo', 'guac', 'guarantees', 'guard', 'guarded', 'guards', 'guess', 'guessing', 'guests', 'guidance', 'guide', 'guided', 'guidelines', 'guides', 'guilt', 'guilty', 'guiltyhi', 'guitar', 'gulp', 'gulping', 'gum', 'gums', 'gunpoint', 'guns', 'gusto', 'gut', 'guts', 'guy', 'guys', 'gw', 'gym', 'gymi', 'gymnastics', 'gyms', 'gynecomastia', 'habit', 'habits', 'hacks', 'haha', 'hahaha', 'hair', 'haired', 'hairs', 'hakutsuru', 'half', 'halfassed', 'halfway', 'halloween', 'halls', 'hallucinated', 'hallucinating', 'hallucinations', 'halo', 'hamburger', 'hamburgers', 'hammered', 'hamster', 'hand', 'handed', 'handful', 'handicapping', 'handing', 'handle', 'handles', 'handling', 'hands', 'handy', 'hanff', 'hang', 'hanging', 'hangover', 'hangovers', 'hangry', 'hangxiety', 'hankering', 'haphazard', 'happen', 'happend', 'happened', 'happening', 'happens', 'happier', 'happierfirst', 'happily', 'happiness', 'happy', 'happyi', 'harass', 'hard', 'hardcore', 'harder', 'hardest', 'hardly', 'hardships', 'harm', 'harmer', 'harmful', 'harming', 'harmless', 'harnessing', 'harping', 'hashed', 'hasnt', 'hassle', 'haste', 'hat', 'hate', 'hated', 'hates', 'hating', 'hatred', 'haunt', 'haunted', 'haunting', 'haute', 'havent', 'havoc', 'hawaii', 'hayes', 'haywire', 'haze', 'hazed', 'hazelden', 'hazy', 'hdl', 'head', 'headache', 'headaches', 'headachesdamn', 'headed', 'heading', 'headlights', 'heads', 'headspace', 'heal', 'healed', 'healing', 'health', 'healthcare', 'healthi', 'healthier', 'healthiest', 'healthily', 'healthy', 'hear', 'heard', 'hearing', 'heart', 'heartache', 'heartbreaks', 'heartburn', 'heartedly', 'heartfelt', 'hearts', 'hearty', 'heat', 'heath', 'heati', 'heating', 'heaven', 'heavenly', 'heavier', 'heaviest', 'heavily', 'heaviness', 'heaving', 'heavy', 'heck', 'hectic', 'heeeeeelp', 'heels', 'hefty', 'height', 'heineken', 'heiny', 'heinz', 'held', 'helena', 'helicoptered', 'hell', 'hellacious', 'hello', 'help', 'helped', 'helpful', 'helpi', 'helping', 'helpless', 'helps', 'helpsmallbusiness', 'hemiplegic', 'hemoglobin', 'hemorrhoid', 'herb', 'herbs', 'herea', 'herehi', 'herei', 'hereputting', 'heres', 'herman', 'hermit', 'heroes', 'heroin', 'hes', 'hesitant', 'hesitate', 'hesitating', 'hey', 'heyo', 'heyyyy', 'hgb', 'hi', 'hibiscus', 'hiccups', 'hid', 'hidden', 'hide', 'hiding', 'high', 'higher', 'highest', 'highlight', 'highlights', 'highly', 'highs', 'hiit', 'hike', 'hiked', 'hikes', 'hiking', 'hilarious', 'hill', 'hills', 'himalayan', 'hindsight', 'hip', 'hippie', 'hips', 'hire', 'hired', 'hispanic', 'history', 'hit', 'hits', 'hitting', 'hmmmm', 'hoarders', 'hobbies', 'hobby', 'hockey', 'hoing', 'hold', 'holding', 'holds', 'hole', 'holed', 'holiday', 'holidays', 'hollow', 'holly', 'holy', 'home', 'homecook', 'homeless', 'homemade', 'homes', 'homeschooling', 'homies', 'honest', 'honestly', 'honesty', 'honey', 'honeymoon', 'honking', 'honor', 'honored', 'honour', 'hoo', 'hoodwinked', 'hook', 'hooked', 'hooky', 'hoops', 'hooray', 'hop', 'hope', 'hoped', 'hopeful', 'hopefully', 'hopeless', 'hopelessness', 'hopes', 'hoping', 'hopped', 'hops', 'horizon', 'horizontal', 'hormone', 'hormones', 'horn', 'horrendous', 'horrendously', 'horrible', 'horribly', 'horrific', 'horrified', 'horrify', 'horror', 'horse', 'horseman', 'horses', 'hose', 'hospital', 'hospitalied', 'hospitalization', 'hospitalized', 'host', 'hostile', 'hostility', 'hosting', 'hosts', 'hot', 'hotdogs', 'hotel', 'hotelrecently', 'hotels', 'hotline', 'hound', 'hour', 'hours', 'hoursfew', 'hoursover', 'house', 'household', 'housekeeper', 'housekeeping', 'housemates', 'houses', 'housework', 'hover', 'hovering', 'however', 'howi', 'hr', 'hrs', 'hs', 'htp', 'hubby', 'hug', 'huge', 'hugely', 'huh', 'hum', 'human', 'humanity', 'humanly', 'humans', 'humiliated', 'humiliating', 'humility', 'humor', 'hump', 'hunch', 'hundo', 'hundred', 'hundreds', 'hung', 'hunger', 'hungerday', 'hungover', 'hungrier', 'hungry', 'hunt', 'hunter', 'hunting', 'huntingtons', 'hurdles', 'hurry', 'hurt', 'hurtful', 'hurting', 'hurts', 'hurtstown', 'husband', 'husbands', 'husk', 'hydrate', 'hydrated', 'hydrating', 'hydration', 'hygiene', 'hyper', 'hypertension', 'hyperthyroid', 'hyperventilating', 'hypnotism', 'hypocritical', 'hypoglycemia', 'hypothetically', 'hysterectomy', 'ianuary', 'ibs', 'ice', 'iceberg', 'iced', 'icing', 'icu', 'id', 'idea', 'ideal', 'ideally', 'ideas', 'ideasso', 'ideation', 'ideations', 'idek', 'identical', 'identifiable', 'identifies', 'identify', 'identity', 'idiot', 'idiotic', 'idk', 'idol', 'idols', 'ids', 'iffy', 'igniting', 'ignorance', 'ignore', 'ignored', 'ignoring', 'ii', 'iih', 'ik', 'ill', 'illegal', 'illeostomy', 'illness', 'illusion', 'illustrate', 'illustrates', 'im', 'images', 'imagine', 'imagined', 'imagining', 'imbalance', 'imbalances', 'imbelished', 'imitation', 'imma', 'immediate', 'immediately', 'immense', 'immensely', 'immune', 'imo', 'imodium', 'impact', 'impactful', 'impacting', 'impacts', 'impaired', 'impatience', 'impatient', 'imperfect', 'imperfection', 'implant', 'implanted', 'implementing', 'implications', 'important', 'importantly', 'imposed', 'impossible', 'imposter', 'impressed', 'impression', 'impressive', 'imprisoned', 'improve', 'improved', 'improvement', 'improvements', 'improves', 'improving', 'impulse', 'impulsive', 'impulsivity', 'imputing', 'inability', 'inaccuracy', 'inappropriate', 'incapable', 'incase', 'inch', 'inches', 'inching', 'incident', 'incidental', 'incidents', 'incline', 'inclined', 'include', 'included', 'includes', 'including', 'inclusive', 'incoherent', 'income', 'inconsistent', 'inconvenience', 'incorporate', 'incorporated', 'incorporating', 'incorrect', 'incorrectly', 'increase', 'increased', 'increases', 'increasing', 'increasingly', 'incredible', 'incredibly', 'incrementally', 'incurred', 'indeed', 'indefinite', 'indefinitely', 'independent', 'index', 'indian', 'indicated', 'indicating', 'indication', 'indicator', 'indicators', 'indigenous', 'indirect', 'individual', 'individuals', 'indoor', 'induced', 'inducing', 'induction', 'indulge', 'indulged', 'indulging', 'industry', 'inebriated', 'inebriation', 'inefficient', 'inevitable', 'inevitably', 'infant', 'infantryman', 'infect', 'infection', 'infectious', 'infidelity', 'infinite', 'inflamed', 'inflammation', 'inflammatory', 'inflated', 'inflating', 'inflict', 'influence', 'influencers', 'influx', 'info', 'inform', 'information', 'informations', 'informed', 'informs', 'infrequent', 'infusion', 'ing', 'ingesting', 'ingrained', 'ingredient', 'ingredients', 'inhalents', 'inherit', 'inhibitions', 'inhibitor', 'ini', 'initial', 'initially', 'initiate', 'initiative', 'inject', 'injecting', 'injections', 'injured', 'injuries', 'injury', 'inn', 'innate', 'inner', 'innocent', 'inpatient', 'inpatienti', 'input', 'inputs', 'inquire', 'inquiry', 'inquit', 'ins', 'insane', 'insanely', 'insanity', 'insecure', 'insensitivity', 'inseparable', 'inside', 'insidious', 'insight', 'insightful', 'insights', 'insightsi', 'insisted', 'insomnia', 'insomniaquit', 'inspiration', 'inspirational', 'inspire', 'inspired', 'inspires', 'inspiring', 'instability', 'instagram', 'installed', 'instance', 'instant', 'instantly', 'instantpot', 'instead', 'instills', 'instinct', 'instructions', 'instructor', 'insufferable', 'insulin', 'insuline', 'insult', 'insurance', 'intake', 'intarweb', 'intend', 'intended', 'intense', 'intensely', 'intensified', 'intensity', 'intensive', 'intent', 'intention', 'intentional', 'intentions', 'interact', 'interacted', 'interaction', 'interactions', 'interest', 'interested', 'interesting', 'interests', 'interfere', 'interfering', 'interim', 'interject', 'interlock', 'intermittent', 'intermix', 'internal', 'internally', 'international', 'internet', 'interning', 'internment', 'internship', 'interpreted', 'interrogated', 'interrogation', 'interrupt', 'interrupting', 'interstellar', 'interval', 'intervals', 'interview', 'interviews', 'intimacy', 'intitiative', 'intolerable', 'intolerances', 'intolerant', 'intoxicated', 'intoxication', 'intraclass', 'intracranial', 'intro', 'introduce', 'introduced', 'introduction', 'introductory', 'introvert', 'introverted', 'intrusive', 'intubated', 'intuitively', 'inulin', 'invaluable', 'investments', 'investor', 'invincible', 'invite', 'invited', 'inviting', 'involve', 'involved', 'involves', 'involving', 'inweekends', 'iop', 'iow', 'ipa', 'ipas', 'ireland', 'irish', 'irl', 'iron', 'ironic', 'ironically', 'irrational', 'irregular', 'irreparable', 'irresponsible', 'irritability', 'irritable', 'irritate', 'irritated', 'irritating', 'irritation', 'ish', 'island', 'isnt', 'iso', 'isolate', 'isolated', 'isolation', 'isomalt', 'isotretinoinlast', 'issue', 'issues', 'issueshi', 'issuesi', 'issueso', 'italian', 'italy', 'itch', 'itching', 'itchy', 'item', 'items', 'iti', 'itll', 'itso', 'ittoday', 'iu', 'iv', 'ive', 'iwdwyt', 'iwnbdwyt', 'iwndwy', 'iwndwyt', 'iwndwytd', 'iwndwyti', 'iwndwytiwndwyt', 'iwndwytthat', 'iwndyt', 'jab', 'jack', 'jacket', 'jaded', 'jail', 'jailx', 'jalapeno', 'jalapenos', 'jan', 'january', 'jar', 'jargon', 'jarring', 'jasmine', 'jaundice', 'jaw', 'jays', 'je', 'jealous', 'jean', 'jeans', 'jeez', 'jerks', 'jerky', 'jet', 'jfc', 'jiddo', 'jiggly', 'jims', 'jitsu', 'jittery', 'jiu', 'joachim', 'job', 'jobit', 'jobs', 'joe', 'jog', 'jogging', 'jogs', 'john', 'join', 'joined', 'joining', 'joint', 'joints', 'joke', 'joked', 'jokes', 'joking', 'jokingly', 'jones', 'journal', 'journaling', 'journey', 'journeylong', 'journeys', 'journeysthis', 'joviality', 'joy', 'joyous', 'joysthere', 'judge', 'judgement', 'judgemental', 'judging', 'judgment', 'judgmental', 'judgy', 'juice', 'juicy', 'juju', 'jules', 'julio', 'july', 'jump', 'jumped', 'jumping', 'jumpstart', 'jun', 'june', 'junior', 'junk', 'junkie', 'junky', 'junmai', 'jus', 'justice', 'justifications', 'justified', 'justify', 'justifying', 'kale', 'karaoke', 'karma', 'katherine', 'kc', 'kcal', 'kcko', 'kebab', 'keen', 'keenly', 'keep', 'keeping', 'keeps', 'kegger', 'kens', 'kept', 'keri', 'kerrygold', 'ketamine', 'ketchup', 'ketoacidosis', 'ketoade', 'ketoafter', 'ketoaid', 'ketoaide', 'ketoback', 'ketochow', 'ketoers', 'ketogains', 'ketogenises', 'ketohey', 'ketohi', 'ketoi', 'ketomy', 'ketone', 'ketones', 'ketoon', 'ketosis', 'ketoso', 'ketostarted', 'ketoversary', 'ketoversarythe', 'kettles', 'kevin', 'kewl', 'key', 'keychains', 'kg', 'kgs', 'kgsi', 'kick', 'kickass', 'kicked', 'kicking', 'kicks', 'kid', 'kidding', 'kiddos', 'kidney', 'kidneys', 'kids', 'kilgore', 'kill', 'killa', 'killed', 'killing', 'kilograms', 'kilos', 'kilter', 'kimchee', 'kind', 'kinda', 'kindergarden', 'kindly', 'kindness', 'kinds', 'king', 'kinks', 'kirkland', 'kiss', 'kit', 'kitchen', 'kitchens', 'kite', 'kits', 'kitsi', 'kitty', 'klinio', 'km', 'knead', 'knee', 'knees', 'knew', 'knife', 'knock', 'knocked', 'knot', 'know', 'knowing', 'knowledge', 'known', 'knows', 'knuckle', 'knuckles', 'kombucha', 'kombuchafor', 'koolaid', 'korelitz', 'krill', 'kroger', 'kudos', 'kurt', 'la', 'lab', 'label', 'labelled', 'labels', 'labs', 'lack', 'lacking', 'lackluster', 'lactated', 'lactose', 'lad', 'laden', 'ladies', 'lady', 'lag', 'lager', 'laid', 'lake', 'lamb', 'lament', 'lamenting', 'landed', 'landlord', 'landmines', 'lands', 'landscaping', 'lane', 'language', 'lap', 'laparoscopic', 'laps', 'lapse', 'lapsed', 'laptop', 'lard', 'large', 'largely', 'larger', 'largish', 'lasagna', 'lasagnamade', 'lasagnas', 'lashing', 'last', 'lasted', 'lasting', 'lasts', 'late', 'lately', 'latelyi', 'later', 'latest', 'latter', 'lattes', 'laugh', 'laughed', 'laughing', 'laughter', 'launching', 'laundry', 'law', 'lawn', 'laws', 'lawyer', 'laxing', 'lay', 'layers', 'laying', 'laziness', 'lazy', 'lb', 'lbi', 'lbs', 'lbscw', 'lbsgw', 'lbsi', 'lbssw', 'lc', 'ldl', 'le', 'lead', 'leadership', 'leading', 'leads', 'leafy', 'leak', 'leaky', 'lean', 'leaned', 'leap', 'learn', 'learned', 'learning', 'learnings', 'learnt', 'least', 'leave', 'leaves', 'leaving', 'lecture', 'led', 'ledge', 'left', 'leftover', 'leftovers', 'leg', 'legal', 'legit', 'legitimately', 'legs', 'lemme', 'lemon', 'lemonade', 'lend', 'length', 'lengthy', 'lenses', 'les', 'less', 'lessened', 'lesser', 'lesson', 'lessons', 'lessonthe', 'let', 'lethargic', 'lethargy', 'lets', 'lettice', 'letting', 'lettuce', 'leu', 'level', 'levels', 'levelsi', 'levers', 'liberating', 'library', 'librium', 'license', 'licensed', 'lichen', 'lie', 'lied', 'lies', 'life', 'lifedeep', 'lifei', 'lifelong', 'lifesaver', 'lifeso', 'lifestyle', 'lifestyles', 'lifetime', 'lift', 'lifted', 'lifter', 'lifting', 'lifts', 'light', 'lighten', 'lighter', 'lightest', 'lightheadedness', 'lightish', 'lightly', 'lights', 'likable', 'like', 'liked', 'likely', 'likes', 'liking', 'lil', 'lily', 'limbs', 'lime', 'limit', 'limitations', 'limited', 'limiting', 'limitless', 'limits', 'limoncello', 'limping', 'lindt', 'line', 'linear', 'lined', 'liners', 'lines', 'linger', 'linguine', 'lining', 'link', 'linked', 'links', 'lip', 'liquid', 'liquids', 'liquidy', 'liquor', 'liquors', 'list', 'listed', 'listen', 'listened', 'listening', 'listing', 'lists', 'lit', 'lite', 'liter', 'literal', 'literally', 'literary', 'literes', 'liters', 'lithe', 'litre', 'litres', 'litter', 'litteraly', 'little', 'live', 'lived', 'liver', 'livers', 'lives', 'living', 'lizard', 'lmao', 'lo', 'load', 'loaded', 'loading', 'loads', 'loaf', 'loan', 'loathed', 'loathing', 'loaves', 'local', 'location', 'locations', 'lock', 'lockdown', 'lockdowns', 'locked', 'lockup', 'log', 'logic', 'logical', 'logistics', 'logs', 'lol', 'lolhad', 'lolmy', 'loneliness', 'lonely', 'long', 'longer', 'longest', 'longso', 'longterm', 'longtime', 'look', 'looked', 'looking', 'looks', 'loooong', 'loop', 'loophole', 'loose', 'loosely', 'loosened', 'looser', 'loosing', 'lord', 'lose', 'loser', 'losers', 'loses', 'losing', 'losingi', 'loss', 'losses', 'losshas', 'losshi', 'lossi', 'lost', 'losti', 'lot', 'lots', 'lotta', 'loud', 'loudly', 'lousy', 'love', 'loved', 'lovely', 'lover', 'lovers', 'loves', 'loving', 'lovingly', 'low', 'lower', 'lowered', 'lowering', 'loweriny', 'lowers', 'lowest', 'lows', 'loyal', 'lozenge', 'lt', 'ltrs', 'lucid', 'luck', 'luckiest', 'luckily', 'lucky', 'lump', 'lumped', 'luna', 'lunch', 'lunches', 'lung', 'lupin', 'lurk', 'lurked', 'lurker', 'lurkers', 'lurking', 'ly', 'lychee', 'lying', 'lymph', 'maaybe', 'macadamia', 'macbeen', 'macbook', 'maccie', 'machete', 'machine', 'macro', 'macrohi', 'macros', 'macroshello', 'macrosi', 'mad', 'maddening', 'made', 'mag', 'magic', 'magical', 'magically', 'magnesium', 'magnitude', 'maid', 'mail', 'mailing', 'main', 'mainland', 'mainly', 'maintain', 'maintained', 'maintaining', 'maintaned', 'maintenance', 'major', 'majority', 'majorityof', 'make', 'maker', 'makes', 'making', 'makings', 'mal', 'male', 'males', 'malfunctioning', 'malitol', 'mall', 'malnutrition', 'malt', 'maltodextrin', 'mama', 'man', 'manage', 'manageable', 'managed', 'manager', 'manageranyone', 'managers', 'managing', 'manatees', 'mangesium', 'mangoes', 'mania', 'manic', 'manicshoutout', 'manifest', 'manifested', 'manipulated', 'manipulation', 'manipulative', 'mantra', 'many', 'maple', 'maraschino', 'marathon', 'march', 'margin', 'maria', 'mariachi', 'marijuana', 'marinade', 'marinades', 'marinate', 'marinated', 'marine', 'mark', 'marked', 'markedly', 'marker', 'markeri', 'markers', 'markersi', 'market', 'marketing', 'markets', 'marks', 'marlboro', 'marmalade', 'marriage', 'married', 'marry', 'mart', 'marvelous', 'mary', 'mashed', 'mask', 'masks', 'mass', 'massive', 'massively', 'master', 'masturbating', 'match', 'matches', 'mate', 'material', 'mates', 'math', 'matrix', 'matt', 'matteo', 'matter', 'matters', 'mattress', 'mature', 'matured', 'max', 'maxed', 'may', 'maybe', 'maybeday', 'maybes', 'mayo', 'mba', 'mcdonald', 'mcdonalds', 'mcgregor', 'mct', 'meal', 'mealdo', 'meals', 'mealso', 'mean', 'meand', 'meaning', 'meaningful', 'meaningless', 'means', 'meant', 'meantime', 'measly', 'measure', 'measurement', 'measurements', 'measures', 'measuring', 'meat', 'meatloaf', 'meats', 'meby', 'mecan', 'mechanically', 'mechanism', 'mechanisms', 'med', 'medal', 'meday', 'media', 'medias', 'mediates', 'medical', 'medically', 'medicated', 'medicates', 'medicating', 'medicatingstop', 'medication', 'medications', 'medicial', 'medicinal', 'medicine', 'medicines', 'medifast', 'meditate', 'meditated', 'meditating', 'meditation', 'meditations', 'mediterranean', 'medium', 'meds', 'meeee', 'meet', 'meeting', 'meetings', 'meetingsi', 'meetingwent', 'meetup', 'mefor', 'mega', 'meh', 'mehello', 'mehey', 'mehi', 'mei', 'mejust', 'melancholia', 'melatonin', 'melt', 'meltdown', 'meltdowns', 'melted', 'member', 'members', 'membership', 'meme', 'memorable', 'memorial', 'memories', 'memory', 'memy', 'men', 'menand', 'menaq', 'menstruated', 'mensuration', 'mental', 'mentality', 'mentally', 'mention', 'mentioned', 'mentioning', 'mentions', 'mentor', 'menu', 'menus', 'merci', 'merciless', 'mercola', 'mercy', 'mere', 'merely', 'merica', 'merit', 'merited', 'merlot', 'merriment', 'mess', 'message', 'messaged', 'messages', 'messed', 'messenger', 'messes', 'messing', 'messy', 'met', 'metabolism', 'metaphorical', 'meter', 'meters', 'metformin', 'meth', 'methamphetamine', 'method', 'methods', 'metoday', 'metre', 'metres', 'metric', 'mex', 'mexican', 'mexico', 'mf', 'mfer', 'mfp', 'mfs', 'mg', 'miami', 'micro', 'microwave', 'mid', 'middle', 'midnight', 'midst', 'might', 'mighty', 'migraine', 'migraines', 'mil', 'mild', 'mildly', 'mile', 'mileage', 'miles', 'milestone', 'milestones', 'military', 'milk', 'milks', 'milkshakes', 'milkthe', 'millie', 'million', 'millioni', 'millionth', 'mimosa', 'min', 'mind', 'minded', 'mindfully', 'mindfulness', 'mindless', 'mindlesshey', 'mindlessly', 'minds', 'mindset', 'mine', 'mineral', 'minerals', 'mineralshi', 'mini', 'minimal', 'minimize', 'minimum', 'minor', 'minority', 'mins', 'mint', 'minus', 'minute', 'minutes', 'mio', 'miracle', 'miracles', 'miraculous', 'mirror', 'mirrors', 'misc', 'miserable', 'miserablei', 'miserably', 'misery', 'misguided', 'mishap', 'misinformed', 'misjudged', 'miss', 'missed', 'missing', 'mission', 'missouri', 'misspelling', 'missteps', 'mistake', 'mistaken', 'mistakenly', 'mistakes', 'mistakeshello', 'misunderstood', 'misusing', 'mix', 'mixed', 'mixer', 'mixers', 'mixes', 'mixing', 'mixture', 'mk', 'ml', 'mmol', 'moans', 'mob', 'mobile', 'mobs', 'mock', 'mocked', 'mocktails', 'mod', 'mode', 'modehello', 'model', 'models', 'moderate', 'moderately', 'moderating', 'moderation', 'modern', 'modest', 'modified', 'modify', 'mods', 'mojitos', 'mojo', 'molded', 'moldy', 'molecule', 'molly', 'mom', 'moment', 'momentarily', 'moments', 'momentum', 'moms', 'mon', 'monday', 'mondays', 'money', 'monitor', 'monitored', 'monitoring', 'monk', 'monkey', 'monkfruit', 'monologue', 'monster', 'monstrous', 'montana', 'month', 'monthi', 'monthly', 'months', 'monthsi', 'monthsme', 'monthssober', 'mood', 'moods', 'moody', 'moodyhey', 'moon', 'moonshine', 'moot', 'moral', 'morbidly', 'moreso', 'morgue', 'morn', 'morning', 'morninginstead', 'mornings', 'moron', 'morphed', 'morphine', 'mortgage', 'moses', 'mostly', 'motel', 'mother', 'motherfracking', 'motherfucking', 'motion', 'motions', 'motivate', 'motivated', 'motivatedi', 'motivates', 'motivating', 'motivation', 'motivational', 'motivationi', 'motivator', 'motor', 'motorcycle', 'motrin', 'mountain', 'mountains', 'mourn', 'mourned', 'mouth', 'mouthwash', 'move', 'moved', 'movement', 'movements', 'moves', 'movie', 'movies', 'moving', 'mowed', 'mower', 'mows', 'mozz', 'mozzarella', 'mozzerella', 'ms', 'msn', 'much', 'muffled', 'mug', 'mulch', 'multi', 'multiple', 'multiples', 'multivitamin', 'mum', 'mumbled', 'mummy', 'munch', 'munchies', 'muscle', 'muscles', 'muscular', 'museum', 'mushroom', 'mushrooms', 'music', 'musician', 'musings', 'must', 'mustard', 'muster', 'mute', 'muted', 'mydiabetes', 'myfitnesspal', 'myselfday', 'myselfhad', 'myselfliterally', 'myselfstrange', 'mystery', 'na', 'nac', 'nachos', 'nads', 'nagging', 'nah', 'nail', 'nailing', 'nails', 'naive', 'naively', 'naked', 'naltrex', 'naltrexone', 'naltrexonecontemplating', 'naltrexonestress', 'name', 'nandos', 'nap', 'napping', 'naproxen', 'naps', 'narcotics', 'narrative', 'narrow', 'nasty', 'national', 'nationwide', 'native', 'natty', 'natural', 'naturally', 'nature', 'naughty', 'nausea', 'nauseous', 'navigate', 'navy', 'nazis', 'nd', 'ndri', 'near', 'nearest', 'nearing', 'nearly', 'neat', 'necessarily', 'necessary', 'neck', 'need', 'needed', 'neededtoday', 'needing', 'needless', 'needs', 'negative', 'negatively', 'negatives', 'neglect', 'neglected', 'neglecting', 'neglects', 'negotiations', 'neighbor', 'neighborhood', 'neighbors', 'neighbour', 'neither', 'nerding', 'nerds', 'nerdy', 'nerve', 'nerves', 'nervous', 'nescaf', 'nessasarly', 'nessecarily', 'net', 'netflix', 'netrition', 'netting', 'neuroinflammation', 'neurological', 'neurologist', 'neuropathy', 'never', 'nevertheless', 'new', 'newb', 'newbie', 'newbies', 'newcomers', 'newer', 'newest', 'newi', 'newly', 'news', 'next', 'nhl', 'nice', 'nicely', 'nicer', 'nicotine', 'niece', 'nifty', 'night', 'nightclubs', 'nighter', 'nightjust', 'nightlife', 'nightlifei', 'nightlong', 'nightly', 'nightmare', 'nightmares', 'nights', 'nightstand', 'nighttitle', 'nighttonight', 'nih', 'nine', 'nobles', 'nobody', 'nodding', 'node', 'noise', 'non', 'none', 'nonperishable', 'nonsense', 'nonstop', 'noob', 'noodles', 'noom', 'noon', 'nope', 'norco', 'norepidephrine', 'norm', 'normal', 'normalcy', 'normalisation', 'normalize', 'normalized', 'normalizing', 'normally', 'northeast', 'nosalt', 'nose', 'nostalgic', 'notches', 'note', 'noted', 'notes', 'noteworthy', 'nothing', 'nothings', 'notice', 'noticeable', 'noticeably', 'noticed', 'noticewell', 'noticing', 'notification', 'notify', 'notion', 'nourishes', 'nova', 'novel', 'november', 'novice', 'nowadays', 'nowhere', 'nowthis', 'nozeco', 'nsv', 'nsvi', 'nsvoctober', 'nuance', 'nugget', 'nuke', 'null', 'numb', 'number', 'numbering', 'numbers', 'numbershow', 'numbing', 'numbness', 'numerous', 'nurse', 'nursing', 'nut', 'nutmeg', 'nutrients', 'nutrition', 'nutritional', 'nutritionally', 'nutritionist', 'nutritionists', 'nuts', 'nutshell', 'nutts', 'nuun', 'nyc', 'nye', 'oat', 'oatmeal', 'oats', 'obese', 'obeseit', 'obesessive', 'obesity', 'objected', 'objective', 'objectively', 'obligated', 'obligations', 'obligatory', 'obliterated', 'oblivion', 'obnoxious', 'obscene', 'observationi', 'observations', 'observe', 'observed', 'observer', 'observing', 'obsess', 'obsessed', 'obsessing', 'obsession', 'obsessive', 'obsessively', 'obstacle', 'obtain', 'obtainable', 'obvious', 'obviously', 'occasion', 'occasional', 'occasionally', 'occasions', 'occupied', 'occupy', 'occur', 'occurred', 'occurrence', 'occurrences', 'occurring', 'occurs', 'ocd', 'ocean', 'octane', 'october', 'odd', 'oddly', 'odt', 'ofc', 'ofcourse', 'offended', 'offensive', 'offer', 'offered', 'offering', 'offers', 'offhello', 'office', 'official', 'officially', 'often', 'oh', 'ohhh', 'oi', 'oil', 'oilbear', 'oiled', 'oils', 'ok', 'okay', 'ol', 'old', 'older', 'olive', 'olives', 'omad', 'omega', 'omegas', 'omelette', 'omeprazole', 'omfg', 'omg', 'omlettes', 'ondansetron', 'one', 'onealcohol', 'onei', 'onemy', 'ones', 'oneso', 'ongoing', 'ongoingtomorrow', 'onion', 'onions', 'online', 'ontario', 'onto', 'onward', 'oo', 'oodles', 'oof', 'open', 'opened', 'opener', 'openerlast', 'opening', 'openly', 'opens', 'operation', 'opiate', 'opiates', 'opinion', 'opinionated', 'opinions', 'opioid', 'opioids', 'opportunities', 'opportunity', 'opposed', 'opposing', 'opposite', 'opt', 'optavia', 'opted', 'optifast', 'optimal', 'optimistic', 'opting', 'option', 'options', 'oral', 'orange', 'oranges', 'orangetheory', 'ordeal', 'order', 'ordered', 'ordering', 'ordinary', 'oregon', 'organ', 'organic', 'organisation', 'organise', 'organize', 'organized', 'organizing', 'organs', 'orientation', 'oriented', 'original', 'originally', 'osama', 'ostomates', 'others', 'otherwise', 'ouch', 'ounces', 'ourself', 'ourselvestwo', 'outbreak', 'outcomes', 'outdoor', 'outdoors', 'outdoorsmen', 'outgoing', 'outi', 'outing', 'outings', 'outlawed', 'outlet', 'outlets', 'outlong', 'outlook', 'outpatient', 'outright', 'outs', 'outside', 'outsiders', 'outskirts', 'outta', 'outward', 'outwardly', 'outweigh', 'outweighs', 'oven', 'ovens', 'overactive', 'overal', 'overall', 'overboard', 'overcame', 'overcome', 'overconfident', 'overdid', 'overdo', 'overdoing', 'overdose', 'overdosed', 'overdrive', 'overeat', 'overeating', 'overgotta', 'overheard', 'overhey', 'overhi', 'overindulge', 'overlap', 'overlast', 'overload', 'overly', 'overmy', 'overnight', 'overpowered', 'overpowers', 'overpriced', 'overreacting', 'override', 'overseas', 'oversleep', 'overspending', 'overstimulated', 'overt', 'overtake', 'overthinker', 'overthinking', 'overtime', 'overuse', 'overweight', 'overweighttoday', 'overwhelm', 'overwhelmed', 'overwhelming', 'ovulation', 'owe', 'owed', 'owning', 'ox', 'oxalite', 'oxalitehi', 'oxalites', 'oxide', 'oxygen', 'oyster', 'oz', 'pace', 'pacing', 'pack', 'package', 'packaged', 'packaging', 'packed', 'packet', 'packets', 'packing', 'packs', 'pad', 'paddle', 'pads', 'page', 'paid', 'pain', 'painful', 'paini', 'pains', 'paint', 'painting', 'pair', 'paired', 'pal', 'palatable', 'pale', 'paleo', 'palliative', 'palm', 'palpitations', 'pan', 'pancake', 'pancakes', 'pancreas', 'pancreatic', 'pancreatitis', 'panda', 'pandemic', 'pandemictoday', 'pandy', 'panel', 'pangs', 'panic', 'panicked', 'panicking', 'panicky', 'pant', 'panties', 'pantry', 'pants', 'paper', 'papers', 'paperwork', 'paprika', 'paradox', 'paradoxical', 'paralysed', 'paralysis', 'paralyzed', 'parameters', 'paranoia', 'paranoid', 'parchment', 'parent', 'parents', 'park', 'parked', 'parking', 'parks', 'parmesan', 'parotid', 'part', 'partake', 'partial', 'partially', 'participant', 'participants', 'participate', 'participated', 'particular', 'particularly', 'particulars', 'partied', 'parties', 'parting', 'partly', 'partner', 'parts', 'partway', 'party', 'partycongrats', 'partyi', 'partying', 'partymy', 'pass', 'passage', 'passed', 'passedtoday', 'passes', 'passing', 'passive', 'password', 'past', 'pasta', 'paste', 'pastime', 'pasting', 'pastry', 'pat', 'patch', 'patches', 'path', 'pathetic', 'paths', 'patience', 'patient', 'patio', 'patios', 'pattern', 'patterns', 'patties', 'patty', 'paula', 'pause', 'paused', 'pauses', 'pausing', 'pavement', 'pawning', 'paws', 'pay', 'paychecks', 'payday', 'paydays', 'paying', 'payoff', 'pbfit', 'pcos', 'pds', 'pea', 'peace', 'peaceful', 'peach', 'peak', 'peaking', 'peanut', 'peanutbutter', 'peanuts', 'peas', 'pecan', 'pecans', 'peculiar', 'pedialyte', 'pee', 'peeing', 'peel', 'peels', 'peeps', 'peer', 'peers', 'peeved', 'peloton', 'pendulum', 'pens', 'pension', 'pent', 'people', 'pep', 'pepper', 'pepperoni', 'pepperonis', 'peppers', 'pepsi', 'pepto', 'per', 'perceive', 'perceived', 'percent', 'percentage', 'percentages', 'perception', 'perceptive', 'percocets', 'perfect', 'perfectly', 'perform', 'performance', 'performed', 'perfume', 'perhaps', 'period', 'periodic', 'periodically', 'periods', 'periodsi', 'perks', 'perma', 'permanent', 'permanently', 'permanentlyi', 'permeate', 'permenantly', 'permission', 'permit', 'perpetrators', 'perpetuate', 'perpetuating', 'persevered', 'persist', 'persistent', 'person', 'personal', 'personality', 'personalityit', 'personalized', 'personally', 'personbirthdays', 'persons', 'perspective', 'perspectives', 'persuaded', 'persuasive', 'pertaining', 'pervasive', 'pescatariani', 'peter', 'petrol', 'pets', 'pfizers', 'pharma', 'pharmacy', 'phase', 'phases', 'phenomenon', 'philly', 'philosophy', 'phobia', 'phoenix', 'phone', 'phoned', 'photo', 'photography', 'photos', 'phrase', 'phrases', 'physical', 'physically', 'physician', 'physiological', 'physique', 'phytosome', 'pic', 'pick', 'picked', 'picking', 'pickle', 'pickles', 'picky', 'pics', 'picture', 'pictures', 'picturing', 'pie', 'piece', 'pieces', 'pies', 'pig', 'pigged', 'pile', 'piled', 'piles', 'piling', 'pill', 'pillhi', 'pillow', 'pills', 'pilot', 'pilots', 'pin', 'pinball', 'pinch', 'pinched', 'pineapple', 'piney', 'pink', 'pinned', 'pinot', 'pinpoint', 'pint', 'pints', 'pioneer', 'pirates', 'piss', 'pissed', 'pisses', 'pissy', 'pit', 'pitiful', 'pitty', 'pity', 'pivotal', 'pizza', 'pizzai', 'pizzas', 'place', 'placebo', 'placed', 'places', 'plagued', 'plain', 'plainly', 'plan', 'plane', 'planet', 'planing', 'planned', 'planner', 'planning', 'plans', 'plansomebody', 'plant', 'planting', 'plants', 'plastered', 'plastic', 'plate', 'plateau', 'plateaued', 'plateauing', 'plateaus', 'plateauso', 'plateuing', 'play', 'played', 'player', 'playing', 'playlist', 'playoffs', 'plays', 'pleading', 'pleasant', 'pleasantly', 'please', 'pleased', 'pleasehi', 'pleasei', 'pleaser', 'pleasure', 'pleasures', 'pled', 'pledge', 'pledges', 'pledging', 'plentiful', 'plenty', 'plethora', 'plight', 'plot', 'plumbing', 'plummeted', 'plums', 'plunge', 'plus', 'pm', 'poblano', 'pocket', 'pockets', 'podcast', 'podcasts', 'podcastshi', 'poignant', 'point', 'pointed', 'pointers', 'pointing', 'pointless', 'points', 'poison', 'poisoned', 'poisoning', 'poisonous', 'poke', 'poker', 'poland', 'polar', 'police', 'polished', 'polite', 'politely', 'politics', 'polyols', 'ponse', 'pontzer', 'pool', 'poop', 'pooped', 'pooper', 'poops', 'poopso', 'poor', 'poorly', 'pop', 'popcorn', 'popped', 'popping', 'pops', 'popular', 'popularity', 'porch', 'pore', 'pork', 'porn', 'portable', 'porthole', 'portion', 'portions', 'portionsjust', 'portrait', 'portugal', 'pos', 'pose', 'position', 'positive', 'positives', 'positivity', 'possibilities', 'possibility', 'possible', 'possibly', 'post', 'postacute', 'posted', 'poster', 'posters', 'postgreetings', 'posting', 'postponed', 'posts', 'postso', 'pot', 'potassium', 'potato', 'potatoes', 'potent', 'potential', 'potentially', 'potty', 'pouch', 'pound', 'pounding', 'pounds', 'pour', 'poured', 'pouring', 'pout', 'pov', 'powder', 'powdered', 'power', 'powered', 'powerful', 'powerfully', 'powerhouse', 'powerless', 'powerlifter', 'ppe', 'ppgood', 'ppl', 'pple', 'pr', 'practical', 'practically', 'practice', 'practiced', 'practicing', 'praise', 'pray', 'prayer', 'prayers', 'praying', 'pre', 'preach', 'preacher', 'precede', 'precious', 'preconceptions', 'predatory', 'prediabetic', 'prediabeticsi', 'predisposition', 'preface', 'prefer', 'preferably', 'preference', 'preferences', 'preferred', 'pregnancy', 'pregnant', 'premature', 'premium', 'premix', 'preoccupations', 'prep', 'prepackaged', 'prepare', 'prepared', 'preparing', 'prepped', 'prepping', 'preprepared', 'prescribe', 'prescribed', 'prescription', 'prescriptions', 'presence', 'present', 'presentation', 'presently', 'preserve', 'press', 'pressed', 'pressing', 'pressure', 'pressured', 'pressurehas', 'pressuring', 'prestigious', 'pretend', 'pretended', 'pretending', 'pretty', 'prevalent', 'prevent', 'prevented', 'preventing', 'prevention', 'prevents', 'previous', 'previously', 'preying', 'price', 'pricier', 'prick', 'prickly', 'pride', 'prilosec', 'primarily', 'primary', 'prime', 'primitive', 'principle', 'prior', 'priorities', 'priority', 'private', 'pro', 'probably', 'probablyat', 'probation', 'probiotic', 'problem', 'problematic', 'problemhello', 'problemi', 'problems', 'proc', 'procedures', 'proceed', 'proceeded', 'proceeds', 'process', 'processed', 'processing', 'processors', 'procrastinated', 'proctitis', 'produce', 'produces', 'producing', 'product', 'productive', 'productivity', 'products', 'profession', 'professional', 'professionals', 'profile', 'profits', 'profound', 'profoundly', 'profusely', 'program', 'programming', 'programs', 'progress', 'progressed', 'progressi', 'progression', 'progressive', 'progressively', 'prohibition', 'project', 'projected', 'projection', 'projections', 'projects', 'prologue', 'prolonged', 'prom', 'promise', 'promised', 'promises', 'promising', 'promissing', 'promoted', 'promotion', 'promptly', 'prone', 'pronounced', 'proof', 'proper', 'properly', 'properties', 'property', 'proplem', 'proponent', 'proposed', 'propranolol', 'pros', 'protect', 'protective', 'protein', 'proteinpre', 'proteins', 'protocol', 'protocols', 'protruding', 'proud', 'proudhi', 'prove', 'proved', 'proven', 'provide', 'provided', 'providing', 'provincial', 'proving', 'proxy', 'prozac', 'pruning', 'ps', 'psa', 'psoriatic', 'psych', 'psychedelic', 'psychedelics', 'psychiatric', 'psychiatrist', 'psychiatry', 'psychic', 'psychological', 'psychologically', 'psychosis', 'psychotic', 'psychotics', 'psyllium', 'pt', 'ptsd', 'pub', 'public', 'publicly', 'publishers', 'publishing', 'publix', 'pubs', 'puddings', 'puffy', 'puke', 'puked', 'puking', 'pull', 'pulled', 'pulling', 'pulls', 'pulse', 'pumped', 'pumpkin', 'pumps', 'punching', 'punchline', 'punish', 'punished', 'punishment', 'puppy', 'purchase', 'purchased', 'pure', 'puree', 'purely', 'purgatory', 'purge', 'purine', 'purists', 'purple', 'purpose', 'purposefully', 'purposes', 'purse', 'pursue', 'pursuing', 'push', 'pushed', 'pusher', 'pushes', 'pushier', 'pushing', 'pushy', 'pussies', 'put', 'putridness', 'puts', 'putting', 'puzzle', 'puzzled', 'quality', 'qualms', 'quantities', 'quantity', 'quarantene', 'quarantine', 'quarter', 'quasi', 'que', 'queasy', 'queen', 'quell', 'quercetin', 'quest', 'question', 'questiona', 'questioned', 'questioning', 'questions', 'questionsbackground', 'questionsfor', 'questionsi', 'queue', 'quick', 'quicker', 'quickly', 'quiet', 'quietly', 'quinoa', 'quit', 'quite', 'quitting', 'quittingmy', 'quizzing', 'quo', 'quoi', 'quote', 'quotes', 'rabbit', 'race', 'racial', 'racing', 'rack', 'racked', 'rad', 'radar', 'radiating', 'radiation', 'radio', 'radish', 'radishes', 'rage', 'ragged', 'raging', 'rags', 'rail', 'railing', 'rails', 'rain', 'rainbows', 'rainy', 'raise', 'raised', 'raises', 'raisin', 'raising', 'raisins', 'ramble', 'rambles', 'rambling', 'ramen', 'rammed', 'ramp', 'ramped', 'ramping', 'ramsey', 'ran', 'ranch', 'random', 'randomly', 'range', 'rank', 'rant', 'ranti', 'ranting', 'ranty', 'rao', 'raped', 'raphael', 'rapid', 'rare', 'rarely', 'rash', 'rashers', 'raspberries', 'rate', 'rated', 'rates', 'rather', 'rating', 'ratio', 'rational', 'rationalisation', 'rationalizations', 'rationalize', 'rationalizing', 'ratios', 'rats', 'rave', 'ravenous', 'raw', 'rbt', 'rd', 'rda', 'rdas', 'rds', 'reach', 'reached', 'reaching', 'react', 'reacted', 'reaction', 'reactionsi', 'read', 'reader', 'readers', 'reading', 'readings', 'readmit', 'ready', 'reaffirmed', 'real', 'realisation', 'realise', 'realised', 'realising', 'realistic', 'reality', 'realization', 'realizationfeeling', 'realize', 'realized', 'realizing', 'really', 'reallying', 'reared', 'rearing', 'reason', 'reasonable', 'reasonably', 'reasoning', 'reasons', 'reassess', 'reassurance', 'reassurancejust', 'rebel', 'reborn', 'rebound', 'rebounded', 'rebuilding', 'recalculate', 'recalibrates', 'recalibration', 'recall', 'recap', 'recapture', 'receive', 'received', 'receiving', 'recent', 'recently', 'recentlyhi', 'reception', 'receptors', 'recipe', 'recipes', 'recipeshusband', 'recipesi', 'reckon', 'reclaim', 'recluse', 'recognise', 'recognised', 'recognising', 'recognize', 'recognized', 'recognizes', 'recognizing', 'recollection', 'recommand', 'recommend', 'recommendation', 'recommendations', 'recommendationsok', 'recommended', 'recommending', 'recommitment', 'recommitted', 'recomp', 'reconcile', 'reconciled', 'reconnect', 'reconnected', 'record', 'recording', 'recover', 'recovering', 'recovery', 'recoveryi', 'recreationally', 'recurring', 'recyclable', 'recycling', 'red', 'reddit', 'redditnew', 'redditors', 'redirected', 'rediscovered', 'rediscovering', 'reduce', 'reduced', 'reduces', 'reducing', 'reduction', 'reeked', 'reeks', 'reeling', 'reels', 'reentered', 'reexamining', 'ref', 'reference', 'references', 'referral', 'referred', 'refers', 'refilled', 'refined', 'reflect', 'reflecting', 'reflection', 'reflective', 'reflux', 'refluxing', 'reframe', 'refreshed', 'refresher', 'refreshing', 'refrigerate', 'refrigerated', 'refrigeration', 'refrigerator', 'refuge', 'refuse', 'refused', 'regained', 'regard', 'regarding', 'regardless', 'regards', 'regime', 'regimen', 'regimens', 'regiment', 'region', 'register', 'registered', 'regresses', 'regressing', 'regret', 'regretful', 'regrets', 'regrettable', 'regretted', 'regretting', 'regrettoday', 'regular', 'regularly', 'regulars', 'regulate', 'regulated', 'regulating', 'regulations', 'rehab', 'rehabilitation', 'rehabwell', 'rehad', 'rehearsal', 'reinforce', 'reinforced', 'reintroduce', 'reintroducing', 'reinvent', 'reinvest', 'reject', 'rejections', 'rejects', 'rejoice', 'rejoined', 'rejuvenating', 'relapse', 'relapsed', 'relapsehi', 'relapsei', 'relapsemy', 'relapses', 'relapseshe', 'relapsing', 'relapsingsitting', 'relate', 'related', 'relates', 'relating', 'relations', 'relationship', 'relationshipadvice', 'relationships', 'relationshipsstop', 'relative', 'relatively', 'relax', 'relaxant', 'relaxed', 'relaxing', 'relay', 'relearn', 'release', 'released', 'releasing', 'relentless', 'relevance', 'reliable', 'reliably', 'relief', 'relieve', 'relieved', 'relieves', 'relieving', 'religions', 'religious', 'religiously', 'reluctance', 'reluctant', 'reluctantly', 'rely', 'relying', 'remain', 'remainder', 'remained', 'remaining', 'remand', 'remember', 'remembered', 'remembering', 'remind', 'reminded', 'reminder', 'reminders', 'reminding', 'reminds', 'remorse', 'remove', 'removed', 'removing', 'renewed', 'rent', 'rental', 'rented', 'reoccurring', 'reopened', 'reorder', 'reorganizing', 'repair', 'repairable', 'repaired', 'repay', 'repeat', 'repeatedly', 'repeating', 'repercussions', 'repetitive', 'replace', 'replaced', 'replacement', 'replacements', 'replacing', 'replaying', 'replenish', 'replenishing', 'replied', 'replies', 'report', 'reported', 'reports', 'repr', 'represent', 'represents', 'repressing', 'reprieve', 'repulsed', 'reputable', 'request', 'requested', 'requesting', 'require', 'required', 'requirement', 'requirements', 'requires', 'resealable', 'research', 'researched', 'researching', 'resemble', 'resembles', 'resent', 'resentful', 'resenting', 'resentments', 'reset', 'reseti', 'resetting', 'residence', 'resigned', 'resilience', 'resiliencethis', 'resilient', 'resist', 'resistance', 'resistant', 'resisted', 'resolution', 'resolutions', 'resolve', 'resolved', 'resonate', 'resort', 'resource', 'resources', 'respect', 'respecter', 'respectively', 'respectsober', 'respiratory', 'respond', 'responded', 'responding', 'responds', 'response', 'responses', 'responsibilities', 'responsibility', 'responsible', 'responsibly', 'rest', 'restart', 'restarted', 'restarting', 'restaurant', 'restaurants', 'restaurantso', 'rested', 'restful', 'resting', 'restless', 'restock', 'restore', 'restrain', 'restrict', 'restricted', 'restricting', 'restriction', 'restrictions', 'restrictive', 'result', 'resulted', 'results', 'resume', 'resumed', 'resuming', 'resurrection', 'retail', 'retain', 'retention', 'rethinking', 'retirement', 'retorts', 'retreat', 'retrieve', 'retrieving', 'retrospect', 'return', 'returned', 'returning', 'reuben', 'reunion', 'reunite', 'reuptake', 'rev', 'reveal', 'revealing', 'revelation', 'reverse', 'reversed', 'reverses', 'reversing', 'revert', 'review', 'revisions', 'revisit', 'revolutionary', 'revolve', 'revolves', 'revolving', 'reward', 'rewarded', 'rewarding', 'rewatch', 'rewire', 'rhythm', 'rib', 'ribeye', 'ribs', 'rice', 'rich', 'ricola', 'rid', 'riddled', 'ride', 'rides', 'ridiculous', 'ridiculously', 'riding', 'right', 'righteous', 'rightfully', 'riley', 'rind', 'rinds', 'ring', 'ringers', 'ringing', 'ringo', 'rings', 'rinse', 'rip', 'ripped', 'rise', 'riser', 'rising', 'risk', 'risked', 'riskier', 'riskiest', 'risking', 'risks', 'ritual', 'rituals', 'rivalled', 'river', 'rls', 'rn', 'roacutane', 'road', 'roadies', 'roads', 'roast', 'roasted', 'roasting', 'robbed', 'robbery', 'robbing', 'robot', 'rock', 'rocked', 'rocking', 'rocks', 'rocky', 'rodents', 'rodeo', 'role', 'roles', 'roll', 'rolled', 'roller', 'rollerblading', 'rollercoaster', 'rolling', 'rolls', 'rom', 'romaine', 'romance', 'romantically', 'romeso', 'romper', 'roof', 'room', 'roomates', 'roomies', 'rooming', 'roommate', 'roommates', 'rooms', 'root', 'rooting', 'roped', 'rose', 'rotate', 'rotation', 'rotator', 'rotisserie', 'rotten', 'rotting', 'rough', 'roughly', 'round', 'rounded', 'rounding', 'rounds', 'route', 'routine', 'routines', 'row', 'rowdy', 'rowing', 'royal', 'royally', 'rubbed', 'rubbing', 'rubs', 'rudderless', 'rude', 'ruin', 'ruined', 'ruining', 'ruins', 'rule', 'ruler', 'rules', 'rum', 'ruminate', 'ruminating', 'rumination', 'run', 'rungs', 'runner', 'running', 'runs', 'ruptured', 'rush', 'rushed', 'rushing', 'rut', 'sa', 'saaaveee', 'sabotage', 'sabotaging', 'saccharin', 'sacrifice', 'sad', 'saddens', 'sadder', 'saddest', 'saddle', 'sadly', 'sadness', 'safe', 'safely', 'safety', 'said', 'sailing', 'sainthomer', 'saintlisa', 'sake', 'salad', 'salads', 'salami', 'sale', 'sales', 'salesman', 'saline', 'salmon', 'salsa', 'salt', 'salted', 'saltier', 'salts', 'salty', 'sam', 'sand', 'sandwich', 'sandwiches', 'sane', 'sangria', 'sanity', 'sanother', 'sappier', 'sarcastic', 'sardines', 'sat', 'satisfaction', 'satisfied', 'satisfying', 'saturates', 'saturday', 'sauce', 'sauces', 'sauna', 'sausage', 'sausages', 'save', 'saved', 'saver', 'saving', 'savings', 'savior', 'savory', 'saw', 'say', 'sayi', 'saying', 'says', 'scabbed', 'scale', 'scaled', 'scales', 'scandinavian', 'scanned', 'scans', 'scare', 'scared', 'scaredbeen', 'scares', 'scarfing', 'scarier', 'scariest', 'scaring', 'scarring', 'scary', 'scaryvegi', 'scattered', 'scenario', 'scene', 'scenery', 'scented', 'schedule', 'scheduled', 'schizoaffective', 'school', 'schools', 'schoolwork', 'sciatica', 'science', 'scientific', 'sclerosus', 'scooper', 'score', 'scoring', 'scotch', 'scotia', 'scram', 'scramble', 'scrambled', 'scrambledhey', 'scrambles', 'scrape', 'scraped', 'scrapes', 'scraping', 'scratch', 'scratched', 'scratches', 'scream', 'screaming', 'screen', 'screened', 'screw', 'screwed', 'script', 'scrolling', 'scrub', 'scrunched', 'scrutiny', 'scull', 'sd', 'sea', 'seafood', 'seal', 'search', 'searched', 'searching', 'searidge', 'seas', 'season', 'seasonal', 'seasonally', 'seasoned', 'seasoning', 'seasonings', 'seasons', 'seat', 'seated', 'seattleites', 'second', 'secondary', 'secondly', 'seconds', 'secret', 'secretly', 'section', 'secular', 'secure', 'sedentary', 'see', 'seed', 'seeds', 'seeing', 'seek', 'seeking', 'seem', 'seemed', 'seemingly', 'seems', 'seen', 'sees', 'segment', 'seizure', 'seizures', 'selection', 'self', 'selfcare', 'selfie', 'selfish', 'selfishness', 'sell', 'selling', 'seltzer', 'seltzers', 'semester', 'semi', 'seminal', 'semper', 'send', 'sending', 'senior', 'sensation', 'sensations', 'sense', 'senses', 'sensibly', 'sensitive', 'sensitivity', 'sensitization', 'sensor', 'sensory', 'sent', 'sente', 'sentence', 'sentiment', 'separate', 'separated', 'separately', 'sept', 'september', 'seran', 'serendipity', 'serenity', 'seretonin', 'sergent', 'serial', 'series', 'serious', 'seriously', 'seriousness', 'seroquel', 'serve', 'served', 'serves', 'service', 'services', 'serving', 'servings', 'sesame', 'session', 'sessions', 'set', 'setbacks', 'sets', 'setting', 'settings', 'settle', 'settled', 'setup', 'seven', 'sever', 'several', 'severe', 'severed', 'severely', 'severity', 'severly', 'sex', 'sexual', 'sexually', 'sexy', 'sf', 'sh', 'shack', 'shackeveryone', 'shackled', 'shadiest', 'shady', 'shake', 'shaken', 'shakes', 'shaking', 'shaky', 'shall', 'shallow', 'shame', 'shamed', 'shameful', 'shamefully', 'shamelessly', 'shane', 'shape', 'shaped', 'share', 'shared', 'shares', 'sharethis', 'sharing', 'shark', 'sharp', 'sharper', 'shat', 'shattered', 'shave', 'shaved', 'shaving', 'shawarma', 'shed', 'shedding', 'sheer', 'sheets', 'sheild', 'shelf', 'shell', 'shelled', 'shells', 'shelter', 'sheriff', 'shift', 'shifted', 'shifting', 'shifts', 'shin', 'shine', 'shins', 'shiny', 'ship', 'shipment', 'shirataki', 'shirley', 'shirt', 'shirts', 'shit', 'shitfaced', 'shitless', 'shits', 'shitstorm', 'shitter', 'shittiness', 'shitty', 'shivering', 'sho', 'shock', 'shocked', 'shocking', 'shockingly', 'shoes', 'shook', 'shoot', 'shooters', 'shooting', 'shop', 'shopped', 'shopping', 'shoreline', 'short', 'shortly', 'shorts', 'shot', 'shots', 'shoulder', 'shoulders', 'shout', 'shouting', 'shoutout', 'shove', 'shoved', 'shoveling', 'show', 'showdown', 'showed', 'shower', 'showered', 'showereveryone', 'showers', 'showing', 'showings', 'shown', 'showrunners', 'shows', 'shred', 'shredded', 'shredding', 'shrimp', 'shrink', 'shrinking', 'shrunk', 'shrunken', 'shudder', 'shuffling', 'shut', 'shutdown', 'shuts', 'shutting', 'shy', 'shyness', 'siblings', 'sick', 'sickest', 'sickness', 'side', 'sidebar', 'sideline', 'sides', 'sidewalk', 'sidewalki', 'sideways', 'sift', 'sigh', 'sight', 'sightedness', 'sign', 'signal', 'signals', 'signed', 'significance', 'significant', 'significantly', 'signs', 'sil', 'silence', 'silenced', 'silent', 'silently', 'silk', 'silly', 'silver', 'similar', 'similarities', 'similarly', 'similiar', 'simple', 'simplest', 'simplicity', 'simply', 'simultaneously', 'sin', 'since', 'sincere', 'sincerely', 'sinful', 'sing', 'singing', 'single', 'singled', 'sinister', 'sink', 'sinus', 'sinuses', 'sip', 'sipping', 'sips', 'siren', 'sis', 'sister', 'sisters', 'sit', 'site', 'sites', 'sits', 'sitting', 'situation', 'situations', 'six', 'sixer', 'size', 'sized', 'sizes', 'skated', 'skeletons', 'skeptical', 'sketches', 'sketchy', 'skill', 'skills', 'skin', 'skincare', 'skinless', 'skinny', 'skip', 'skipped', 'skipping', 'skirts', 'skull', 'sky', 'skydive', 'skyrocketed', 'slab', 'slack', 'slacking', 'slammed', 'slamming', 'slather', 'slaving', 'slay', 'sleep', 'sleepi', 'sleeping', 'sleepinghey', 'sleepinghi', 'sleepless', 'sleepso', 'sleeptoday', 'sleepy', 'sleeve', 'sleeveless', 'sleeves', 'slept', 'slice', 'sliced', 'slices', 'slide', 'sliding', 'slight', 'slightly', 'slim', 'slimy', 'slip', 'slipped', 'slippedall', 'slippery', 'slipping', 'slips', 'sliver', 'slob', 'slope', 'sloppy', 'slot', 'slow', 'slowed', 'slower', 'slowing', 'slowly', 'slows', 'sluggish', 'slumps', 'slur', 'slurred', 'slurring', 'slurry', 'slush', 'slushes', 'slushies', 'small', 'smaller', 'smallville', 'smart', 'smarter', 'smartest', 'smash', 'smashed', 'smashing', 'smell', 'smells', 'smh', 'smiled', 'smiling', 'smoke', 'smoked', 'smoker', 'smokers', 'smokes', 'smoking', 'smokingi', 'smoky', 'smooth', 'smoother', 'smoothie', 'smoothies', 'smoothly', 'smores', 'smorgasbord', 'smth', 'snack', 'snacked', 'snacking', 'snacks', 'snacky', 'snagged', 'snake', 'snap', 'snapchat', 'snapped', 'snaps', 'snarfed', 'snatched', 'sneak', 'sneaking', 'sniffs', 'snooty', 'snore', 'snoring', 'snoringi', 'snorted', 'snuggly', 'soaking', 'sobbing', 'sober', 'sobered', 'soberfirst', 'soberhad', 'soberi', 'sobering', 'soberistas', 'soberjust', 'soberlast', 'soberlife', 'soberly', 'sobermy', 'sobernaut', 'sobernauts', 'soberversary', 'sobriety', 'sobrietyhi', 'sobrietyi', 'sobrietyim', 'sobrietythis', 'soccer', 'sociable', 'social', 'sociali', 'socialise', 'socialize', 'socializing', 'socially', 'societal', 'societies', 'society', 'socio', 'socks', 'soda', 'sodaa', 'sodai', 'sodas', 'sodium', 'sodiumhey', 'sofa', 'soft', 'softball', 'soften', 'softened', 'softening', 'solace', 'soldiers', 'sole', 'solely', 'solid', 'solidarity', 'solidified', 'solo', 'solution', 'solutions', 'solve', 'solved', 'somebody', 'someday', 'somedays', 'somehow', 'someone', 'someones', 'someplace', 'something', 'sometime', 'sometimes', 'somewhat', 'somewhere', 'son', 'song', 'songover', 'songs', 'sonics', 'sonora', 'sons', 'soo', 'soon', 'sooner', 'sooo', 'soooo', 'sooooo', 'soooooo', 'soothe', 'soothing', 'sope', 'sore', 'soreness', 'sores', 'sorry', 'sort', 'sorta', 'sorting', 'sorts', 'sos', 'sought', 'soul', 'souls', 'sound', 'sounded', 'soundhey', 'sounds', 'soup', 'soups', 'sour', 'source', 'sources', 'sourdough', 'sous', 'south', 'sows', 'soy', 'space', 'spaghetti', 'spain', 'span', 'spare', 'sparkling', 'sparkly', 'sparrowthis', 'sparse', 'spasms', 'speach', 'speak', 'speaker', 'speaking', 'spec', 'special', 'specialist', 'specialists', 'specialty', 'specific', 'specifically', 'specifics', 'specs', 'spectrum', 'speculation', 'speed', 'speeding', 'speeds', 'spell', 'spelled', 'spells', 'spend', 'spending', 'spends', 'spent', 'spice', 'spices', 'spicing', 'spicy', 'spiders', 'spike', 'spiked', 'spikes', 'spiking', 'spill', 'spilled', 'spin', 'spinach', 'spinning', 'spiral', 'spiraled', 'spiraling', 'spiralled', 'spiralling', 'spirit', 'spirits', 'spiritual', 'spirituality', 'spiritually', 'spirulina', 'spit', 'spite', 'splash', 'splashing', 'splenda', 'split', 'splurges', 'spoil', 'spoiler', 'spoke', 'spoken', 'sponsor', 'sponsored', 'spoon', 'spoonful', 'sporadically', 'sporting', 'sports', 'spot', 'spotify', 'spots', 'spousal', 'spouse', 'spravato', 'spread', 'sprindrift', 'spring', 'springs', 'sprinkle', 'sprinkles', 'sprint', 'sprinted', 'sprouts', 'sprung', 'spurred', 'squad', 'squalor', 'squandering', 'square', 'squares', 'squash', 'squats', 'squatters', 'squatty', 'squeak', 'squeaks', 'squeeze', 'squirreled', 'ssri', 'ssris', 'st', 'stability', 'stable', 'stacked', 'stackingit', 'staff', 'staffed', 'stage', 'stages', 'stagger', 'staggered', 'stagnant', 'stagnating', 'stain', 'stairs', 'stale', 'stalk', 'stall', 'stalled', 'stalling', 'stallingthere', 'stalls', 'stand', 'standard', 'standards', 'standing', 'stands', 'staple', 'staples', 'starbucks', 'starch', 'starchy', 'stare', 'staring', 'starr', 'start', 'started', 'startin', 'starting', 'startled', 'startmy', 'starts', 'startup', 'starvation', 'starve', 'starving', 'stashed', 'stat', 'state', 'stated', 'statement', 'states', 'statin', 'stating', 'station', 'stationary', 'stations', 'stats', 'statstical', 'status', 'staving', 'stay', 'stayed', 'stayin', 'staying', 'stays', 'steadily', 'steady', 'steak', 'steal', 'stealing', 'steals', 'steam', 'steamed', 'steamy', 'stem', 'step', 'stepdad', 'stepdaughter', 'stepmom', 'stepmother', 'stepped', 'stepping', 'steps', 'stereo', 'stereotypes', 'steroids', 'stevia', 'stew', 'stewarts', 'stewhey', 'stick', 'stickiness', 'sticking', 'sticks', 'sticky', 'stiff', 'stigator', 'stigma', 'still', 'stimulant', 'stimulated', 'stimulating', 'stinking', 'stint', 'stir', 'stirred', 'stitches', 'stocked', 'stocking', 'stocks', 'stoked', 'stole', 'stolen', 'stomach', 'stomachs', 'stone', 'stoned', 'stones', 'stool', 'stools', 'stop', 'stopdrinkingi', 'stopeating', 'stopi', 'stopped', 'stopping', 'stops', 'stopshop', 'stopslipping', 'storage', 'store', 'stores', 'storie', 'stories', 'storing', 'storm', 'stormed', 'story', 'stove', 'straight', 'strain', 'strained', 'straining', 'strange', 'stranger', 'strangers', 'strangulation', 'strategies', 'strategy', 'strava', 'straw', 'strawberries', 'strawberry', 'streak', 'stream', 'streaming', 'street', 'strenght', 'strength', 'strenuous', 'stress', 'stressed', 'stressful', 'stressing', 'stressor', 'stretch', 'stretches', 'stretching', 'strict', 'strictly', 'strictness', 'strike', 'strikes', 'string', 'stringy', 'strip', 'stripes', 'stripped', 'strips', 'strive', 'striving', 'stroke', 'stroll', 'stroller', 'strong', 'stronger', 'strongly', 'structure', 'struggeling', 'struggle', 'struggled', 'strugglei', 'strugglers', 'struggles', 'struggleyesterday', 'struggling', 'strugglingi', 'strugglinglast', 'strugglingthe', 'strung', 'stubborn', 'stuck', 'stud', 'student', 'studied', 'studies', 'study', 'stuf', 'stuff', 'stuffed', 'stuffy', 'stumble', 'stumbled', 'stumbling', 'stumped', 'stupid', 'stupidest', 'stupidity', 'stupidly', 'stupor', 'sturdy', 'stutter', 'style', 'su', 'sub', 'subconscious', 'subhuman', 'subi', 'subject', 'subjecting', 'subliminally', 'submerge', 'subreddit', 'subreddits', 'subs', 'subscribed', 'subscription', 'subsequent', 'subsequently', 'subside', 'subsided', 'subsiding', 'substance', 'substances', 'substitute', 'substituteanyone', 'substitutes', 'subtle', 'subtly', 'subtract', 'succeed', 'succeeded', 'succeeding', 'success', 'successdid', 'successes', 'successful', 'successfully', 'successhello', 'succession', 'suck', 'sucked', 'sucking', 'sucks', 'sucky', 'sucralose', 'sudden', 'suddenly', 'suffer', 'suffered', 'suffering', 'suffice', 'sufficient', 'suffocate', 'sugar', 'sugari', 'sugars', 'sugary', 'suggest', 'suggested', 'suggesting', 'suggestions', 'suggestionsgood', 'suggestionshey', 'suggests', 'suicidal', 'suicide', 'suit', 'suitable', 'suits', 'sulfate', 'sullen', 'summaryi', 'summer', 'summeras', 'summers', 'sun', 'sunburn', 'sunday', 'sundays', 'sunflower', 'sunk', 'sunny', 'sunrise', 'sunriseday', 'sunrisetoday', 'sunshine', 'super', 'superior', 'supermarket', 'superstore', 'supervised', 'supervisor', 'suplementing', 'suppers', 'supplement', 'supplementation', 'supplementing', 'supplements', 'supplies', 'supply', 'support', 'supportdear', 'supported', 'supportfebruary', 'supporting', 'supportive', 'supportmy', 'supports', 'suppose', 'supposed', 'supposedly', 'suppositories', 'suppress', 'suppressed', 'suppresses', 'supremely', 'sure', 'surely', 'surface', 'surfs', 'surgeries', 'surgery', 'surly', 'surmounted', 'surpassing', 'surprise', 'surprised', 'surprising', 'surprisingly', 'surreal', 'surround', 'surrounded', 'surrounding', 'surroundings', 'survie', 'survive', 'survived', 'surviving', 'sushi', 'suspect', 'suspected', 'suspicion', 'suspicious', 'sustain', 'sustainability', 'sustainable', 'sv', 'sw', 'swabbed', 'swag', 'swallow', 'swam', 'swear', 'sweat', 'sweater', 'sweating', 'sweats', 'sweaty', 'swede', 'sweeping', 'sweet', 'sweetened', 'sweetener', 'sweeteners', 'sweeter', 'sweetner', 'sweetners', 'sweets', 'swelling', 'swerve', 'swig', 'swigging', 'swigs', 'swim', 'swimming', 'swims', 'swings', 'swirling', 'swiss', 'switch', 'switched', 'switches', 'switching', 'switzerland', 'swollen', 'swoop', 'swore', 'swung', 'syevia', 'sympathizing', 'symptom', 'symptomatic', 'symptoms', 'syndrome', 'syrup', 'syrups', 'system', 'systems', 'systemso', 'tab', 'table', 'tables', 'tablespoon', 'tablespoons', 'tablets', 'tac', 'tackle', 'tackling', 'taco', 'tacs', 'tagged', 'tahini', 'tailgating', 'tails', 'tait', 'take', 'takeaway', 'takeaways', 'taken', 'takeout', 'taker', 'takes', 'taking', 'tales', 'talk', 'talked', 'talking', 'talks', 'tall', 'tallboys', 'taller', 'tandem', 'tangible', 'tank', 'tanked', 'tap', 'tape', 'taper', 'tapered', 'tapering', 'target', 'targeting', 'tarnish', 'tartar', 'task', 'taste', 'tasted', 'tastes', 'tasting', 'tasty', 'tattoo', 'taubes', 'taught', 'taurine', 'taxing', 'tbh', 'tbs', 'tbsp', 'tc', 'tdee', 'tdlr', 'tea', 'teach', 'teacher', 'teachers', 'teahello', 'team', 'teammate', 'tear', 'tears', 'teaso', 'teaspoon', 'teaspoons', 'tecate', 'technical', 'technically', 'techniques', 'technology', 'teddy', 'teen', 'teenage', 'teenager', 'teenageracts', 'teens', 'teeny', 'teetering', 'teeth', 'teetotal', 'tell', 'telling', 'tells', 'temp', 'temper', 'temperature', 'temperatures', 'tempest', 'temple', 'temporarily', 'temporary', 'tempt', 'temptation', 'temptations', 'tempted', 'temptedto', 'tempting', 'tempts', 'ten', 'tenant', 'tend', 'tended', 'tendencies', 'tendency', 'tender', 'tenderness', 'tenders', 'tendon', 'tendonjust', 'tends', 'tennessee', 'tennis', 'tense', 'tension', 'tents', 'tequila', 'term', 'terminal', 'terminator', 'terms', 'terrible', 'terribleit', 'terribly', 'terrified', 'terrifying', 'territory', 'terror', 'terrors', 'test', 'tested', 'testedgot', 'testicular', 'testimony', 'testing', 'testingdoes', 'testosterone', 'tests', 'tether', 'teturam', 'tex', 'text', 'textbook', 'texted', 'texting', 'texts', 'textual', 'texture', 'textures', 'tge', 'tgi', 'th', 'thai', 'thailand', 'thank', 'thanked', 'thankful', 'thankfully', 'thanks', 'thanksgiving', 'thankyou', 'thats', 'thawing', 'thc', 'theater', 'theft', 'theme', 'thenewmomma', 'theoretically', 'theories', 'theory', 'therapeutic', 'therapist', 'therapists', 'therapy', 'therefore', 'theres', 'thermos', 'thesobersmidgen', 'theyd', 'theyve', 'thiamin', 'thiamine', 'thicc', 'thick', 'thicken', 'thicker', 'thickness', 'thieves', 'thigh', 'thighs', 'thin', 'thing', 'things', 'thingy', 'think', 'thinkers', 'thinkin', 'thinking', 'thinks', 'thinly', 'thinner', 'third', 'thirst', 'thirsty', 'thirties', 'thishey', 'thisreal', 'thistle', 'thnks', 'tho', 'thorne', 'thoroughly', 'though', 'thoughjust', 'thought', 'thoughtful', 'thoughtless', 'thoughts', 'thoughtsi', 'thousand', 'thousands', 'thread', 'threadhello', 'threads', 'threat', 'threatened', 'threatening', 'three', 'threonate', 'threshold', 'thresholds', 'threw', 'thrilled', 'thrive', 'thrived', 'throat', 'throats', 'thrombosis', 'throughout', 'throw', 'throwaway', 'throwing', 'thrown', 'throws', 'thru', 'thrust', 'thst', 'thumb', 'thursday', 'thursdays', 'thus', 'thyroid', 'thyroids', 'tia', 'tic', 'tick', 'ticked', 'ticket', 'tickets', 'ticking', 'tickled', 'tickling', 'tide', 'tidied', 'tied', 'tifu', 'tight', 'tighten', 'tighter', 'tightness', 'tikka', 'tiktok', 'til', 'till', 'time', 'timei', 'timeline', 'timelines', 'timequake', 'timers', 'times', 'timey', 'timing', 'tingling', 'tingly', 'tiny', 'tip', 'tipped', 'tips', 'tipsy', 'tiramisu', 'tire', 'tired', 'tiredness', 'tiring', 'tisane', 'title', 'titled', 'tixs', 'tjs', 'tl', 'tlc', 'tldr', 'tmr', 'tn', 'tnm', 'toast', 'toasting', 'toasts', 'toasty', 'tobacco', 'today', 'todaybut', 'todayclosing', 'todayday', 'todayedit', 'todayi', 'todayidk', 'todayit', 'todaypoured', 'todaytwo', 'todaywent', 'toddler', 'toe', 'toes', 'together', 'togethers', 'toilet', 'told', 'tolerable', 'tolerance', 'tolerate', 'toll', 'tolle', 'tomato', 'tomatoes', 'tommorow', 'tomorrow', 'tomorrows', 'tomorrowtomorrow', 'ton', 'tone', 'toned', 'tongue', 'tonight', 'tonighti', 'tonne', 'tonnes', 'tons', 'took', 'tool', 'toolbox', 'tools', 'tooooooo', 'tooth', 'top', 'topic', 'topicbut', 'topped', 'toppings', 'tops', 'torch', 'tore', 'toriani', 'torn', 'tornado', 'toronto', 'torpedoed', 'tortillas', 'torture', 'tortured', 'torturing', 'torturous', 'toss', 'tossed', 'tossing', 'total', 'totally', 'totals', 'totday', 'touch', 'touched', 'touching', 'tough', 'tougher', 'toughest', 'toughness', 'tour', 'tournament', 'tournaments', 'tours', 'toward', 'towards', 'towel', 'town', 'towni', 'toxic', 'toxin', 'toxins', 'toying', 'toys', 'tp', 'trace', 'track', 'tracked', 'tracker', 'trackerhi', 'tracki', 'tracking', 'tracks', 'trackthis', 'trade', 'trader', 'tradition', 'traditional', 'traditionally', 'trail', 'train', 'trained', 'trainer', 'training', 'trainingi', 'trainwreck', 'trajectory', 'transactions', 'transaminase', 'transfer', 'transference', 'transferred', 'transformation', 'transformative', 'transgender', 'transient', 'transition', 'transitioned', 'transitioning', 'translate', 'translates', 'transpired', 'transplant', 'transporting', 'trap', 'trapped', 'traps', 'traptoday', 'trash', 'trashed', 'trauma', 'traumas', 'traumatizing', 'travel', 'traveled', 'traveling', 'travelling', 'travellinghi', 'tray', 'trays', 'tread', 'treading', 'treadmill', 'treat', 'treated', 'treating', 'treatment', 'treatments', 'treats', 'tree', 'trees', 'trembling', 'tremendous', 'tremendously', 'tremor', 'tremors', 'trenches', 'trend', 'triage', 'trial', 'trialling', 'trials', 'tribe', 'tribute', 'tricep', 'trick', 'tricked', 'tricki', 'trickle', 'tricks', 'tried', 'tries', 'trigger', 'triggered', 'triggering', 'triggerless', 'triggers', 'triggersthis', 'triggertoday', 'triglycerides', 'triglyceries', 'trip', 'triple', 'tripped', 'trips', 'triumphs', 'trivia', 'trivial', 'trolled', 'trolling', 'trouble', 'troublei', 'troubles', 'troubleshooting', 'trout', 'trt', 'truck', 'trucking', 'trudging', 'true', 'trulieve', 'truly', 'trulys', 'trumpet', 'trupod', 'trust', 'trusted', 'trusting', 'truth', 'truths', 'try', 'tryign', 'trying', 'tryna', 'tryouts', 'trypthopan', 'ts', 'tsh', 'tshirts', 'tsp', 'tsps', 'tub', 'tube', 'tuck', 'tucson', 'tuesday', 'tuesdayhappy', 'tumeric', 'tummy', 'tumour', 'tums', 'tuna', 'tunnel', 'turbulent', 'turkey', 'turn', 'turned', 'turning', 'turns', 'tux', 'tuxedo', 'tv', 'tvs', 'tw', 'tweaked', 'tweaking', 'tweaks', 'twelve', 'twenties', 'twenty', 'twice', 'twin', 'twist', 'twitching', 'twitter', 'two', 'ty', 'tylenol', 'tyler', 'type', 'types', 'typical', 'typically', 'typing', 'typos', 'uber', 'ufc', 'uggh', 'ugh', 'ughhhh', 'ughhhhh', 'ughhhhhh', 'ughhhhhhh', 'ugly', 'uk', 'ukraine', 'ulcerative', 'ultima', 'ultimately', 'ultimatum', 'ultra', 'ultrasound', 'um', 'umbilical', 'un', 'unable', 'unacceptable', 'unavoidable', 'unaware', 'unbearable', 'unbelievable', 'unbelievably', 'unbroken', 'uncertain', 'uncertainty', 'uncharted', 'uncle', 'uncomfortable', 'uncomfortably', 'uncommon', 'unconditionally', 'unconsciously', 'uncontrollably', 'uncoordinated', 'undergone', 'underlying', 'underneath', 'underrated', 'understand', 'understandably', 'understanding', 'understands', 'understatement', 'understood', 'underwear', 'underweight', 'underwhelming', 'undesirable', 'undiagnosed', 'undo', 'undoing', 'uneasiness', 'unemployed', 'unequivocally', 'unexpected', 'unexpectedly', 'unexplained', 'unfair', 'unfocused', 'unfolded', 'unfollowed', 'unfortified', 'unfortunate', 'unfortunately', 'ungluedthese', 'ungodly', 'unhappiness', 'unhappy', 'unhealthily', 'unhealthy', 'uniforms', 'unintentionally', 'uninvited', 'unique', 'unit', 'universal', 'universally', 'universe', 'university', 'unkinked', 'unless', 'unlike', 'unlikely', 'unlocked', 'unlucky', 'unmotivated', 'unnoticeable', 'unplanned', 'unpleasant', 'unpopular', 'unprecedented', 'unprepared', 'unprompted', 'unravel', 'unraveling', 'unreal', 'unrealistic', 'unrelated', 'unrelenting', 'unreliable', 'unresponsive', 'unsaid', 'unsalted', 'unsatiated', 'unsavory', 'unstable', 'unstuck', 'unsuccessful', 'unsuccessfully', 'unsure', 'unsustainable', 'unsweet', 'unsweetened', 'untenable', 'untill', 'unusual', 'unwanted', 'unwind', 'unwinding', 'unwritten', 'upafter', 'upbeat', 'upcoming', 'update', 'updated', 'updatehi', 'updateit', 'updateme', 'updates', 'upheaval', 'upi', 'uplifting', 'upon', 'upped', 'upper', 'uppers', 'upping', 'ups', 'upscale', 'upset', 'upsets', 'upside', 'upsides', 'upsundays', 'upthanks', 'upvoting', 'upward', 'upwards', 'urge', 'urgent', 'urges', 'urging', 'uric', 'urinate', 'urination', 'urine', 'urninating', 'us', 'usa', 'usage', 'use', 'used', 'useful', 'usehey', 'useless', 'user', 'username', 'users', 'uses', 'using', 'ussually', 'usual', 'usually', 'ususally', 'utensils', 'utilise', 'utilities', 'utilize', 'utilizing', 'utter', 'utterly', 'va', 'vacation', 'vacations', 'vacay', 'vaccinated', 'vaccination', 'vaccine', 'vague', 'valid', 'validated', 'validation', 'valium', 'valuable', 'value', 'valued', 'values', 'van', 'vancouver', 'vanilla', 'vanished', 'vanity', 'vape', 'vaping', 'variants', 'variation', 'variations', 'varied', 'varies', 'varieties', 'variety', 'various', 'vary', 'vastly', 'veg', 'vegan', 'vegas', 'vegasi', 'vegetable', 'vegetables', 'vegetarian', 'veggie', 'veggies', 'vegis', 'vehemently', 'vehicle', 'veil', 'vengeance', 'vengence', 'venmo', 'venous', 'vent', 'ventilator', 'venting', 'verbalizing', 'verbally', 'verdict', 'version', 'versions', 'versus', 'vertical', 'vertigo', 'vet', 'veteran', 'veterans', 'via', 'vibe', 'vibes', 'vibrant', 'vice', 'vicious', 'victim', 'victims', 'victoria', 'victories', 'victory', 'vide', 'video', 'videos', 'view', 'viewed', 'vigilant', 'vinegar', 'vineyard', 'violate', 'violent', 'violently', 'virgin', 'virginia', 'virta', 'virtual', 'virtually', 'visceral', 'visible', 'visibly', 'visine', 'vision', 'visit', 'visited', 'visiting', 'visitors', 'visits', 'visualisation', 'visuals', 'vital', 'vitals', 'vitamin', 'vitamins', 'vivid', 'vivitrol', 'vlckd', 'vocal', 'vodka', 'voice', 'voices', 'void', 'volume', 'voluntary', 'volunteer', 'volunteering', 'vomit', 'vomited', 'vomiting', 'vonnegut', 'votre', 'vow', 'vowed', 'vowing', 'vs', 'vu', 'vuit', 'vulnerabilities', 'vulnerable', 'vyvanse', 'waa', 'wacky', 'waffles', 'wage', 'wagon', 'wagoni', 'waist', 'waistline', 'wait', 'waited', 'waiting', 'waitress', 'waiver', 'wake', 'waken', 'waking', 'waksberg', 'wal', 'walgreens', 'walk', 'walked', 'walking', 'walks', 'walkway', 'wall', 'wallhello', 'wallow', 'wallowing', 'walls', 'walmart', 'wan', 'wander', 'wandered', 'wandering', 'wanna', 'wannabe', 'want', 'wanted', 'wanting', 'wants', 'war', 'wardrobe', 'warm', 'warn', 'warned', 'warning', 'warriors', 'wary', 'wasa', 'wash', 'washed', 'washing', 'washroom', 'wasnt', 'waste', 'wasted', 'wastedi', 'wasteland', 'wasting', 'wat', 'watch', 'watched', 'watchers', 'watching', 'water', 'waterbottle', 'watered', 'watering', 'waters', 'watery', 'watter', 'wave', 'wavered', 'wavering', 'waves', 'wavy', 'way', 'ways', 'wayyy', 'weak', 'weakened', 'weakens', 'weaker', 'weakness', 'weaknesses', 'wean', 'weaned', 'weaning', 'weapon', 'wear', 'wearing', 'weary', 'weather', 'web', 'website', 'websites', 'wed', 'wedding', 'weddings', 'wedge', 'wednesday', 'wednesdayit', 'wednesdays', 'weed', 'weedi', 'week', 'weekday', 'weekdays', 'weekend', 'weekendevery', 'weekendgm', 'weekends', 'weekendthis', 'weekly', 'weeknight', 'weeknow', 'weeks', 'weekthis', 'weening', 'weep', 'weeped', 'wegmans', 'weigh', 'weighed', 'weighing', 'weight', 'weightbasically', 'weighthi', 'weighti', 'weighting', 'weightliftinghi', 'weightloss', 'weights', 'weightthis', 'weird', 'weirded', 'weirdly', 'weirdo', 'welbutrin', 'welcome', 'welcomed', 'welcomes', 'well', 'wellbeing', 'wellbutrin', 'wellenjoy', 'wellness', 'welp', 'wen', 'wendy', 'wendys', 'went', 'west', 'wet', 'wfh', 'whack', 'whammy', 'whatever', 'whats', 'whatsoever', 'wheat', 'wheel', 'wheels', 'whenever', 'whereas', 'wherever', 'whether', 'whetherspoons', 'whew', 'whey', 'whiff', 'whilst', 'whim', 'whinge', 'whinging', 'whipping', 'whirl', 'whiskey', 'whisky', 'whispered', 'white', 'whiteheads', 'whitney', 'whittaker', 'whoah', 'whoever', 'whole', 'whoop', 'whos', 'whose', 'wide', 'widely', 'wife', 'wifes', 'wiggle', 'wil', 'wild', 'wildest', 'wildly', 'willful', 'willing', 'willpower', 'win', 'winded', 'window', 'wine', 'wineries', 'wings', 'winning', 'wins', 'winter', 'wipe', 'wire', 'wired', 'wisdom', 'wise', 'wish', 'wished', 'wishes', 'wishing', 'withdraw', 'withdrawal', 'withdrawalgood', 'withdrawals', 'withdrawing', 'within', 'withing', 'without', 'withstand', 'witness', 'witnessed', 'wits', 'witty', 'wizened', 'wks', 'woe', 'woes', 'woesi', 'woild', 'woke', 'woken', 'woman', 'women', 'wonder', 'wondered', 'wonderful', 'wondering', 'wonders', 'wonfirst', 'wont', 'woo', 'wooden', 'woods', 'woodwork', 'woohoo', 'wooshing', 'woozy', 'word', 'words', 'wore', 'work', 'workbook', 'worked', 'worker', 'workers', 'working', 'workout', 'workouts', 'works', 'worktoday', 'workweek', 'world', 'worms', 'worn', 'worried', 'worries', 'worrisome', 'worry', 'worrying', 'worse', 'worsen', 'worsened', 'worsening', 'worst', 'worth', 'worthless', 'worthlessness', 'worthy', 'would', 'wouldnt', 'wound', 'wounds', 'wow', 'wrap', 'wrapped', 'wrapping', 'wraps', 'wreak', 'wreaking', 'wreaks', 'wreck', 'wrecking', 'wrecks', 'wrench', 'wrestles', 'wrestling', 'wretched', 'wrinkles', 'wrist', 'write', 'writer', 'writhing', 'writing', 'written', 'wrong', 'wrongdoings', 'wronged', 'wrongly', 'wrote', 'wtf', 'wtheck', 'xanax', 'xantham', 'xanthan', 'xanthana', 'xbox', 'xl', 'xo', 'xoxo', 'xviii', 'xxl', 'xxx', 'xy', 'xyz', 'ya', 'yada', 'yall', 'yard', 'yards', 'yay', 'yeah', 'year', 'yearhello', 'yearly', 'years', 'yearscurrently', 'yearsi', 'yearsthe', 'yeast', 'yell', 'yelled', 'yelling', 'yellow', 'yep', 'yer', 'yerba', 'yes', 'yesss', 'yesterday', 'yesterdayout', 'yesterdayso', 'yet', 'ymmv', 'yo', 'yoga', 'yoghurt', 'yogurt', 'yogurthey', 'yogurts', 'yolks', 'yoooo', 'youi', 'youmemorial', 'young', 'younger', 'youngest', 'youre', 'yourhealthstore', 'youth', 'youtube', 'yr', 'yri', 'yrs', 'yrsi', 'ytd', 'yu', 'yuck', 'yummy', 'yup', 'zen', 'zenis', 'zero', 'zerocarb', 'zeroed', 'zinc', 'zion', 'zip', 'zipfizzi', 'zma', 'zombie', 'zombielike', 'zone', 'zonked', 'zoo', 'zoom', 'zucchini', 'zucchinis']\n"
     ]
    }
   ],
   "source": [
    "# Check features\n",
    "vocab = cvec.get_feature_names()\n",
    "print(vocab)"
   ]
  },
  {
   "cell_type": "code",
   "execution_count": 13,
   "id": "1c72da29",
   "metadata": {},
   "outputs": [
    {
     "data": {
      "text/plain": [
       "10116"
      ]
     },
     "execution_count": 13,
     "metadata": {},
     "output_type": "execute_result"
    }
   ],
   "source": [
    "len(vocab)"
   ]
  },
  {
   "cell_type": "markdown",
   "id": "deabbf00",
   "metadata": {},
   "source": [
    "#### Logistic regression with count vectorizer"
   ]
  },
  {
   "cell_type": "code",
   "execution_count": 14,
   "id": "2a8703ad",
   "metadata": {},
   "outputs": [
    {
     "name": "stdout",
     "output_type": "stream",
     "text": [
      "Logistic regression with count vectorizer training Score: 1.0\n",
      "Logistic regression with count vectorizer testing Score: 0.960919540229885\n"
     ]
    }
   ],
   "source": [
    "# Instantiate logistic regression model.\n",
    "lr = LogisticRegression()\n",
    "\n",
    "# Fit model to training data.\n",
    "lr.fit(X_train_cvec, y_train)\n",
    "\n",
    "# Evaluate model on training data.\n",
    "lr.score(X_train_cvec, y_train)\n",
    "\n",
    "# Evaluate model on testing data.\n",
    "lr.score(X_test_cvec, y_test)\n",
    "\n",
    "# Print scores\n",
    "print(\n",
    "    f'Logistic regression with count vectorizer training Score: {lr.score(X_train_cvec, y_train)}'\n",
    ")\n",
    "print(\n",
    "    f'Logistic regression with count vectorizer testing Score: {lr.score(X_test_cvec, y_test)}'\n",
    ")"
   ]
  },
  {
   "cell_type": "markdown",
   "id": "6b49523b",
   "metadata": {},
   "source": [
    "#### Naive bayes with count vectorizer"
   ]
  },
  {
   "cell_type": "code",
   "execution_count": 15,
   "id": "0580f251",
   "metadata": {},
   "outputs": [
    {
     "name": "stdout",
     "output_type": "stream",
     "text": [
      "Naive bayes with count vectorizer training Score: 0.9869431643625192\n",
      "Naive bayes with count vectorizer testing Score: 0.9724137931034482\n"
     ]
    }
   ],
   "source": [
    "# Instantiate naive bayes model.\n",
    "nb = MultinomialNB()\n",
    "\n",
    "# Fit model to training data.\n",
    "nb.fit(X_train_cvec, y_train)\n",
    "\n",
    "# Evaluate model on training data.\n",
    "nb.score(X_train_cvec, y_train)\n",
    "\n",
    "# Evaluate model on testing data.\n",
    "nb.score(X_test_cvec, y_test)\n",
    "\n",
    "# Print scores\n",
    "print(\n",
    "    f'Naive bayes with count vectorizer training Score: {nb.score(X_train_cvec, y_train)}'\n",
    ")\n",
    "print(\n",
    "    f'Naive bayes with count vectorizer testing Score: {nb.score(X_test_cvec, y_test)}'\n",
    ")"
   ]
  },
  {
   "cell_type": "markdown",
   "id": "61a29ba9",
   "metadata": {},
   "source": [
    "### Term Frequency-Inverse Document Frequency (TF-IDF) Vectorizer"
   ]
  },
  {
   "cell_type": "code",
   "execution_count": 16,
   "id": "bb966c2b",
   "metadata": {},
   "outputs": [],
   "source": [
    "# Instantiate the transformer.\n",
    "tvec = TfidfVectorizer()"
   ]
  },
  {
   "cell_type": "code",
   "execution_count": 17,
   "id": "768105ea",
   "metadata": {},
   "outputs": [],
   "source": [
    "X_train_tvec = tvec.fit_transform(X_train)\n",
    "\n",
    "X_test_tvec = tvec.transform(X_test)"
   ]
  },
  {
   "cell_type": "code",
   "execution_count": 18,
   "id": "d8bd757e",
   "metadata": {},
   "outputs": [
    {
     "name": "stdout",
     "output_type": "stream",
     "text": [
      "(1302, 10116)\n"
     ]
    }
   ],
   "source": [
    "print(X_train_tvec.shape)"
   ]
  },
  {
   "cell_type": "code",
   "execution_count": 19,
   "id": "b2e2246c",
   "metadata": {},
   "outputs": [
    {
     "name": "stdout",
     "output_type": "stream",
     "text": [
      "(435, 10116)\n"
     ]
    }
   ],
   "source": [
    "print(X_test_tvec.shape)"
   ]
  },
  {
   "cell_type": "code",
   "execution_count": 20,
   "id": "399bae90",
   "metadata": {},
   "outputs": [
    {
     "name": "stdout",
     "output_type": "stream",
     "text": [
      "['aa', 'abandon', 'abandoned', 'abandoning', 'abdominal', 'abilities', 'ability', 'abit', 'able', 'abnormal', 'abrasive', 'abs', 'absalom', 'abscess', 'absconding', 'absolute', 'absolutely', 'absorb', 'absorbed', 'absorbing', 'abstain', 'abstaining', 'absthen', 'abstinence', 'absurd', 'abuse', 'abused', 'abusing', 'abusive', 'abv', 'abysmal', 'acamprosate', 'accept', 'acceptable', 'acceptance', 'accepted', 'accepting', 'accepts', 'access', 'accessible', 'accident', 'accidentally', 'accidents', 'accompanied', 'accomplish', 'accomplishable', 'accomplished', 'accomplishment', 'accomplishments', 'according', 'account', 'accountability', 'accountable', 'accountablei', 'accounting', 'accounts', 'accross', 'accumulated', 'accuracy', 'accurate', 'accurately', 'accustomed', 'ace', 'acesulfame', 'acetone', 'ache', 'achieve', 'achieved', 'achievement', 'achieving', 'aching', 'achs', 'acid', 'acidic', 'acids', 'acne', 'acquaintance', 'acquiesced', 'across', 'act', 'acted', 'acting', 'action', 'actions', 'active', 'actively', 'activities', 'activity', 'acts', 'actual', 'actuality', 'actually', 'acute', 'ad', 'adapt', 'adaptationi', 'adapted', 'adaptedcontext', 'add', 'added', 'adderall', 'addict', 'addicted', 'addicteduntil', 'addiction', 'addictions', 'addictive', 'addicts', 'adding', 'addition', 'additional', 'additionally', 'additives', 'address', 'addressed', 'addressing', 'adds', 'adequate', 'adf', 'adhd', 'adhere', 'adherence', 'adhering', 'adieu', 'adios', 'adjust', 'adjusted', 'adjusting', 'adjustment', 'adjusts', 'admit', 'admitted', 'admittedly', 'admitting', 'adolescence', 'adoring', 'adrenaline', 'ads', 'adult', 'adulting', 'adults', 'advance', 'advanced', 'advantage', 'advantages', 'adventure', 'adverse', 'advert', 'advertise', 'advertised', 'advertisement', 'advertising', 'advice', 'advicegot', 'advicelong', 'advil', 'advise', 'advised', 'advocate', 'aerobic', 'aesthetics', 'af', 'afaik', 'affair', 'affect', 'affected', 'affecting', 'affectionately', 'affective', 'affects', 'affiliated', 'affinity', 'affirmed', 'affirming', 'afford', 'affording', 'afraid', 'aftermath', 'afternoon', 'aftertaste', 'afterward', 'afterwards', 'againhi', 'againi', 'againlast', 'againoh', 'againread', 'againwas', 'againwell', 'age', 'aged', 'agenda', 'ages', 'aggressive', 'ago', 'agonal', 'agonising', 'agonisingly', 'agonized', 'agony', 'agree', 'agreed', 'agressive', 'aha', 'ahead', 'ahem', 'ahh', 'ahhh', 'ahhhh', 'ahold', 'ai', 'aid', 'aided', 'aids', 'ailment', 'aim', 'aimed', 'aiming', 'aint', 'air', 'airborne', 'airport', 'airtight', 'airways', 'aka', 'ala', 'alanine', 'alarm', 'alarms', 'alas', 'albatross', 'album', 'alc', 'alchemy', 'alchol', 'alcholics', 'alcoholhello', 'alcoholicmy', 'alcoholicso', 'alcoholvery', 'aldi', 'ale', 'alert', 'alerted', 'aleve', 'alfredo', 'align', 'aligns', 'alike', 'alison', 'alive', 'alkali', 'allan', 'allegedly', 'allen', 'allergic', 'allergies', 'allergy', 'allergyi', 'alleviate', 'alli', 'allllll', 'allocation', 'allot', 'allotment', 'allotted', 'allow', 'allowance', 'allowed', 'allowing', 'allows', 'allulose', 'ally', 'almond', 'almonds', 'almost', 'alone', 'along', 'alot', 'already', 'alright', 'alrightthis', 'also', 'alt', 'altered', 'altering', 'alternate', 'alternative', 'alternatives', 'although', 'altitude', 'altogether', 'aluminum', 'alway', 'always', 'alzheimer', 'amalgamation', 'amalyse', 'amazed', 'amazement', 'amazes', 'amazing', 'amazingi', 'amazingly', 'amazon', 'amber', 'ambiguous', 'ambulance', 'amended', 'amends', 'american', 'amidst', 'amone', 'among', 'amongst', 'amount', 'amounts', 'amp', 'amran', 'amusement', 'amy', 'anal', 'analyzer', 'ancestors', 'anchor', 'anchorman', 'ancient', 'anecdotal', 'anecdote', 'anecdotes', 'anemia', 'anesthesia', 'aneurysm', 'anger', 'angrily', 'angry', 'angst', 'anguish', 'anhedonia', 'animal', 'animals', 'anime', 'ankle', 'annie', 'anniversary', 'anniversaryfeeling', 'annnd', 'announced', 'annoyed', 'annoying', 'annual', 'anonymous', 'another', 'answer', 'answered', 'answering', 'answers', 'antabus', 'antabuse', 'antacid', 'antacids', 'anthony', 'anti', 'antibiotics', 'anticipate', 'anticipating', 'antics', 'antidepressant', 'antidepressants', 'antidepressantsupdate', 'antisocial', 'antsyness', 'anxieties', 'anxiety', 'anxietyany', 'anxietyi', 'anxious', 'anxiousspent', 'anybody', 'anyhoo', 'anyhow', 'anymore', 'anymorei', 'anymoreso', 'anyone', 'anything', 'anytime', 'anyway', 'anyways', 'anywayyss', 'anywhere', 'anywho', 'aok', 'apart', 'apartment', 'apartments', 'apathy', 'apnea', 'apolipoprotein', 'apologies', 'apologize', 'apologized', 'apologizes', 'apologizing', 'apology', 'apologyhello', 'app', 'apparant', 'apparent', 'apparently', 'appealing', 'appear', 'appearance', 'appeared', 'appears', 'appease', 'appetite', 'apple', 'apples', 'applicable', 'application', 'applied', 'applies', 'apply', 'appointment', 'appointments', 'appreciate', 'appreciated', 'appreciatedhey', 'appreciating', 'appreciation', 'approach', 'approached', 'approaching', 'appropriate', 'approve', 'approved', 'approx', 'approximate', 'approximately', 'apps', 'apr', 'april', 'arby', 'archieving', 'area', 'areas', 'arent', 'arguably', 'argued', 'arguing', 'argument', 'argumentative', 'arguments', 'aria', 'ariatm', 'arises', 'arm', 'armed', 'armrests', 'arms', 'army', 'around', 'aroundi', 'arrange', 'arranged', 'array', 'arrest', 'arrested', 'arrestedjust', 'arrival', 'arrive', 'arrived', 'arse', 'art', 'arthritis', 'artichoke', 'article', 'articles', 'articulate', 'articulated', 'artificial', 'artificially', 'artisan', 'artist', 'arts', 'artsy', 'asap', 'ascension', 'asf', 'ashamed', 'asia', 'asian', 'aside', 'asistance', 'ask', 'asked', 'asking', 'asleep', 'asparagus', 'aspartame', 'aspect', 'aspects', 'aspirating', 'aspirations', 'aspiring', 'ass', 'assault', 'assaulted', 'assed', 'assess', 'assessing', 'asshey', 'asshole', 'assholes', 'assists', 'associated', 'assortment', 'assuage', 'assume', 'assumed', 'assuming', 'assuredness', 'assuring', 'ast', 'astaxanthin', 'asthma', 'astronaut', 'astronautswhen', 'aswell', 'ate', 'athlete', 'athletes', 'athletic', 'atkin', 'atkins', 'atkinsdoes', 'atleast', 'atm', 'atmosphere', 'attached', 'attachment', 'attack', 'attacked', 'attacks', 'attempt', 'attempted', 'attempthi', 'attempting', 'attempts', 'attend', 'attended', 'attending', 'attention', 'attia', 'attitude', 'attractive', 'attribute', 'audible', 'audio', 'auditory', 'augmentin', 'august', 'aunt', 'aura', 'austo', 'australia', 'authentic', 'auto', 'autobot', 'automatic', 'automatically', 'autopilot', 'avacado', 'available', 'avaliable', 'average', 'averaged', 'averaging', 'aversion', 'avg', 'avid', 'avocado', 'avocados', 'avoid', 'avoidance', 'avoided', 'avoiding', 'awaits', 'awake', 'awakening', 'awakenings', 'award', 'awards', 'aware', 'awareness', 'away', 'awe', 'awesome', 'awful', 'awhile', 'awkward', 'awkwardness', 'awoke', 'ayo', 'babble', 'babies', 'baby', 'babygirl', 'bac', 'bachelor', 'bachelorette', 'back', 'backfired', 'background', 'backhand', 'backpacking', 'backpain', 'backroad', 'backs', 'backstory', 'backwell', 'backwinewinewinewinewinewinewineiwnewimeiwnewinewineeinewinewinewinewinesinesieemwinewimeimewinewinewinewinewinewinewinewinewinewinewinewinewimewimewimewinewinewinewinewimewinewinewinewinewinewinewinewinewinewinewinewinewinewinewinewinewinewinewinewinewinewinewinewinewinewinewinewinewinewinewinewinewinewinewinewinewinewinewinewinewinewinewinewine', 'backyard', 'bacon', 'bacteria', 'bad', 'badass', 'badge', 'badgebot', 'badly', 'baffled', 'bag', 'bagel', 'bagged', 'baggie', 'baggins', 'bags', 'bai', 'bail', 'bailed', 'bake', 'baked', 'bakedcutie', 'baker', 'bakers', 'bakery', 'bakes', 'baking', 'balance', 'balanced', 'balancing', 'balcony', 'bald', 'baldspot', 'baldwin', 'ball', 'ballooned', 'ballpark', 'balls', 'balm', 'bam', 'bammmm', 'banana', 'band', 'bandages', 'bands', 'banging', 'banish', 'bank', 'banners', 'banning', 'bar', 'barbecue', 'barcode', 'bardoing', 'bare', 'barefoot', 'barely', 'bargaining', 'bariatric', 'barista', 'bark', 'barnes', 'barracks', 'barrell', 'barren', 'barrier', 'barriers', 'barring', 'bars', 'bartender', 'base', 'baseball', 'based', 'baseline', 'basement', 'bash', 'basic', 'basically', 'basics', 'basis', 'basket', 'basketball', 'bat', 'batch', 'bath', 'bathing', 'bathroom', 'bathrooms', 'batman', 'batmani', 'battle', 'battled', 'battling', 'bay', 'bb', 'bbq', 'bbqs', 'bc', 'bcs', 'bd', 'bday', 'beach', 'beachfor', 'bean', 'beans', 'beansordered', 'bear', 'bearable', 'beast', 'beat', 'beaten', 'beating', 'beats', 'beautiful', 'beautifully', 'became', 'become', 'becomes', 'becoming', 'bed', 'bedridden', 'bedroom', 'bedtime', 'beef', 'beer', 'beergaritas', 'beers', 'beershello', 'bees', 'befor', 'beforehand', 'beg', 'began', 'begged', 'begging', 'begin', 'beginner', 'beginneri', 'beginners', 'beginning', 'beginnings', 'begins', 'begun', 'behave', 'behaves', 'behaving', 'behavior', 'behavioral', 'behaviour', 'behavioural', 'behaviours', 'behind', 'behold', 'belated', 'belief', 'believable', 'believe', 'believed', 'believers', 'believing', 'bell', 'bellow', 'bells', 'belly', 'belong', 'belonging', 'belongings', 'belt', 'belts', 'belttoday', 'benches', 'bend', 'bender', 'benders', 'bending', 'beneficial', 'benefit', 'benefits', 'benevolent', 'benzodiazepines', 'benzos', 'berating', 'berberine', 'bergen', 'berries', 'berry', 'beside', 'besides', 'best', 'bestowed', 'bet', 'beta', 'betrayed', 'better', 'betterit', 'betty', 'beverage', 'beverages', 'beyond', 'bf', 'bg', 'bias', 'big', 'bigger', 'biggest', 'bigtex', 'bigtexan', 'bigtexans', 'bigtime', 'bike', 'biking', 'bikini', 'bile', 'bills', 'billy', 'biltong', 'bin', 'binge', 'binged', 'binges', 'binging', 'binginghi', 'bins', 'bio', 'bioactive', 'biochemistry', 'biological', 'biologically', 'biologist', 'biomarkers', 'biome', 'biotin', 'bipolar', 'bipolari', 'birch', 'bird', 'birds', 'birth', 'birthday', 'birthdayhello', 'birthdayi', 'birthdays', 'biscuits', 'bisglycinate', 'bismol', 'bit', 'bitch', 'bitchiness', 'bitchwell', 'bite', 'bites', 'bits', 'bitter', 'bitterness', 'biweekly', 'bizarre', 'bjj', 'black', 'blackberry', 'blacked', 'blacking', 'blackout', 'bladder', 'blade', 'blah', 'blame', 'blamed', 'bland', 'blank', 'blanket', 'blaring', 'blast', 'blasted', 'blasts', 'bleed', 'blend', 'blended', 'bless', 'blessed', 'blessing', 'blessings', 'blew', 'blind', 'blindly', 'blindness', 'blindsided', 'blink', 'bliss', 'bloat', 'bloated', 'bloating', 'bloatover', 'block', 'blockbuster', 'blocked', 'blocks', 'blog', 'bloggers', 'blogs', 'blood', 'bloodshot', 'bloodwork', 'bloody', 'bloom', 'blow', 'blowing', 'blown', 'blue', 'blueberries', 'blueberry', 'blueprint', 'blues', 'bluesthird', 'blunt', 'blur', 'blurred', 'blushed', 'bmi', 'bmp', 'bmr', 'bo', 'board', 'boarding', 'boat', 'boats', 'bob', 'boba', 'bod', 'bodies', 'bodily', 'body', 'bodybuilders', 'bodyfat', 'bodyweight', 'boil', 'boiled', 'bojack', 'bomb', 'bombs', 'bone', 'boneless', 'bones', 'bonfire', 'bonjour', 'bonked', 'bonkers', 'bonned', 'bonus', 'boogie', 'book', 'booked', 'bookedgot', 'bookmarks', 'books', 'boom', 'boost', 'boosted', 'boosting', 'boot', 'boots', 'booze', 'boozeville', 'boozing', 'boozy', 'borderline', 'bordom', 'bore', 'bored', 'boredom', 'boring', 'born', 'borne', 'bortolin', 'boss', 'bosses', 'bot', 'bother', 'bothered', 'bothering', 'boti', 'bottle', 'bottles', 'bottlesat', 'bottling', 'bottom', 'bottombeen', 'bought', 'bouillon', 'bounce', 'bouncing', 'bound', 'boundaries', 'boundary', 'boundless', 'bounds', 'bourbon', 'bout', 'bouts', 'bowel', 'bowels', 'bowl', 'bowls', 'box', 'boxed', 'boxes', 'boxsets', 'boy', 'boyfriend', 'boyfriends', 'boys', 'bp', 'bpd', 'bpm', 'bpmy', 'bra', 'brace', 'bracelet', 'bracing', 'brag', 'bragged', 'bragging', 'brags', 'brain', 'brainer', 'brains', 'brainwashed', 'brakes', 'branch', 'brand', 'branded', 'brands', 'branson', 'brats', 'bravado', 'brave', 'brazi', 'brazil', 'bread', 'breaded', 'breadhey', 'breadi', 'breadjust', 'breads', 'breadthe', 'breadtoday', 'break', 'breakdown', 'breakfast', 'breakfasts', 'breakfastscramble', 'breaking', 'breakouts', 'breaks', 'breakthrough', 'breakup', 'breast', 'breastfeeding', 'breasts', 'breath', 'breathalyser', 'breathe', 'breathed', 'breathing', 'breats', 'breckenridge', 'brendan', 'brew', 'breweries', 'brewery', 'brewing', 'breyers', 'bridal', 'bride', 'bridesmaids', 'bridge', 'bridges', 'brief', 'briefly', 'bright', 'brightening', 'brighter', 'brightest', 'brightness', 'brilliant', 'bring', 'bringing', 'brings', 'brit', 'brits', 'britta', 'broad', 'broadcast', 'broc', 'broccoli', 'brocolli', 'broke', 'broken', 'bronze', 'broskis', 'broth', 'brother', 'brothers', 'brought', 'brown', 'browned', 'brownies', 'browsing', 'bruised', 'bruises', 'brunch', 'brunettes', 'brush', 'brushed', 'brushing', 'brussel', 'brusseles', 'brussels', 'brutal', 'brutality', 'brutally', 'bryant', 'bryce', 'bs', 'btut', 'btw', 'bubble', 'bubblegum', 'bubbly', 'bucket', 'bucks', 'buckwheat', 'bud', 'buddies', 'budding', 'buddy', 'budge', 'budged', 'budget', 'budging', 'bueno', 'bugs', 'build', 'building', 'built', 'buku', 'bulb', 'bulk', 'bull', 'bulletproof', 'bullied', 'bullshit', 'bum', 'bummed', 'bummer', 'bumped', 'bumps', 'bumpy', 'bumwees', 'bun', 'bunch', 'bunless', 'buns', 'bur', 'burger', 'burgers', 'burn', 'burned', 'burnham', 'burnhi', 'burning', 'burnout', 'burns', 'burnside', 'burnt', 'burping', 'burps', 'burrito', 'burritos', 'burst', 'bus', 'busi', 'business', 'bust', 'busted', 'busy', 'butcher', 'bute', 'butt', 'butter', 'buttered', 'butterflies', 'butters', 'button', 'buttons', 'buy', 'buying', 'buys', 'buzz', 'buzzed', 'bye', 'byeeee', 'bypass', 'ca', 'cabbage', 'cabins', 'cabra', 'cacao', 'cafe', 'cafes', 'caffeine', 'cake', 'cakes', 'cal', 'calc', 'calcium', 'calculate', 'calculated', 'calculates', 'calculateur', 'calculating', 'calculation', 'calculations', 'calculator', 'calculators', 'calendar', 'cali', 'caliber', 'california', 'call', 'called', 'calling', 'calls', 'calm', 'calmer', 'calming', 'calmly', 'calmness', 'caloric', 'calorie', 'calories', 'cals', 'calves', 'came', 'camel', 'camembert', 'cameo', 'camping', 'campus', 'canada', 'canadian', 'cancel', 'canceled', 'cancelled', 'cancer', 'candidate', 'candies', 'candle', 'candles', 'candy', 'candydry', 'cane', 'canker', 'cankle', 'cannabis', 'canned', 'cannoli', 'cannon', 'cannot', 'canola', 'cans', 'cant', 'cantina', 'canvas', 'canyon', 'capable', 'capped', 'car', 'caramel', 'carb', 'carbawhat', 'carbohydrate', 'carbohydrates', 'carbonaut', 'carbs', 'carbshoping', 'carbsi', 'carby', 'card', 'cardio', 'cardiologist', 'cards', 'care', 'cared', 'career', 'carefree', 'careful', 'carefully', 'careless', 'carer', 'cares', 'caring', 'carnivore', 'carr', 'carried', 'carries', 'carrots', 'carry', 'carrying', 'cars', 'cart', 'carts', 'carving', 'carw', 'cascading', 'case', 'cases', 'cash', 'cashew', 'cashews', 'casserole', 'cast', 'casual', 'casually', 'cat', 'cataclysm', 'catalina', 'catalyst', 'catch', 'catching', 'categories', 'category', 'cater', 'cats', 'caught', 'cauliflower', 'causation', 'cause', 'caused', 'causes', 'causing', 'cautious', 'cave', 'caveat', 'caved', 'cavedi', 'caveman', 'caving', 'cayenne', 'cbd', 'cbfd', 'cbt', 'ce', 'ceased', 'cele', 'celebrate', 'celebrated', 'celebrating', 'celebration', 'celebratory', 'celery', 'cell', 'cellmate', 'cells', 'celtic', 'cement', 'cent', 'center', 'centered', 'centers', 'centimeters', 'central', 'centre', 'centric', 'cents', 'centuries', 'century', 'cept', 'cereal', 'ceremonially', 'ceremony', 'certain', 'certainly', 'certainty', 'chafle', 'chai', 'chain', 'chained', 'chainsaw', 'chair', 'chairs', 'chalky', 'challenge', 'challenges', 'challengesi', 'challenging', 'chamomile', 'champagne', 'champions', 'chance', 'chances', 'change', 'changed', 'changer', 'changes', 'changeshi', 'changesit', 'changing', 'channel', 'chaos', 'chapter', 'chapters', 'character', 'characterized', 'characters', 'chardonnay', 'charge', 'charged', 'charges', 'charlie', 'chart', 'chase', 'chased', 'chaser', 'chasing', 'chat', 'chats', 'chatted', 'chatter', 'chattering', 'chatting', 'chatty', 'cheap', 'cheaper', 'cheat', 'cheated', 'cheating', 'cheats', 'check', 'checked', 'checking', 'checks', 'checkup', 'cheddar', 'cheek', 'cheeks', 'cheeky', 'cheer', 'cheerful', 'cheerfully', 'cheers', 'cheese', 'cheeseburger', 'cheeseburgers', 'cheesecake', 'cheesecakes', 'cheeses', 'cheesesteak', 'cheesy', 'chef', 'chemical', 'chemo', 'chemotherapy', 'cherishing', 'cherries', 'cherry', 'chest', 'chew', 'chewables', 'chewing', 'chewy', 'chia', 'chicken', 'chickenim', 'child', 'childcare', 'childhood', 'children', 'childservies', 'chili', 'chill', 'chilled', 'chilli', 'chillies', 'chilling', 'chills', 'chime', 'chin', 'china', 'chinese', 'chip', 'chippy', 'chips', 'chiptoday', 'chiropractic', 'chirping', 'chlorella', 'chloride', 'chlorine', 'choc', 'chocolate', 'choice', 'choices', 'choisi', 'choke', 'choked', 'choking', 'cholesterol', 'cholesterolhey', 'choose', 'chooses', 'choosing', 'chopped', 'chops', 'chore', 'chores', 'chose', 'chosen', 'chris', 'christian', 'christmas', 'chromium', 'chronic', 'chronometer', 'chug', 'chugged', 'chugging', 'chunk', 'chunks', 'cico', 'cider', 'ciders', 'cigarettes', 'cinnamon', 'circadian', 'circle', 'circles', 'circular', 'circumstance', 'circumstances', 'circus', 'cirrhosis', 'cities', 'citizen', 'citrate', 'city', 'ck', 'cking', 'cl', 'claim', 'claiming', 'claims', 'clarification', 'clarifies', 'clarify', 'clarity', 'class', 'classes', 'classic', 'classics', 'classify', 'claws', 'clean', 'cleaned', 'cleanest', 'cleaning', 'cleanse', 'clear', 'cleared', 'clearer', 'clearing', 'clearly', 'clerks', 'clever', 'cliche', 'click', 'clicked', 'clicking', 'client', 'clients', 'cliff', 'climb', 'climbed', 'climbing', 'cling', 'clingy', 'clinic', 'clinicians', 'clinics', 'clock', 'clocks', 'clockwork', 'close', 'closed', 'closely', 'closeness', 'closer', 'closest', 'closet', 'closing', 'clothed', 'clothes', 'clotheslike', 'clothing', 'clots', 'cloud', 'clouds', 'cloudy', 'club', 'clubi', 'clubs', 'clue', 'clued', 'clueless', 'clues', 'clumps', 'clumsy', 'clusters', 'clutches', 'clutching', 'cm', 'cms', 'co', 'coach', 'coaches', 'coastal', 'coaster', 'coat', 'coated', 'coating', 'coats', 'cob', 'cocaine', 'cocktail', 'cocktails', 'cocky', 'coco', 'cocoa', 'coconut', 'cod', 'code', 'codependency', 'coffee', 'coffeehello', 'coffeei', 'cognitive', 'cohesive', 'coil', 'coincidental', 'coke', 'cokes', 'colby', 'cold', 'coldly', 'coliflour', 'colitis', 'collagen', 'colleagues', 'collecting', 'collective', 'collects', 'college', 'cologne', 'color', 'colorado', 'colors', 'colour', 'com', 'coma', 'comatose', 'combat', 'combination', 'combine', 'combined', 'combining', 'combo', 'come', 'comedians', 'comedy', 'comes', 'comfort', 'comfortable', 'comfy', 'coming', 'comment', 'commented', 'commenting', 'comments', 'commercial', 'commit', 'commitment', 'commitmenti', 'committed', 'committing', 'common', 'commonly', 'communicate', 'communicating', 'communication', 'communicative', 'communities', 'community', 'communityi', 'communitywell', 'commute', 'companies', 'companion', 'companions', 'companionship', 'company', 'comparable', 'comparatively', 'compare', 'compared', 'comparing', 'comparison', 'compass', 'compassion', 'compatible', 'compelling', 'compensate', 'competent', 'competing', 'competitions', 'compile', 'complain', 'complainer', 'complaining', 'complains', 'complaint', 'complaints', 'complete', 'completed', 'completely', 'completing', 'complex', 'complexion', 'compliance', 'complicated', 'complicating', 'complications', 'compliments', 'composed', 'composition', 'compounded', 'compounds', 'comprehensive', 'comprendre', 'compressions', 'compromise', 'compromised', 'compromising', 'compulsion', 'compulsory', 'computer', 'comrades', 'coms', 'conceal', 'concentrate', 'concentrating', 'concept', 'concern', 'concerned', 'concerning', 'concerns', 'concernshi', 'concert', 'concerts', 'concinced', 'concious', 'concise', 'conclusion', 'conclusions', 'concrete', 'concussion', 'condescending', 'condescendingly', 'condition', 'conditioning', 'conditions', 'condo', 'confectioners', 'conference', 'confession', 'confessionwhat', 'confidant', 'confided', 'confidence', 'confident', 'confinement', 'confirm', 'conflict', 'conflicted', 'conflicting', 'confounding', 'confrontational', 'confronting', 'confused', 'confusedafter', 'confusion', 'confusionhi', 'congested', 'congrats', 'congratulated', 'congratulations', 'connect', 'connected', 'connecting', 'connection', 'connections', 'connoisseur', 'connoisseurs', 'conor', 'conquer', 'conroy', 'cons', 'conscious', 'consciously', 'consciousness', 'consecutive', 'consensus', 'consequence', 'consequences', 'conservative', 'consider', 'considerable', 'considerably', 'consideration', 'considered', 'considering', 'consist', 'consisted', 'consistent', 'consistently', 'consists', 'consolation', 'consolidates', 'constant', 'constantly', 'constipated', 'constipation', 'construction', 'constructive', 'consult', 'consultant', 'consulted', 'consulting', 'consume', 'consumed', 'consuming', 'consumption', 'contact', 'contacted', 'contacting', 'contain', 'contained', 'container', 'containers', 'contains', 'contemplated', 'contempt', 'contend', 'content', 'contents', 'context', 'continually', 'continue', 'continued', 'continues', 'continuing', 'continuous', 'contract', 'contradicting', 'contrary', 'contrast', 'contribute', 'contributed', 'contributes', 'contributing', 'contributor', 'control', 'controlled', 'controlling', 'controversial', 'conundrum', 'convenience', 'convenient', 'convent', 'conventional', 'conversation', 'conversational', 'conversely', 'convert', 'convey', 'convicted', 'conviction', 'convience', 'convince', 'convinced', 'convinces', 'convincing', 'convoso', 'convulsing', 'cook', 'cookbook', 'cookbooks', 'cooked', 'cookie', 'cooking', 'cookout', 'cool', 'coolant', 'cooler', 'coopers', 'coordination', 'coordinator', 'cop', 'cope', 'coped', 'coping', 'copious', 'cops', 'copying', 'cordialement', 'core', 'corn', 'corner', 'cornerstore', 'cornstarch', 'corona', 'coronas', 'coronavirus', 'corps', 'correct', 'corrected', 'correcting', 'correctly', 'correlation', 'correlations', 'corresponds', 'cortisol', 'cos', 'cost', 'costco', 'costed', 'costs', 'cottage', 'cotton', 'couch', 'cough', 'coughs', 'could', 'couldi', 'couldnt', 'council', 'counsel', 'counseling', 'counselling', 'counsellor', 'counsellors', 'counselor', 'counselors', 'count', 'counter', 'counti', 'counting', 'countinghi', 'countless', 'country', 'counts', 'county', 'couple', 'coupled', 'couples', 'coupling', 'courage', 'course', 'courses', 'court', 'courthouse', 'courtyard', 'couscous', 'cousin', 'cousins', 'cover', 'covered', 'covering', 'covers', 'covid', 'cow', 'coworker', 'coworkers', 'cows', 'cozy', 'cpap', 'cps', 'crack', 'cracked', 'cracker', 'crackers', 'cracking', 'craft', 'cramming', 'cramp', 'crampahi', 'cramped', 'cramping', 'cramps', 'crankin', 'cranking', 'crap', 'crappy', 'crash', 'crashed', 'crashes', 'crasheshi', 'crashing', 'crate', 'crave', 'craved', 'craving', 'cravings', 'cravingsi', 'cravingsince', 'crawl', 'crawled', 'crawling', 'craziest', 'crazy', 'cream', 'creamer', 'creamy', 'create', 'created', 'creates', 'creating', 'creation', 'creations', 'creative', 'creativity', 'creators', 'creatures', 'credentials', 'credit', 'creek', 'creep', 'creeped', 'creeping', 'creeps', 'creepy', 'crepe', 'crepini', 'crept', 'crestfallen', 'crew', 'cried', 'crime', 'cringe', 'cringy', 'cripple', 'crippling', 'crisis', 'crisp', 'crispy', 'criteria', 'critical', 'criticisms', 'criticize', 'crocodile', 'crohn', 'croix', 'cronometer', 'cross', 'crossed', 'crucial', 'crucifixion', 'crude', 'cruel', 'crumbles', 'crumbling', 'crumbs', 'crummy', 'crunch', 'crunchy', 'crushers', 'crushing', 'crust', 'crusts', 'crutch', 'crutches', 'cry', 'crying', 'crystallized', 'cs', 'cubes', 'cucumber', 'cuddle', 'cuff', 'culinary', 'cull', 'culprit', 'cult', 'cultivate', 'culture', 'cumulative', 'cup', 'cupboard', 'cups', 'curb', 'curcumin', 'cure', 'cured', 'curiosity', 'curious', 'current', 'currently', 'curse', 'curveballs', 'cus', 'custodial', 'custody', 'customer', 'cut', 'cute', 'cutoff', 'cuts', 'cutting', 'cuz', 'cv', 'cvs', 'cw', 'cycle', 'cycles', 'cyclical', 'cycling', 'cyclist', 'cyclists', 'cystic', 'dabbled', 'dabbles', 'dabbling', 'dad', 'daddy', 'dads', 'daily', 'dairy', 'dairyhi', 'dairynew', 'damage', 'damaged', 'damages', 'damaging', 'dammit', 'damn', 'damnit', 'damp', 'damper', 'dance', 'danced', 'dancer', 'dancing', 'dandy', 'danger', 'dangerous', 'dangers', 'dans', 'dare', 'dark', 'darkened', 'darkest', 'darts', 'dashes', 'data', 'database', 'date', 'dated', 'dates', 'dating', 'daughter', 'daughters', 'daunting', 'dawned', 'day', 'daycare', 'daydream', 'dayi', 'dayknocked', 'days', 'dayshello', 'daysi', 'daysjust', 'dayskeep', 'daysnever', 'daysofketo', 'daysstarted', 'daysthis', 'daystoday', 'dayswell', 'dayswent', 'dayswhen', 'daytreatment', 'dbt', 'dci', 'de', 'dead', 'deaden', 'deadly', 'deaf', 'deal', 'dealership', 'dealerships', 'dealing', 'deals', 'dealt', 'dean', 'dear', 'dearest', 'death', 'deaths', 'debacle', 'debate', 'debating', 'debilitating', 'debt', 'debts', 'dec', 'decade', 'decades', 'decaf', 'decant', 'decay', 'deceit', 'december', 'decent', 'decently', 'deception', 'decide', 'decided', 'deciding', 'deciphering', 'decision', 'decisions', 'decline', 'declined', 'declining', 'decongestant', 'decrease', 'decreased', 'dedicated', 'deduct', 'deen', 'deep', 'deeper', 'deeply', 'deer', 'defeat', 'defeated', 'defecating', 'defense', 'defensive', 'deficiencies', 'deficiency', 'deficit', 'deficitfirst', 'deficits', 'define', 'defined', 'defines', 'defining', 'definitely', 'definition', 'definitively', 'degenerate', 'degree', 'degrees', 'dehydrate', 'dehydrated', 'dehydration', 'dehyration', 'deity', 'deja', 'delaying', 'delays', 'delete', 'deleted', 'delhi', 'deli', 'deliberately', 'delicious', 'deliciously', 'delight', 'delighted', 'delirium', 'delivered', 'delivers', 'delivery', 'delt', 'deluded', 'delusion', 'delve', 'demand', 'demanding', 'demands', 'demon', 'demons', 'demonstrate', 'demonstrating', 'demoralizing', 'demoted', 'demotivated', 'denial', 'denominator', 'dense', 'dent', 'dental', 'dented', 'dentist', 'dentistwondering', 'deny', 'denying', 'deodorant', 'department', 'depend', 'dependant', 'dependence', 'dependency', 'dependent', 'depending', 'depleting', 'deployed', 'deployment', 'deprecation', 'depressant', 'depressants', 'depressed', 'depressedhello', 'depressing', 'depression', 'depressionso', 'depressionthe', 'depressive', 'deprived', 'depths', 'der', 'derail', 'describe', 'described', 'describing', 'desert', 'deserts', 'desertsi', 'deserve', 'deserved', 'deserves', 'deserving', 'desi', 'designed', 'designing', 'desire', 'desired', 'desk', 'desklast', 'desks', 'despair', 'desperate', 'desperately', 'despite', 'dessert', 'desserts', 'destination', 'destinations', 'destined', 'destress', 'destroy', 'destroyed', 'destroying', 'destruct', 'destruction', 'destructive', 'detail', 'detailed', 'details', 'detention', 'deter', 'deteriorating', 'determination', 'determine', 'determined', 'detox', 'detoxi', 'detoxing', 'detract', 'devastated', 'develop', 'developed', 'developing', 'developments', 'deviation', 'device', 'devil', 'devouring', 'dew', 'dextrose', 'dfs', 'diabetes', 'diabetic', 'diabetics', 'diagnosed', 'diagnosis', 'dial', 'diarrhea', 'diarrhoea', 'dice', 'dichotomy', 'dick', 'dickheads', 'dictates', 'didnt', 'die', 'died', 'dietary', 'dieted', 'dieters', 'diethi', 'dietic', 'dietician', 'dietitians', 'dietnerd', 'diets', 'dietsigh', 'diettrackerbot', 'diff', 'difference', 'differences', 'different', 'differently', 'differents', 'differentso', 'difficult', 'difficulties', 'difficulty', 'dig', 'digest', 'digested', 'digestion', 'digestive', 'digging', 'digital', 'digits', 'dignity', 'digressing', 'diligent', 'diluted', 'dilution', 'dim', 'diminished', 'diminishes', 'diminishing', 'dining', 'dinner', 'dinners', 'dinnertime', 'dioralyte', 'dip', 'diphelp', 'dipped', 'dipping', 'direct', 'directed', 'direction', 'directions', 'directly', 'dirty', 'disability', 'disabled', 'disappear', 'disappeared', 'disappoint', 'disappointed', 'disappointing', 'disappointment', 'disappointments', 'disaster', 'disasters', 'disastrous', 'disbanding', 'disbelief', 'disc', 'discharge', 'discharged', 'discipline', 'disciplined', 'disclaimer', 'disclose', 'disclosure', 'discomfort', 'disconnected', 'discontentedness', 'discouraged', 'discouraging', 'discover', 'discovered', 'discovery', 'discredit', 'discuss', 'discussed', 'discussing', 'discussion', 'discussions', 'disdain', 'disease', 'diseases', 'disgraced', 'disgruntled', 'disgust', 'disgusted', 'disgusting', 'disgustingly', 'disgustingyou', 'dish', 'dishearten', 'dishes', 'disinterested', 'dislike', 'dismissed', 'disney', 'disorder', 'disorders', 'disorganized', 'disparage', 'display', 'displays', 'disposable', 'dispose', 'disposed', 'disregard', 'disrespect', 'disrespected', 'disrespectful', 'disrespecting', 'disrupted', 'dissapointed', 'dissatisfaction', 'disservice', 'dissipated', 'dissociation', 'dissociative', 'dissolve', 'dissolved', 'distance', 'distancing', 'distant', 'distract', 'distracted', 'distracting', 'distractions', 'distress', 'distressed', 'disturbances', 'disturbed', 'disulfiram', 'ditch', 'ditching', 'dive', 'diving', 'division', 'divorce', 'divorced', 'dizziness', 'dizzy', 'dj', 'dl', 'dno', 'doable', 'doc', 'docs', 'doctor', 'doctorate', 'doctors', 'document', 'documents', 'dodge', 'dodged', 'doe', 'doesnt', 'dog', 'dogs', 'doi', 'dollars', 'dollop', 'domain', 'domestic', 'domino', 'donated', 'done', 'doner', 'donn', 'donner', 'dont', 'donut', 'donuts', 'doom', 'doomed', 'door', 'doori', 'doors', 'doorway', 'dopamine', 'dope', 'dosage', 'dosages', 'dose', 'dosent', 'doses', 'dostruggling', 'double', 'doubled', 'doubles', 'doubling', 'doubt', 'doubts', 'douche', 'dough', 'doughy', 'downed', 'downers', 'downfall', 'downhill', 'downing', 'downloaded', 'downprogress', 'downright', 'downs', 'downshit', 'downside', 'downstairs', 'downthought', 'downtown', 'downward', 'downwow', 'dozen', 'dpw', 'dr', 'drag', 'dragged', 'dragging', 'drain', 'draining', 'drainthis', 'drama', 'dramatically', 'drastic', 'drastically', 'dravet', 'draw', 'drawbacks', 'drawer', 'drawers', 'drawing', 'drawn', 'dread', 'dreaded', 'dreading', 'dream', 'dreamers', 'dreami', 'dreaming', 'dreams', 'dreamt', 'dreamthis', 'drenched', 'dress', 'dressing', 'dressings', 'dried', 'drift', 'drifting', 'drill', 'drilled', 'drinker', 'drinkers', 'drinkerthe', 'drinkhow', 'drinki', 'drinkingand', 'drinkinganyone', 'drinkingi', 'drinkingnot', 'drinkingso', 'drinkmade', 'drinknot', 'drinkok', 'drinkstigator', 'drinkwhat', 'drip', 'drive', 'driven', 'driver', 'driverhowdy', 'drives', 'driveway', 'driving', 'drivng', 'drizzle', 'drool', 'drop', 'dropped', 'dropping', 'drops', 'drove', 'droves', 'drown', 'drowning', 'drowsy', 'drug', 'drugged', 'drugrehab', 'drugs', 'drugstore', 'drum', 'drumroll', 'drunkcleaning', 'drunken', 'drunkenly', 'drunkenness', 'drunkhey', 'drunktards', 'dry', 'dryer', 'drying', 'ds', 'dt', 'dts', 'du', 'duct', 'dude', 'due', 'dug', 'duh', 'dui', 'duis', 'dull', 'dulling', 'dumb', 'dumbass', 'dumbest', 'dumbfounded', 'dummy', 'dumped', 'dumping', 'dumpster', 'dunno', 'duration', 'durations', 'dust', 'dustbin', 'dusting', 'duties', 'duty', 'dwi', 'dwindled', 'dying', 'dynamic', 'eachother', 'eager', 'ear', 'earlier', 'earliernormally', 'earliest', 'early', 'earned', 'earring', 'ears', 'earth', 'earthquake', 'ease', 'eases', 'easier', 'easiest', 'easily', 'east', 'easter', 'eastern', 'easy', 'easyi', 'eat', 'eaten', 'eaters', 'eating', 'eats', 'ebbed', 'ebbing', 'echo', 'echoes', 'eckhart', 'economic', 'ecstasy', 'ecstatic', 'ect', 'ed', 'edge', 'edges', 'edit', 'edited', 'editx', 'eds', 'educated', 'educator', 'eeekkk', 'eff', 'effect', 'effective', 'effectively', 'effects', 'effexor', 'efficient', 'efficiently', 'effort', 'effortless', 'efforts', 'eg', 'egg', 'egged', 'eggplant', 'eggs', 'ego', 'egyptian', 'eh', 'eidetic', 'eight', 'either', 'elaborate', 'elbow', 'elbows', 'elderly', 'eldest', 'electricity', 'electrolye', 'electrolyte', 'electrolytehi', 'electrolytes', 'electrolyteshey', 'elemental', 'elementary', 'elephant', 'elevated', 'elevation', 'eleven', 'eliminate', 'eliminated', 'eliminating', 'elixir', 'elliptical', 'else', 'elses', 'elsewhere', 'elusive', 'em', 'email', 'emailed', 'embarking', 'embarrass', 'embarrassed', 'embarrassing', 'embarrassment', 'embedded', 'embrace', 'emeals', 'emealsi', 'emergency', 'emigrated', 'emmerich', 'emoji', 'emotioanlly', 'emotion', 'emotional', 'emotionally', 'emotions', 'emotionsi', 'empathetic', 'empathy', 'employee', 'employees', 'employer', 'emptied', 'empties', 'empty', 'emptying', 'ems', 'emt', 'enable', 'enabled', 'enabler', 'encounter', 'encountered', 'encourage', 'encouraged', 'encouragement', 'encouragementi', 'encouragementso', 'encouraging', 'encroaching', 'end', 'ended', 'ending', 'endless', 'endlessly', 'endorphins', 'endorsements', 'endoscopy', 'ends', 'endsi', 'endurance', 'enemy', 'energetic', 'energy', 'energygood', 'enforcements', 'engage', 'engaged', 'engaging', 'england', 'english', 'enhance', 'enhancement', 'enivitable', 'enjoy', 'enjoyable', 'enjoyed', 'enjoying', 'enjoyment', 'enjoys', 'enlightened', 'enlisted', 'enough', 'enoughfor', 'enoughi', 'enquire', 'enrolled', 'ensure', 'ensuring', 'enter', 'entered', 'entering', 'entertaining', 'enthusiast', 'enthusiastically', 'entire', 'entirely', 'entirety', 'entree', 'envied', 'envious', 'environment', 'environments', 'enzymedica', 'enzymes', 'epic', 'epilepsy', 'epiphany', 'episode', 'episodes', 'equal', 'equally', 'equals', 'equates', 'equation', 'equilibrium', 'equipment', 'equivalent', 'er', 'era', 'erased', 'errands', 'erratic', 'error', 'errors', 'ers', 'erythritol', 'es', 'escalate', 'escalated', 'escalating', 'escalation', 'escapade', 'escape', 'escaped', 'escaping', 'escitalopr', 'escorted', 'eshhh', 'esketamine', 'esophagus', 'especially', 'esperal', 'espresso', 'essential', 'essentially', 'est', 'establish', 'establishing', 'esteem', 'estimate', 'estranged', 'et', 'eta', 'etc', 'eternally', 'ether', 'euphoria', 'euphoric', 'europe', 'euros', 'eurosthis', 'evaluation', 'evaporated', 'eve', 'even', 'evening', 'evenings', 'event', 'eventhough', 'events', 'eventually', 'ever', 'every', 'everybody', 'everyday', 'everyone', 'everything', 'everythingeverything', 'everythings', 'everytime', 'everywhere', 'everywhereit', 'evict', 'evicted', 'evidence', 'evidently', 'evil', 'evils', 'evolution', 'evolved', 'evoo', 'ex', 'exacerbate', 'exact', 'exactly', 'exaggeration', 'exam', 'example', 'examples', 'exceed', 'excelled', 'excellence', 'excellent', 'except', 'exception', 'excercise', 'excercised', 'excersing', 'excersizing', 'excess', 'excessive', 'excessively', 'excited', 'excitement', 'exciting', 'exclude', 'excluding', 'exclusive', 'exclusively', 'excruciatingly', 'excuse', 'excuses', 'exercice', 'exercise', 'exercised', 'exercisei', 'exercises', 'exercising', 'exersizer', 'exes', 'exhaust', 'exhausted', 'exhausting', 'exhaustion', 'exhibit', 'exhilarating', 'exist', 'existence', 'existent', 'existential', 'existing', 'exists', 'exit', 'exotic', 'expand', 'expect', 'expectation', 'expectations', 'expected', 'expecting', 'expects', 'expedite', 'expenditure', 'expense', 'expensive', 'experience', 'experienced', 'experiences', 'experiencing', 'experiential', 'experiment', 'experimenting', 'experiments', 'expert', 'expertise', 'experts', 'expired', 'expiring', 'explain', 'explained', 'explaining', 'explains', 'explanation', 'explicitly', 'explode', 'exploded', 'explore', 'exploring', 'explosive', 'expose', 'exposed', 'exposing', 'express', 'expressed', 'extend', 'extended', 'extender', 'extension', 'extensive', 'extent', 'external', 'extortion', 'extra', 'extracted', 'extraordinary', 'extreme', 'extremely', 'extrovert', 'extroverted', 'eye', 'eyeball', 'eyeing', 'eyes', 'eyesi', 'fab', 'fabulous', 'face', 'facebook', 'faced', 'facial', 'facilitated', 'facility', 'facing', 'fact', 'facto', 'factor', 'factors', 'factory', 'facts', 'faculties', 'fade', 'faded', 'fading', 'fail', 'failed', 'failedits', 'failing', 'failings', 'failure', 'failures', 'faint', 'fair', 'fairly', 'fairs', 'faith', 'fake', 'fall', 'fallen', 'falling', 'fallout', 'falls', 'false', 'falsely', 'faltered', 'fam', 'famed', 'familiar', 'familiarity', 'families', 'family', 'famished', 'famous', 'famously', 'fan', 'fanatic', 'fancy', 'fans', 'fantastic', 'fantastically', 'fantasy', 'faq', 'faqs', 'far', 'farmer', 'farts', 'fascinating', 'fashioned', 'fast', 'faster', 'fastest', 'fastfood', 'fasting', 'fastingi', 'fasts', 'fat', 'fatal', 'fate', 'fateful', 'father', 'fathers', 'fathi', 'fathom', 'fatigue', 'fatigued', 'fatiguei', 'fatness', 'fats', 'fatter', 'fatty', 'fault', 'fauna', 'fav', 'favor', 'favorite', 'favorited', 'favorites', 'favors', 'favourite', 'fb', 'fbg', 'fcking', 'fear', 'feared', 'fearful', 'feasible', 'feast', 'feat', 'featured', 'features', 'feb', 'february', 'fed', 'feed', 'feedback', 'feeding', 'feeds', 'feel', 'feelin', 'feeling', 'feelings', 'feels', 'feet', 'feetso', 'fell', 'feller', 'felling', 'fellow', 'fellowship', 'felony', 'felt', 'feltthe', 'female', 'females', 'fence', 'ferment', 'ferriss', 'festival', 'festivalsjust', 'feta', 'fever', 'fevers', 'fewer', 'fi', 'fianc', 'fiance', 'fiber', 'fibre', 'fibril', 'ficit', 'fiction', 'field', 'fiesta', 'fifth', 'fight', 'fighter', 'fighting', 'fights', 'figuratively', 'figure', 'figured', 'figures', 'figuring', 'fil', 'file', 'fill', 'filled', 'fillet', 'filling', 'filter', 'filtered', 'filtering', 'filth', 'final', 'finally', 'finance', 'finances', 'financial', 'financially', 'find', 'finding', 'fine', 'fineday', 'finely', 'finer', 'finger', 'fingers', 'finish', 'finished', 'finishes', 'finishing', 'finn', 'fiona', 'fire', 'fireball', 'fired', 'firm', 'firmly', 'first', 'fish', 'fisherman', 'fishi', 'fishy', 'fist', 'fit', 'fitbit', 'fitness', 'fits', 'fitting', 'five', 'fix', 'fixated', 'fixed', 'fixes', 'fixing', 'fizzy', 'fking', 'flab', 'flabbergasted', 'flabby', 'flag', 'flagellating', 'flags', 'flailing', 'flair', 'flairs', 'flake', 'flaked', 'flare', 'flash', 'flashes', 'flask', 'flat', 'flattest', 'flavor', 'flavored', 'flavoring', 'flavorings', 'flavour', 'flavoured', 'flavourlast', 'flavours', 'flawed', 'flaws', 'flax', 'flew', 'flexible', 'flies', 'flight', 'flights', 'flinch', 'flip', 'flippant', 'flipped', 'flippin', 'flips', 'flitting', 'float', 'floating', 'flooding', 'floor', 'floored', 'floppy', 'florida', 'floss', 'flossing', 'flour', 'flours', 'flow', 'flowed', 'flower', 'flowers', 'flowin', 'flowing', 'flu', 'fluctuate', 'fluctuated', 'fluctuates', 'fluctuating', 'fluctuations', 'fluent', 'fluid', 'fluids', 'fluke', 'flushed', 'flute', 'fly', 'flying', 'fmla', 'fo', 'foamy', 'focus', 'focused', 'focuses', 'focusing', 'fog', 'foggy', 'foil', 'folding', 'folks', 'follow', 'followed', 'following', 'follows', 'fomo', 'fond', 'font', 'food', 'foodbeen', 'foodi', 'foodie', 'foods', 'foodswhat', 'fool', 'fooled', 'fooling', 'foolish', 'foolproof', 'foot', 'football', 'footing', 'forbidden', 'force', 'forced', 'forces', 'forcible', 'forcing', 'ford', 'forehead', 'foreman', 'forest', 'forever', 'foreverhi', 'forge', 'forget', 'forgetting', 'forging', 'forgive', 'forgiven', 'forgiveness', 'forgiving', 'forgot', 'forgotten', 'form', 'formally', 'format', 'formatting', 'formed', 'former', 'forms', 'forth', 'fortunate', 'fortunately', 'fortune', 'forum', 'forward', 'forwards', 'fought', 'found', 'foundation', 'fountain', 'four', 'fourth', 'fr', 'fracture', 'fragile', 'frame', 'frames', 'france', 'frankly', 'frantically', 'franz', 'freaked', 'freaking', 'freaks', 'free', 'freed', 'freedom', 'freeing', 'freelance', 'freely', 'freeze', 'freezer', 'freezing', 'fremont', 'french', 'frenemy', 'frequency', 'frequent', 'frequenting', 'frequently', 'fresh', 'freshen', 'freshlyfit', 'freshman', 'fri', 'frick', 'fricken', 'fricking', 'friday', 'fridays', 'fridge', 'fried', 'friend', 'friendly', 'friends', 'friendship', 'friendships', 'friendsi', 'fries', 'frightened', 'frodo', 'front', 'frontier', 'frown', 'frozen', 'fruit', 'fruithi', 'fruits', 'frustrated', 'frustratedi', 'frustrating', 'frustratingi', 'frustration', 'frustrations', 'frying', 'ft', 'fuck', 'fucked', 'fuckin', 'fucking', 'fucks', 'fudge', 'fuel', 'fueled', 'fueling', 'fulfilled', 'fulfilling', 'full', 'fuller', 'fullest', 'fullness', 'fully', 'fun', 'function', 'functional', 'functioning', 'functions', 'fundamental', 'fundamentally', 'fundamentals', 'funk', 'funnily', 'funny', 'fur', 'furious', 'furnished', 'fuse', 'fusion', 'fussed', 'future', 'fuuuuuuuucksocializing', 'fuzzy', 'fwiw', 'fxxx', 'fyi', 'gaba', 'gag', 'gagging', 'gain', 'gained', 'gaining', 'gains', 'gal', 'gallbladder', 'gallon', 'gallons', 'gallstones', 'gallstoneshi', 'gals', 'game', 'gamers', 'games', 'gang', 'gapping', 'garage', 'garbage', 'garden', 'gardening', 'garli', 'garlic', 'gary', 'gas', 'gaslighted', 'gasping', 'gasps', 'gastric', 'gather', 'gatherer', 'gathering', 'gatherings', 'gatheringwe', 'gatorade', 'gauze', 'gave', 'gaviscon', 'gear', 'gears', 'geekery', 'gel', 'gender', 'general', 'generally', 'generated', 'generations', 'genes', 'genetic', 'genius', 'genpop', 'genre', 'gentle', 'gentleman', 'genuine', 'genuinely', 'george', 'gerd', 'german', 'gestational', 'gesture', 'get', 'getaway', 'gets', 'gettin', 'getting', 'gf', 'ghee', 'ghey', 'gi', 'giant', 'giants', 'gift', 'gifted', 'gifts', 'gig', 'giggly', 'gigs', 'gime', 'gimmicky', 'gin', 'ginger', 'girl', 'girlfriend', 'girlfriends', 'girls', 'give', 'given', 'giver', 'gives', 'giving', 'gki', 'glad', 'gladly', 'glamorized', 'glamorous', 'glamourising', 'glamourize', 'glamourous', 'glance', 'glanced', 'gland', 'glaringly', 'glass', 'glasses', 'glean', 'glimpse', 'global', 'gloomy', 'glorify', 'glorifying', 'glorious', 'glory', 'glossed', 'glowing', 'glucosamine', 'glucose', 'gluten', 'glycemic', 'glycinate', 'gm', 'gnarly', 'gnawing', 'gnocchi', 'go', 'goal', 'goals', 'goaltl', 'god', 'goddamn', 'goes', 'goesbeen', 'going', 'goingi', 'goingup', 'goit', 'gold', 'golden', 'golds', 'golf', 'gone', 'gonna', 'good', 'goodbye', 'goodi', 'goodness', 'goodnight', 'goofy', 'google', 'googled', 'googling', 'goooo', 'goose', 'gordon', 'gorgeous', 'gosh', 'got', 'gotta', 'gotten', 'gout', 'goutsugar', 'government', 'gp', 'gr', 'grab', 'grabbed', 'grabbing', 'grace', 'gracefully', 'gracegrace', 'gracious', 'grad', 'grade', 'grades', 'gradient', 'gradually', 'graduate', 'graduated', 'graduates', 'graduating', 'graduation', 'grail', 'grain', 'gram', 'grammar', 'grams', 'grand', 'grandfather', 'grandma', 'grandparents', 'granola', 'granted', 'granulations', 'grape', 'grapes', 'graph', 'grasp', 'grass', 'grassy', 'grateful', 'gratification', 'gratitude', 'graves', 'gravity', 'grazing', 'grease', 'greasy', 'great', 'greater', 'greatest', 'greatly', 'greatrecently', 'greek', 'green', 'greenchef', 'greens', 'greeted', 'gregory', 'grew', 'grey', 'griddle', 'grief', 'grieving', 'griffin', 'grigio', 'grill', 'grilled', 'grim', 'grin', 'grinding', 'grip', 'gripe', 'grips', 'gritty', 'groan', 'groaning', 'groceries', 'grocery', 'groggy', 'groove', 'gross', 'ground', 'groundbreaking', 'grounding', 'group', 'groups', 'grow', 'growing', 'grown', 'grueling', 'grump', 'grumpy', 'gruntled', 'gt', 'gtfo', 'guac', 'guarantees', 'guard', 'guarded', 'guards', 'guess', 'guessing', 'guests', 'guidance', 'guide', 'guided', 'guidelines', 'guides', 'guilt', 'guilty', 'guiltyhi', 'guitar', 'gulp', 'gulping', 'gum', 'gums', 'gunpoint', 'guns', 'gusto', 'gut', 'guts', 'guy', 'guys', 'gw', 'gym', 'gymi', 'gymnastics', 'gyms', 'gynecomastia', 'habit', 'habits', 'hacks', 'haha', 'hahaha', 'hair', 'haired', 'hairs', 'hakutsuru', 'half', 'halfassed', 'halfway', 'halloween', 'halls', 'hallucinated', 'hallucinating', 'hallucinations', 'halo', 'hamburger', 'hamburgers', 'hammered', 'hamster', 'hand', 'handed', 'handful', 'handicapping', 'handing', 'handle', 'handles', 'handling', 'hands', 'handy', 'hanff', 'hang', 'hanging', 'hangover', 'hangovers', 'hangry', 'hangxiety', 'hankering', 'haphazard', 'happen', 'happend', 'happened', 'happening', 'happens', 'happier', 'happierfirst', 'happily', 'happiness', 'happy', 'happyi', 'harass', 'hard', 'hardcore', 'harder', 'hardest', 'hardly', 'hardships', 'harm', 'harmer', 'harmful', 'harming', 'harmless', 'harnessing', 'harping', 'hashed', 'hasnt', 'hassle', 'haste', 'hat', 'hate', 'hated', 'hates', 'hating', 'hatred', 'haunt', 'haunted', 'haunting', 'haute', 'havent', 'havoc', 'hawaii', 'hayes', 'haywire', 'haze', 'hazed', 'hazelden', 'hazy', 'hdl', 'head', 'headache', 'headaches', 'headachesdamn', 'headed', 'heading', 'headlights', 'heads', 'headspace', 'heal', 'healed', 'healing', 'health', 'healthcare', 'healthi', 'healthier', 'healthiest', 'healthily', 'healthy', 'hear', 'heard', 'hearing', 'heart', 'heartache', 'heartbreaks', 'heartburn', 'heartedly', 'heartfelt', 'hearts', 'hearty', 'heat', 'heath', 'heati', 'heating', 'heaven', 'heavenly', 'heavier', 'heaviest', 'heavily', 'heaviness', 'heaving', 'heavy', 'heck', 'hectic', 'heeeeeelp', 'heels', 'hefty', 'height', 'heineken', 'heiny', 'heinz', 'held', 'helena', 'helicoptered', 'hell', 'hellacious', 'hello', 'help', 'helped', 'helpful', 'helpi', 'helping', 'helpless', 'helps', 'helpsmallbusiness', 'hemiplegic', 'hemoglobin', 'hemorrhoid', 'herb', 'herbs', 'herea', 'herehi', 'herei', 'hereputting', 'heres', 'herman', 'hermit', 'heroes', 'heroin', 'hes', 'hesitant', 'hesitate', 'hesitating', 'hey', 'heyo', 'heyyyy', 'hgb', 'hi', 'hibiscus', 'hiccups', 'hid', 'hidden', 'hide', 'hiding', 'high', 'higher', 'highest', 'highlight', 'highlights', 'highly', 'highs', 'hiit', 'hike', 'hiked', 'hikes', 'hiking', 'hilarious', 'hill', 'hills', 'himalayan', 'hindsight', 'hip', 'hippie', 'hips', 'hire', 'hired', 'hispanic', 'history', 'hit', 'hits', 'hitting', 'hmmmm', 'hoarders', 'hobbies', 'hobby', 'hockey', 'hoing', 'hold', 'holding', 'holds', 'hole', 'holed', 'holiday', 'holidays', 'hollow', 'holly', 'holy', 'home', 'homecook', 'homeless', 'homemade', 'homes', 'homeschooling', 'homies', 'honest', 'honestly', 'honesty', 'honey', 'honeymoon', 'honking', 'honor', 'honored', 'honour', 'hoo', 'hoodwinked', 'hook', 'hooked', 'hooky', 'hoops', 'hooray', 'hop', 'hope', 'hoped', 'hopeful', 'hopefully', 'hopeless', 'hopelessness', 'hopes', 'hoping', 'hopped', 'hops', 'horizon', 'horizontal', 'hormone', 'hormones', 'horn', 'horrendous', 'horrendously', 'horrible', 'horribly', 'horrific', 'horrified', 'horrify', 'horror', 'horse', 'horseman', 'horses', 'hose', 'hospital', 'hospitalied', 'hospitalization', 'hospitalized', 'host', 'hostile', 'hostility', 'hosting', 'hosts', 'hot', 'hotdogs', 'hotel', 'hotelrecently', 'hotels', 'hotline', 'hound', 'hour', 'hours', 'hoursfew', 'hoursover', 'house', 'household', 'housekeeper', 'housekeeping', 'housemates', 'houses', 'housework', 'hover', 'hovering', 'however', 'howi', 'hr', 'hrs', 'hs', 'htp', 'hubby', 'hug', 'huge', 'hugely', 'huh', 'hum', 'human', 'humanity', 'humanly', 'humans', 'humiliated', 'humiliating', 'humility', 'humor', 'hump', 'hunch', 'hundo', 'hundred', 'hundreds', 'hung', 'hunger', 'hungerday', 'hungover', 'hungrier', 'hungry', 'hunt', 'hunter', 'hunting', 'huntingtons', 'hurdles', 'hurry', 'hurt', 'hurtful', 'hurting', 'hurts', 'hurtstown', 'husband', 'husbands', 'husk', 'hydrate', 'hydrated', 'hydrating', 'hydration', 'hygiene', 'hyper', 'hypertension', 'hyperthyroid', 'hyperventilating', 'hypnotism', 'hypocritical', 'hypoglycemia', 'hypothetically', 'hysterectomy', 'ianuary', 'ibs', 'ice', 'iceberg', 'iced', 'icing', 'icu', 'id', 'idea', 'ideal', 'ideally', 'ideas', 'ideasso', 'ideation', 'ideations', 'idek', 'identical', 'identifiable', 'identifies', 'identify', 'identity', 'idiot', 'idiotic', 'idk', 'idol', 'idols', 'ids', 'iffy', 'igniting', 'ignorance', 'ignore', 'ignored', 'ignoring', 'ii', 'iih', 'ik', 'ill', 'illegal', 'illeostomy', 'illness', 'illusion', 'illustrate', 'illustrates', 'im', 'images', 'imagine', 'imagined', 'imagining', 'imbalance', 'imbalances', 'imbelished', 'imitation', 'imma', 'immediate', 'immediately', 'immense', 'immensely', 'immune', 'imo', 'imodium', 'impact', 'impactful', 'impacting', 'impacts', 'impaired', 'impatience', 'impatient', 'imperfect', 'imperfection', 'implant', 'implanted', 'implementing', 'implications', 'important', 'importantly', 'imposed', 'impossible', 'imposter', 'impressed', 'impression', 'impressive', 'imprisoned', 'improve', 'improved', 'improvement', 'improvements', 'improves', 'improving', 'impulse', 'impulsive', 'impulsivity', 'imputing', 'inability', 'inaccuracy', 'inappropriate', 'incapable', 'incase', 'inch', 'inches', 'inching', 'incident', 'incidental', 'incidents', 'incline', 'inclined', 'include', 'included', 'includes', 'including', 'inclusive', 'incoherent', 'income', 'inconsistent', 'inconvenience', 'incorporate', 'incorporated', 'incorporating', 'incorrect', 'incorrectly', 'increase', 'increased', 'increases', 'increasing', 'increasingly', 'incredible', 'incredibly', 'incrementally', 'incurred', 'indeed', 'indefinite', 'indefinitely', 'independent', 'index', 'indian', 'indicated', 'indicating', 'indication', 'indicator', 'indicators', 'indigenous', 'indirect', 'individual', 'individuals', 'indoor', 'induced', 'inducing', 'induction', 'indulge', 'indulged', 'indulging', 'industry', 'inebriated', 'inebriation', 'inefficient', 'inevitable', 'inevitably', 'infant', 'infantryman', 'infect', 'infection', 'infectious', 'infidelity', 'infinite', 'inflamed', 'inflammation', 'inflammatory', 'inflated', 'inflating', 'inflict', 'influence', 'influencers', 'influx', 'info', 'inform', 'information', 'informations', 'informed', 'informs', 'infrequent', 'infusion', 'ing', 'ingesting', 'ingrained', 'ingredient', 'ingredients', 'inhalents', 'inherit', 'inhibitions', 'inhibitor', 'ini', 'initial', 'initially', 'initiate', 'initiative', 'inject', 'injecting', 'injections', 'injured', 'injuries', 'injury', 'inn', 'innate', 'inner', 'innocent', 'inpatient', 'inpatienti', 'input', 'inputs', 'inquire', 'inquiry', 'inquit', 'ins', 'insane', 'insanely', 'insanity', 'insecure', 'insensitivity', 'inseparable', 'inside', 'insidious', 'insight', 'insightful', 'insights', 'insightsi', 'insisted', 'insomnia', 'insomniaquit', 'inspiration', 'inspirational', 'inspire', 'inspired', 'inspires', 'inspiring', 'instability', 'instagram', 'installed', 'instance', 'instant', 'instantly', 'instantpot', 'instead', 'instills', 'instinct', 'instructions', 'instructor', 'insufferable', 'insulin', 'insuline', 'insult', 'insurance', 'intake', 'intarweb', 'intend', 'intended', 'intense', 'intensely', 'intensified', 'intensity', 'intensive', 'intent', 'intention', 'intentional', 'intentions', 'interact', 'interacted', 'interaction', 'interactions', 'interest', 'interested', 'interesting', 'interests', 'interfere', 'interfering', 'interim', 'interject', 'interlock', 'intermittent', 'intermix', 'internal', 'internally', 'international', 'internet', 'interning', 'internment', 'internship', 'interpreted', 'interrogated', 'interrogation', 'interrupt', 'interrupting', 'interstellar', 'interval', 'intervals', 'interview', 'interviews', 'intimacy', 'intitiative', 'intolerable', 'intolerances', 'intolerant', 'intoxicated', 'intoxication', 'intraclass', 'intracranial', 'intro', 'introduce', 'introduced', 'introduction', 'introductory', 'introvert', 'introverted', 'intrusive', 'intubated', 'intuitively', 'inulin', 'invaluable', 'investments', 'investor', 'invincible', 'invite', 'invited', 'inviting', 'involve', 'involved', 'involves', 'involving', 'inweekends', 'iop', 'iow', 'ipa', 'ipas', 'ireland', 'irish', 'irl', 'iron', 'ironic', 'ironically', 'irrational', 'irregular', 'irreparable', 'irresponsible', 'irritability', 'irritable', 'irritate', 'irritated', 'irritating', 'irritation', 'ish', 'island', 'isnt', 'iso', 'isolate', 'isolated', 'isolation', 'isomalt', 'isotretinoinlast', 'issue', 'issues', 'issueshi', 'issuesi', 'issueso', 'italian', 'italy', 'itch', 'itching', 'itchy', 'item', 'items', 'iti', 'itll', 'itso', 'ittoday', 'iu', 'iv', 'ive', 'iwdwyt', 'iwnbdwyt', 'iwndwy', 'iwndwyt', 'iwndwytd', 'iwndwyti', 'iwndwytiwndwyt', 'iwndwytthat', 'iwndyt', 'jab', 'jack', 'jacket', 'jaded', 'jail', 'jailx', 'jalapeno', 'jalapenos', 'jan', 'january', 'jar', 'jargon', 'jarring', 'jasmine', 'jaundice', 'jaw', 'jays', 'je', 'jealous', 'jean', 'jeans', 'jeez', 'jerks', 'jerky', 'jet', 'jfc', 'jiddo', 'jiggly', 'jims', 'jitsu', 'jittery', 'jiu', 'joachim', 'job', 'jobit', 'jobs', 'joe', 'jog', 'jogging', 'jogs', 'john', 'join', 'joined', 'joining', 'joint', 'joints', 'joke', 'joked', 'jokes', 'joking', 'jokingly', 'jones', 'journal', 'journaling', 'journey', 'journeylong', 'journeys', 'journeysthis', 'joviality', 'joy', 'joyous', 'joysthere', 'judge', 'judgement', 'judgemental', 'judging', 'judgment', 'judgmental', 'judgy', 'juice', 'juicy', 'juju', 'jules', 'julio', 'july', 'jump', 'jumped', 'jumping', 'jumpstart', 'jun', 'june', 'junior', 'junk', 'junkie', 'junky', 'junmai', 'jus', 'justice', 'justifications', 'justified', 'justify', 'justifying', 'kale', 'karaoke', 'karma', 'katherine', 'kc', 'kcal', 'kcko', 'kebab', 'keen', 'keenly', 'keep', 'keeping', 'keeps', 'kegger', 'kens', 'kept', 'keri', 'kerrygold', 'ketamine', 'ketchup', 'ketoacidosis', 'ketoade', 'ketoafter', 'ketoaid', 'ketoaide', 'ketoback', 'ketochow', 'ketoers', 'ketogains', 'ketogenises', 'ketohey', 'ketohi', 'ketoi', 'ketomy', 'ketone', 'ketones', 'ketoon', 'ketosis', 'ketoso', 'ketostarted', 'ketoversary', 'ketoversarythe', 'kettles', 'kevin', 'kewl', 'key', 'keychains', 'kg', 'kgs', 'kgsi', 'kick', 'kickass', 'kicked', 'kicking', 'kicks', 'kid', 'kidding', 'kiddos', 'kidney', 'kidneys', 'kids', 'kilgore', 'kill', 'killa', 'killed', 'killing', 'kilograms', 'kilos', 'kilter', 'kimchee', 'kind', 'kinda', 'kindergarden', 'kindly', 'kindness', 'kinds', 'king', 'kinks', 'kirkland', 'kiss', 'kit', 'kitchen', 'kitchens', 'kite', 'kits', 'kitsi', 'kitty', 'klinio', 'km', 'knead', 'knee', 'knees', 'knew', 'knife', 'knock', 'knocked', 'knot', 'know', 'knowing', 'knowledge', 'known', 'knows', 'knuckle', 'knuckles', 'kombucha', 'kombuchafor', 'koolaid', 'korelitz', 'krill', 'kroger', 'kudos', 'kurt', 'la', 'lab', 'label', 'labelled', 'labels', 'labs', 'lack', 'lacking', 'lackluster', 'lactated', 'lactose', 'lad', 'laden', 'ladies', 'lady', 'lag', 'lager', 'laid', 'lake', 'lamb', 'lament', 'lamenting', 'landed', 'landlord', 'landmines', 'lands', 'landscaping', 'lane', 'language', 'lap', 'laparoscopic', 'laps', 'lapse', 'lapsed', 'laptop', 'lard', 'large', 'largely', 'larger', 'largish', 'lasagna', 'lasagnamade', 'lasagnas', 'lashing', 'last', 'lasted', 'lasting', 'lasts', 'late', 'lately', 'latelyi', 'later', 'latest', 'latter', 'lattes', 'laugh', 'laughed', 'laughing', 'laughter', 'launching', 'laundry', 'law', 'lawn', 'laws', 'lawyer', 'laxing', 'lay', 'layers', 'laying', 'laziness', 'lazy', 'lb', 'lbi', 'lbs', 'lbscw', 'lbsgw', 'lbsi', 'lbssw', 'lc', 'ldl', 'le', 'lead', 'leadership', 'leading', 'leads', 'leafy', 'leak', 'leaky', 'lean', 'leaned', 'leap', 'learn', 'learned', 'learning', 'learnings', 'learnt', 'least', 'leave', 'leaves', 'leaving', 'lecture', 'led', 'ledge', 'left', 'leftover', 'leftovers', 'leg', 'legal', 'legit', 'legitimately', 'legs', 'lemme', 'lemon', 'lemonade', 'lend', 'length', 'lengthy', 'lenses', 'les', 'less', 'lessened', 'lesser', 'lesson', 'lessons', 'lessonthe', 'let', 'lethargic', 'lethargy', 'lets', 'lettice', 'letting', 'lettuce', 'leu', 'level', 'levels', 'levelsi', 'levers', 'liberating', 'library', 'librium', 'license', 'licensed', 'lichen', 'lie', 'lied', 'lies', 'life', 'lifedeep', 'lifei', 'lifelong', 'lifesaver', 'lifeso', 'lifestyle', 'lifestyles', 'lifetime', 'lift', 'lifted', 'lifter', 'lifting', 'lifts', 'light', 'lighten', 'lighter', 'lightest', 'lightheadedness', 'lightish', 'lightly', 'lights', 'likable', 'like', 'liked', 'likely', 'likes', 'liking', 'lil', 'lily', 'limbs', 'lime', 'limit', 'limitations', 'limited', 'limiting', 'limitless', 'limits', 'limoncello', 'limping', 'lindt', 'line', 'linear', 'lined', 'liners', 'lines', 'linger', 'linguine', 'lining', 'link', 'linked', 'links', 'lip', 'liquid', 'liquids', 'liquidy', 'liquor', 'liquors', 'list', 'listed', 'listen', 'listened', 'listening', 'listing', 'lists', 'lit', 'lite', 'liter', 'literal', 'literally', 'literary', 'literes', 'liters', 'lithe', 'litre', 'litres', 'litter', 'litteraly', 'little', 'live', 'lived', 'liver', 'livers', 'lives', 'living', 'lizard', 'lmao', 'lo', 'load', 'loaded', 'loading', 'loads', 'loaf', 'loan', 'loathed', 'loathing', 'loaves', 'local', 'location', 'locations', 'lock', 'lockdown', 'lockdowns', 'locked', 'lockup', 'log', 'logic', 'logical', 'logistics', 'logs', 'lol', 'lolhad', 'lolmy', 'loneliness', 'lonely', 'long', 'longer', 'longest', 'longso', 'longterm', 'longtime', 'look', 'looked', 'looking', 'looks', 'loooong', 'loop', 'loophole', 'loose', 'loosely', 'loosened', 'looser', 'loosing', 'lord', 'lose', 'loser', 'losers', 'loses', 'losing', 'losingi', 'loss', 'losses', 'losshas', 'losshi', 'lossi', 'lost', 'losti', 'lot', 'lots', 'lotta', 'loud', 'loudly', 'lousy', 'love', 'loved', 'lovely', 'lover', 'lovers', 'loves', 'loving', 'lovingly', 'low', 'lower', 'lowered', 'lowering', 'loweriny', 'lowers', 'lowest', 'lows', 'loyal', 'lozenge', 'lt', 'ltrs', 'lucid', 'luck', 'luckiest', 'luckily', 'lucky', 'lump', 'lumped', 'luna', 'lunch', 'lunches', 'lung', 'lupin', 'lurk', 'lurked', 'lurker', 'lurkers', 'lurking', 'ly', 'lychee', 'lying', 'lymph', 'maaybe', 'macadamia', 'macbeen', 'macbook', 'maccie', 'machete', 'machine', 'macro', 'macrohi', 'macros', 'macroshello', 'macrosi', 'mad', 'maddening', 'made', 'mag', 'magic', 'magical', 'magically', 'magnesium', 'magnitude', 'maid', 'mail', 'mailing', 'main', 'mainland', 'mainly', 'maintain', 'maintained', 'maintaining', 'maintaned', 'maintenance', 'major', 'majority', 'majorityof', 'make', 'maker', 'makes', 'making', 'makings', 'mal', 'male', 'males', 'malfunctioning', 'malitol', 'mall', 'malnutrition', 'malt', 'maltodextrin', 'mama', 'man', 'manage', 'manageable', 'managed', 'manager', 'manageranyone', 'managers', 'managing', 'manatees', 'mangesium', 'mangoes', 'mania', 'manic', 'manicshoutout', 'manifest', 'manifested', 'manipulated', 'manipulation', 'manipulative', 'mantra', 'many', 'maple', 'maraschino', 'marathon', 'march', 'margin', 'maria', 'mariachi', 'marijuana', 'marinade', 'marinades', 'marinate', 'marinated', 'marine', 'mark', 'marked', 'markedly', 'marker', 'markeri', 'markers', 'markersi', 'market', 'marketing', 'markets', 'marks', 'marlboro', 'marmalade', 'marriage', 'married', 'marry', 'mart', 'marvelous', 'mary', 'mashed', 'mask', 'masks', 'mass', 'massive', 'massively', 'master', 'masturbating', 'match', 'matches', 'mate', 'material', 'mates', 'math', 'matrix', 'matt', 'matteo', 'matter', 'matters', 'mattress', 'mature', 'matured', 'max', 'maxed', 'may', 'maybe', 'maybeday', 'maybes', 'mayo', 'mba', 'mcdonald', 'mcdonalds', 'mcgregor', 'mct', 'meal', 'mealdo', 'meals', 'mealso', 'mean', 'meand', 'meaning', 'meaningful', 'meaningless', 'means', 'meant', 'meantime', 'measly', 'measure', 'measurement', 'measurements', 'measures', 'measuring', 'meat', 'meatloaf', 'meats', 'meby', 'mecan', 'mechanically', 'mechanism', 'mechanisms', 'med', 'medal', 'meday', 'media', 'medias', 'mediates', 'medical', 'medically', 'medicated', 'medicates', 'medicating', 'medicatingstop', 'medication', 'medications', 'medicial', 'medicinal', 'medicine', 'medicines', 'medifast', 'meditate', 'meditated', 'meditating', 'meditation', 'meditations', 'mediterranean', 'medium', 'meds', 'meeee', 'meet', 'meeting', 'meetings', 'meetingsi', 'meetingwent', 'meetup', 'mefor', 'mega', 'meh', 'mehello', 'mehey', 'mehi', 'mei', 'mejust', 'melancholia', 'melatonin', 'melt', 'meltdown', 'meltdowns', 'melted', 'member', 'members', 'membership', 'meme', 'memorable', 'memorial', 'memories', 'memory', 'memy', 'men', 'menand', 'menaq', 'menstruated', 'mensuration', 'mental', 'mentality', 'mentally', 'mention', 'mentioned', 'mentioning', 'mentions', 'mentor', 'menu', 'menus', 'merci', 'merciless', 'mercola', 'mercy', 'mere', 'merely', 'merica', 'merit', 'merited', 'merlot', 'merriment', 'mess', 'message', 'messaged', 'messages', 'messed', 'messenger', 'messes', 'messing', 'messy', 'met', 'metabolism', 'metaphorical', 'meter', 'meters', 'metformin', 'meth', 'methamphetamine', 'method', 'methods', 'metoday', 'metre', 'metres', 'metric', 'mex', 'mexican', 'mexico', 'mf', 'mfer', 'mfp', 'mfs', 'mg', 'miami', 'micro', 'microwave', 'mid', 'middle', 'midnight', 'midst', 'might', 'mighty', 'migraine', 'migraines', 'mil', 'mild', 'mildly', 'mile', 'mileage', 'miles', 'milestone', 'milestones', 'military', 'milk', 'milks', 'milkshakes', 'milkthe', 'millie', 'million', 'millioni', 'millionth', 'mimosa', 'min', 'mind', 'minded', 'mindfully', 'mindfulness', 'mindless', 'mindlesshey', 'mindlessly', 'minds', 'mindset', 'mine', 'mineral', 'minerals', 'mineralshi', 'mini', 'minimal', 'minimize', 'minimum', 'minor', 'minority', 'mins', 'mint', 'minus', 'minute', 'minutes', 'mio', 'miracle', 'miracles', 'miraculous', 'mirror', 'mirrors', 'misc', 'miserable', 'miserablei', 'miserably', 'misery', 'misguided', 'mishap', 'misinformed', 'misjudged', 'miss', 'missed', 'missing', 'mission', 'missouri', 'misspelling', 'missteps', 'mistake', 'mistaken', 'mistakenly', 'mistakes', 'mistakeshello', 'misunderstood', 'misusing', 'mix', 'mixed', 'mixer', 'mixers', 'mixes', 'mixing', 'mixture', 'mk', 'ml', 'mmol', 'moans', 'mob', 'mobile', 'mobs', 'mock', 'mocked', 'mocktails', 'mod', 'mode', 'modehello', 'model', 'models', 'moderate', 'moderately', 'moderating', 'moderation', 'modern', 'modest', 'modified', 'modify', 'mods', 'mojitos', 'mojo', 'molded', 'moldy', 'molecule', 'molly', 'mom', 'moment', 'momentarily', 'moments', 'momentum', 'moms', 'mon', 'monday', 'mondays', 'money', 'monitor', 'monitored', 'monitoring', 'monk', 'monkey', 'monkfruit', 'monologue', 'monster', 'monstrous', 'montana', 'month', 'monthi', 'monthly', 'months', 'monthsi', 'monthsme', 'monthssober', 'mood', 'moods', 'moody', 'moodyhey', 'moon', 'moonshine', 'moot', 'moral', 'morbidly', 'moreso', 'morgue', 'morn', 'morning', 'morninginstead', 'mornings', 'moron', 'morphed', 'morphine', 'mortgage', 'moses', 'mostly', 'motel', 'mother', 'motherfracking', 'motherfucking', 'motion', 'motions', 'motivate', 'motivated', 'motivatedi', 'motivates', 'motivating', 'motivation', 'motivational', 'motivationi', 'motivator', 'motor', 'motorcycle', 'motrin', 'mountain', 'mountains', 'mourn', 'mourned', 'mouth', 'mouthwash', 'move', 'moved', 'movement', 'movements', 'moves', 'movie', 'movies', 'moving', 'mowed', 'mower', 'mows', 'mozz', 'mozzarella', 'mozzerella', 'ms', 'msn', 'much', 'muffled', 'mug', 'mulch', 'multi', 'multiple', 'multiples', 'multivitamin', 'mum', 'mumbled', 'mummy', 'munch', 'munchies', 'muscle', 'muscles', 'muscular', 'museum', 'mushroom', 'mushrooms', 'music', 'musician', 'musings', 'must', 'mustard', 'muster', 'mute', 'muted', 'mydiabetes', 'myfitnesspal', 'myselfday', 'myselfhad', 'myselfliterally', 'myselfstrange', 'mystery', 'na', 'nac', 'nachos', 'nads', 'nagging', 'nah', 'nail', 'nailing', 'nails', 'naive', 'naively', 'naked', 'naltrex', 'naltrexone', 'naltrexonecontemplating', 'naltrexonestress', 'name', 'nandos', 'nap', 'napping', 'naproxen', 'naps', 'narcotics', 'narrative', 'narrow', 'nasty', 'national', 'nationwide', 'native', 'natty', 'natural', 'naturally', 'nature', 'naughty', 'nausea', 'nauseous', 'navigate', 'navy', 'nazis', 'nd', 'ndri', 'near', 'nearest', 'nearing', 'nearly', 'neat', 'necessarily', 'necessary', 'neck', 'need', 'needed', 'neededtoday', 'needing', 'needless', 'needs', 'negative', 'negatively', 'negatives', 'neglect', 'neglected', 'neglecting', 'neglects', 'negotiations', 'neighbor', 'neighborhood', 'neighbors', 'neighbour', 'neither', 'nerding', 'nerds', 'nerdy', 'nerve', 'nerves', 'nervous', 'nescaf', 'nessasarly', 'nessecarily', 'net', 'netflix', 'netrition', 'netting', 'neuroinflammation', 'neurological', 'neurologist', 'neuropathy', 'never', 'nevertheless', 'new', 'newb', 'newbie', 'newbies', 'newcomers', 'newer', 'newest', 'newi', 'newly', 'news', 'next', 'nhl', 'nice', 'nicely', 'nicer', 'nicotine', 'niece', 'nifty', 'night', 'nightclubs', 'nighter', 'nightjust', 'nightlife', 'nightlifei', 'nightlong', 'nightly', 'nightmare', 'nightmares', 'nights', 'nightstand', 'nighttitle', 'nighttonight', 'nih', 'nine', 'nobles', 'nobody', 'nodding', 'node', 'noise', 'non', 'none', 'nonperishable', 'nonsense', 'nonstop', 'noob', 'noodles', 'noom', 'noon', 'nope', 'norco', 'norepidephrine', 'norm', 'normal', 'normalcy', 'normalisation', 'normalize', 'normalized', 'normalizing', 'normally', 'northeast', 'nosalt', 'nose', 'nostalgic', 'notches', 'note', 'noted', 'notes', 'noteworthy', 'nothing', 'nothings', 'notice', 'noticeable', 'noticeably', 'noticed', 'noticewell', 'noticing', 'notification', 'notify', 'notion', 'nourishes', 'nova', 'novel', 'november', 'novice', 'nowadays', 'nowhere', 'nowthis', 'nozeco', 'nsv', 'nsvi', 'nsvoctober', 'nuance', 'nugget', 'nuke', 'null', 'numb', 'number', 'numbering', 'numbers', 'numbershow', 'numbing', 'numbness', 'numerous', 'nurse', 'nursing', 'nut', 'nutmeg', 'nutrients', 'nutrition', 'nutritional', 'nutritionally', 'nutritionist', 'nutritionists', 'nuts', 'nutshell', 'nutts', 'nuun', 'nyc', 'nye', 'oat', 'oatmeal', 'oats', 'obese', 'obeseit', 'obesessive', 'obesity', 'objected', 'objective', 'objectively', 'obligated', 'obligations', 'obligatory', 'obliterated', 'oblivion', 'obnoxious', 'obscene', 'observationi', 'observations', 'observe', 'observed', 'observer', 'observing', 'obsess', 'obsessed', 'obsessing', 'obsession', 'obsessive', 'obsessively', 'obstacle', 'obtain', 'obtainable', 'obvious', 'obviously', 'occasion', 'occasional', 'occasionally', 'occasions', 'occupied', 'occupy', 'occur', 'occurred', 'occurrence', 'occurrences', 'occurring', 'occurs', 'ocd', 'ocean', 'octane', 'october', 'odd', 'oddly', 'odt', 'ofc', 'ofcourse', 'offended', 'offensive', 'offer', 'offered', 'offering', 'offers', 'offhello', 'office', 'official', 'officially', 'often', 'oh', 'ohhh', 'oi', 'oil', 'oilbear', 'oiled', 'oils', 'ok', 'okay', 'ol', 'old', 'older', 'olive', 'olives', 'omad', 'omega', 'omegas', 'omelette', 'omeprazole', 'omfg', 'omg', 'omlettes', 'ondansetron', 'one', 'onealcohol', 'onei', 'onemy', 'ones', 'oneso', 'ongoing', 'ongoingtomorrow', 'onion', 'onions', 'online', 'ontario', 'onto', 'onward', 'oo', 'oodles', 'oof', 'open', 'opened', 'opener', 'openerlast', 'opening', 'openly', 'opens', 'operation', 'opiate', 'opiates', 'opinion', 'opinionated', 'opinions', 'opioid', 'opioids', 'opportunities', 'opportunity', 'opposed', 'opposing', 'opposite', 'opt', 'optavia', 'opted', 'optifast', 'optimal', 'optimistic', 'opting', 'option', 'options', 'oral', 'orange', 'oranges', 'orangetheory', 'ordeal', 'order', 'ordered', 'ordering', 'ordinary', 'oregon', 'organ', 'organic', 'organisation', 'organise', 'organize', 'organized', 'organizing', 'organs', 'orientation', 'oriented', 'original', 'originally', 'osama', 'ostomates', 'others', 'otherwise', 'ouch', 'ounces', 'ourself', 'ourselvestwo', 'outbreak', 'outcomes', 'outdoor', 'outdoors', 'outdoorsmen', 'outgoing', 'outi', 'outing', 'outings', 'outlawed', 'outlet', 'outlets', 'outlong', 'outlook', 'outpatient', 'outright', 'outs', 'outside', 'outsiders', 'outskirts', 'outta', 'outward', 'outwardly', 'outweigh', 'outweighs', 'oven', 'ovens', 'overactive', 'overal', 'overall', 'overboard', 'overcame', 'overcome', 'overconfident', 'overdid', 'overdo', 'overdoing', 'overdose', 'overdosed', 'overdrive', 'overeat', 'overeating', 'overgotta', 'overheard', 'overhey', 'overhi', 'overindulge', 'overlap', 'overlast', 'overload', 'overly', 'overmy', 'overnight', 'overpowered', 'overpowers', 'overpriced', 'overreacting', 'override', 'overseas', 'oversleep', 'overspending', 'overstimulated', 'overt', 'overtake', 'overthinker', 'overthinking', 'overtime', 'overuse', 'overweight', 'overweighttoday', 'overwhelm', 'overwhelmed', 'overwhelming', 'ovulation', 'owe', 'owed', 'owning', 'ox', 'oxalite', 'oxalitehi', 'oxalites', 'oxide', 'oxygen', 'oyster', 'oz', 'pace', 'pacing', 'pack', 'package', 'packaged', 'packaging', 'packed', 'packet', 'packets', 'packing', 'packs', 'pad', 'paddle', 'pads', 'page', 'paid', 'pain', 'painful', 'paini', 'pains', 'paint', 'painting', 'pair', 'paired', 'pal', 'palatable', 'pale', 'paleo', 'palliative', 'palm', 'palpitations', 'pan', 'pancake', 'pancakes', 'pancreas', 'pancreatic', 'pancreatitis', 'panda', 'pandemic', 'pandemictoday', 'pandy', 'panel', 'pangs', 'panic', 'panicked', 'panicking', 'panicky', 'pant', 'panties', 'pantry', 'pants', 'paper', 'papers', 'paperwork', 'paprika', 'paradox', 'paradoxical', 'paralysed', 'paralysis', 'paralyzed', 'parameters', 'paranoia', 'paranoid', 'parchment', 'parent', 'parents', 'park', 'parked', 'parking', 'parks', 'parmesan', 'parotid', 'part', 'partake', 'partial', 'partially', 'participant', 'participants', 'participate', 'participated', 'particular', 'particularly', 'particulars', 'partied', 'parties', 'parting', 'partly', 'partner', 'parts', 'partway', 'party', 'partycongrats', 'partyi', 'partying', 'partymy', 'pass', 'passage', 'passed', 'passedtoday', 'passes', 'passing', 'passive', 'password', 'past', 'pasta', 'paste', 'pastime', 'pasting', 'pastry', 'pat', 'patch', 'patches', 'path', 'pathetic', 'paths', 'patience', 'patient', 'patio', 'patios', 'pattern', 'patterns', 'patties', 'patty', 'paula', 'pause', 'paused', 'pauses', 'pausing', 'pavement', 'pawning', 'paws', 'pay', 'paychecks', 'payday', 'paydays', 'paying', 'payoff', 'pbfit', 'pcos', 'pds', 'pea', 'peace', 'peaceful', 'peach', 'peak', 'peaking', 'peanut', 'peanutbutter', 'peanuts', 'peas', 'pecan', 'pecans', 'peculiar', 'pedialyte', 'pee', 'peeing', 'peel', 'peels', 'peeps', 'peer', 'peers', 'peeved', 'peloton', 'pendulum', 'pens', 'pension', 'pent', 'people', 'pep', 'pepper', 'pepperoni', 'pepperonis', 'peppers', 'pepsi', 'pepto', 'per', 'perceive', 'perceived', 'percent', 'percentage', 'percentages', 'perception', 'perceptive', 'percocets', 'perfect', 'perfectly', 'perform', 'performance', 'performed', 'perfume', 'perhaps', 'period', 'periodic', 'periodically', 'periods', 'periodsi', 'perks', 'perma', 'permanent', 'permanently', 'permanentlyi', 'permeate', 'permenantly', 'permission', 'permit', 'perpetrators', 'perpetuate', 'perpetuating', 'persevered', 'persist', 'persistent', 'person', 'personal', 'personality', 'personalityit', 'personalized', 'personally', 'personbirthdays', 'persons', 'perspective', 'perspectives', 'persuaded', 'persuasive', 'pertaining', 'pervasive', 'pescatariani', 'peter', 'petrol', 'pets', 'pfizers', 'pharma', 'pharmacy', 'phase', 'phases', 'phenomenon', 'philly', 'philosophy', 'phobia', 'phoenix', 'phone', 'phoned', 'photo', 'photography', 'photos', 'phrase', 'phrases', 'physical', 'physically', 'physician', 'physiological', 'physique', 'phytosome', 'pic', 'pick', 'picked', 'picking', 'pickle', 'pickles', 'picky', 'pics', 'picture', 'pictures', 'picturing', 'pie', 'piece', 'pieces', 'pies', 'pig', 'pigged', 'pile', 'piled', 'piles', 'piling', 'pill', 'pillhi', 'pillow', 'pills', 'pilot', 'pilots', 'pin', 'pinball', 'pinch', 'pinched', 'pineapple', 'piney', 'pink', 'pinned', 'pinot', 'pinpoint', 'pint', 'pints', 'pioneer', 'pirates', 'piss', 'pissed', 'pisses', 'pissy', 'pit', 'pitiful', 'pitty', 'pity', 'pivotal', 'pizza', 'pizzai', 'pizzas', 'place', 'placebo', 'placed', 'places', 'plagued', 'plain', 'plainly', 'plan', 'plane', 'planet', 'planing', 'planned', 'planner', 'planning', 'plans', 'plansomebody', 'plant', 'planting', 'plants', 'plastered', 'plastic', 'plate', 'plateau', 'plateaued', 'plateauing', 'plateaus', 'plateauso', 'plateuing', 'play', 'played', 'player', 'playing', 'playlist', 'playoffs', 'plays', 'pleading', 'pleasant', 'pleasantly', 'please', 'pleased', 'pleasehi', 'pleasei', 'pleaser', 'pleasure', 'pleasures', 'pled', 'pledge', 'pledges', 'pledging', 'plentiful', 'plenty', 'plethora', 'plight', 'plot', 'plumbing', 'plummeted', 'plums', 'plunge', 'plus', 'pm', 'poblano', 'pocket', 'pockets', 'podcast', 'podcasts', 'podcastshi', 'poignant', 'point', 'pointed', 'pointers', 'pointing', 'pointless', 'points', 'poison', 'poisoned', 'poisoning', 'poisonous', 'poke', 'poker', 'poland', 'polar', 'police', 'polished', 'polite', 'politely', 'politics', 'polyols', 'ponse', 'pontzer', 'pool', 'poop', 'pooped', 'pooper', 'poops', 'poopso', 'poor', 'poorly', 'pop', 'popcorn', 'popped', 'popping', 'pops', 'popular', 'popularity', 'porch', 'pore', 'pork', 'porn', 'portable', 'porthole', 'portion', 'portions', 'portionsjust', 'portrait', 'portugal', 'pos', 'pose', 'position', 'positive', 'positives', 'positivity', 'possibilities', 'possibility', 'possible', 'possibly', 'post', 'postacute', 'posted', 'poster', 'posters', 'postgreetings', 'posting', 'postponed', 'posts', 'postso', 'pot', 'potassium', 'potato', 'potatoes', 'potent', 'potential', 'potentially', 'potty', 'pouch', 'pound', 'pounding', 'pounds', 'pour', 'poured', 'pouring', 'pout', 'pov', 'powder', 'powdered', 'power', 'powered', 'powerful', 'powerfully', 'powerhouse', 'powerless', 'powerlifter', 'ppe', 'ppgood', 'ppl', 'pple', 'pr', 'practical', 'practically', 'practice', 'practiced', 'practicing', 'praise', 'pray', 'prayer', 'prayers', 'praying', 'pre', 'preach', 'preacher', 'precede', 'precious', 'preconceptions', 'predatory', 'prediabetic', 'prediabeticsi', 'predisposition', 'preface', 'prefer', 'preferably', 'preference', 'preferences', 'preferred', 'pregnancy', 'pregnant', 'premature', 'premium', 'premix', 'preoccupations', 'prep', 'prepackaged', 'prepare', 'prepared', 'preparing', 'prepped', 'prepping', 'preprepared', 'prescribe', 'prescribed', 'prescription', 'prescriptions', 'presence', 'present', 'presentation', 'presently', 'preserve', 'press', 'pressed', 'pressing', 'pressure', 'pressured', 'pressurehas', 'pressuring', 'prestigious', 'pretend', 'pretended', 'pretending', 'pretty', 'prevalent', 'prevent', 'prevented', 'preventing', 'prevention', 'prevents', 'previous', 'previously', 'preying', 'price', 'pricier', 'prick', 'prickly', 'pride', 'prilosec', 'primarily', 'primary', 'prime', 'primitive', 'principle', 'prior', 'priorities', 'priority', 'private', 'pro', 'probably', 'probablyat', 'probation', 'probiotic', 'problem', 'problematic', 'problemhello', 'problemi', 'problems', 'proc', 'procedures', 'proceed', 'proceeded', 'proceeds', 'process', 'processed', 'processing', 'processors', 'procrastinated', 'proctitis', 'produce', 'produces', 'producing', 'product', 'productive', 'productivity', 'products', 'profession', 'professional', 'professionals', 'profile', 'profits', 'profound', 'profoundly', 'profusely', 'program', 'programming', 'programs', 'progress', 'progressed', 'progressi', 'progression', 'progressive', 'progressively', 'prohibition', 'project', 'projected', 'projection', 'projections', 'projects', 'prologue', 'prolonged', 'prom', 'promise', 'promised', 'promises', 'promising', 'promissing', 'promoted', 'promotion', 'promptly', 'prone', 'pronounced', 'proof', 'proper', 'properly', 'properties', 'property', 'proplem', 'proponent', 'proposed', 'propranolol', 'pros', 'protect', 'protective', 'protein', 'proteinpre', 'proteins', 'protocol', 'protocols', 'protruding', 'proud', 'proudhi', 'prove', 'proved', 'proven', 'provide', 'provided', 'providing', 'provincial', 'proving', 'proxy', 'prozac', 'pruning', 'ps', 'psa', 'psoriatic', 'psych', 'psychedelic', 'psychedelics', 'psychiatric', 'psychiatrist', 'psychiatry', 'psychic', 'psychological', 'psychologically', 'psychosis', 'psychotic', 'psychotics', 'psyllium', 'pt', 'ptsd', 'pub', 'public', 'publicly', 'publishers', 'publishing', 'publix', 'pubs', 'puddings', 'puffy', 'puke', 'puked', 'puking', 'pull', 'pulled', 'pulling', 'pulls', 'pulse', 'pumped', 'pumpkin', 'pumps', 'punching', 'punchline', 'punish', 'punished', 'punishment', 'puppy', 'purchase', 'purchased', 'pure', 'puree', 'purely', 'purgatory', 'purge', 'purine', 'purists', 'purple', 'purpose', 'purposefully', 'purposes', 'purse', 'pursue', 'pursuing', 'push', 'pushed', 'pusher', 'pushes', 'pushier', 'pushing', 'pushy', 'pussies', 'put', 'putridness', 'puts', 'putting', 'puzzle', 'puzzled', 'quality', 'qualms', 'quantities', 'quantity', 'quarantene', 'quarantine', 'quarter', 'quasi', 'que', 'queasy', 'queen', 'quell', 'quercetin', 'quest', 'question', 'questiona', 'questioned', 'questioning', 'questions', 'questionsbackground', 'questionsfor', 'questionsi', 'queue', 'quick', 'quicker', 'quickly', 'quiet', 'quietly', 'quinoa', 'quit', 'quite', 'quitting', 'quittingmy', 'quizzing', 'quo', 'quoi', 'quote', 'quotes', 'rabbit', 'race', 'racial', 'racing', 'rack', 'racked', 'rad', 'radar', 'radiating', 'radiation', 'radio', 'radish', 'radishes', 'rage', 'ragged', 'raging', 'rags', 'rail', 'railing', 'rails', 'rain', 'rainbows', 'rainy', 'raise', 'raised', 'raises', 'raisin', 'raising', 'raisins', 'ramble', 'rambles', 'rambling', 'ramen', 'rammed', 'ramp', 'ramped', 'ramping', 'ramsey', 'ran', 'ranch', 'random', 'randomly', 'range', 'rank', 'rant', 'ranti', 'ranting', 'ranty', 'rao', 'raped', 'raphael', 'rapid', 'rare', 'rarely', 'rash', 'rashers', 'raspberries', 'rate', 'rated', 'rates', 'rather', 'rating', 'ratio', 'rational', 'rationalisation', 'rationalizations', 'rationalize', 'rationalizing', 'ratios', 'rats', 'rave', 'ravenous', 'raw', 'rbt', 'rd', 'rda', 'rdas', 'rds', 'reach', 'reached', 'reaching', 'react', 'reacted', 'reaction', 'reactionsi', 'read', 'reader', 'readers', 'reading', 'readings', 'readmit', 'ready', 'reaffirmed', 'real', 'realisation', 'realise', 'realised', 'realising', 'realistic', 'reality', 'realization', 'realizationfeeling', 'realize', 'realized', 'realizing', 'really', 'reallying', 'reared', 'rearing', 'reason', 'reasonable', 'reasonably', 'reasoning', 'reasons', 'reassess', 'reassurance', 'reassurancejust', 'rebel', 'reborn', 'rebound', 'rebounded', 'rebuilding', 'recalculate', 'recalibrates', 'recalibration', 'recall', 'recap', 'recapture', 'receive', 'received', 'receiving', 'recent', 'recently', 'recentlyhi', 'reception', 'receptors', 'recipe', 'recipes', 'recipeshusband', 'recipesi', 'reckon', 'reclaim', 'recluse', 'recognise', 'recognised', 'recognising', 'recognize', 'recognized', 'recognizes', 'recognizing', 'recollection', 'recommand', 'recommend', 'recommendation', 'recommendations', 'recommendationsok', 'recommended', 'recommending', 'recommitment', 'recommitted', 'recomp', 'reconcile', 'reconciled', 'reconnect', 'reconnected', 'record', 'recording', 'recover', 'recovering', 'recovery', 'recoveryi', 'recreationally', 'recurring', 'recyclable', 'recycling', 'red', 'reddit', 'redditnew', 'redditors', 'redirected', 'rediscovered', 'rediscovering', 'reduce', 'reduced', 'reduces', 'reducing', 'reduction', 'reeked', 'reeks', 'reeling', 'reels', 'reentered', 'reexamining', 'ref', 'reference', 'references', 'referral', 'referred', 'refers', 'refilled', 'refined', 'reflect', 'reflecting', 'reflection', 'reflective', 'reflux', 'refluxing', 'reframe', 'refreshed', 'refresher', 'refreshing', 'refrigerate', 'refrigerated', 'refrigeration', 'refrigerator', 'refuge', 'refuse', 'refused', 'regained', 'regard', 'regarding', 'regardless', 'regards', 'regime', 'regimen', 'regimens', 'regiment', 'region', 'register', 'registered', 'regresses', 'regressing', 'regret', 'regretful', 'regrets', 'regrettable', 'regretted', 'regretting', 'regrettoday', 'regular', 'regularly', 'regulars', 'regulate', 'regulated', 'regulating', 'regulations', 'rehab', 'rehabilitation', 'rehabwell', 'rehad', 'rehearsal', 'reinforce', 'reinforced', 'reintroduce', 'reintroducing', 'reinvent', 'reinvest', 'reject', 'rejections', 'rejects', 'rejoice', 'rejoined', 'rejuvenating', 'relapse', 'relapsed', 'relapsehi', 'relapsei', 'relapsemy', 'relapses', 'relapseshe', 'relapsing', 'relapsingsitting', 'relate', 'related', 'relates', 'relating', 'relations', 'relationship', 'relationshipadvice', 'relationships', 'relationshipsstop', 'relative', 'relatively', 'relax', 'relaxant', 'relaxed', 'relaxing', 'relay', 'relearn', 'release', 'released', 'releasing', 'relentless', 'relevance', 'reliable', 'reliably', 'relief', 'relieve', 'relieved', 'relieves', 'relieving', 'religions', 'religious', 'religiously', 'reluctance', 'reluctant', 'reluctantly', 'rely', 'relying', 'remain', 'remainder', 'remained', 'remaining', 'remand', 'remember', 'remembered', 'remembering', 'remind', 'reminded', 'reminder', 'reminders', 'reminding', 'reminds', 'remorse', 'remove', 'removed', 'removing', 'renewed', 'rent', 'rental', 'rented', 'reoccurring', 'reopened', 'reorder', 'reorganizing', 'repair', 'repairable', 'repaired', 'repay', 'repeat', 'repeatedly', 'repeating', 'repercussions', 'repetitive', 'replace', 'replaced', 'replacement', 'replacements', 'replacing', 'replaying', 'replenish', 'replenishing', 'replied', 'replies', 'report', 'reported', 'reports', 'repr', 'represent', 'represents', 'repressing', 'reprieve', 'repulsed', 'reputable', 'request', 'requested', 'requesting', 'require', 'required', 'requirement', 'requirements', 'requires', 'resealable', 'research', 'researched', 'researching', 'resemble', 'resembles', 'resent', 'resentful', 'resenting', 'resentments', 'reset', 'reseti', 'resetting', 'residence', 'resigned', 'resilience', 'resiliencethis', 'resilient', 'resist', 'resistance', 'resistant', 'resisted', 'resolution', 'resolutions', 'resolve', 'resolved', 'resonate', 'resort', 'resource', 'resources', 'respect', 'respecter', 'respectively', 'respectsober', 'respiratory', 'respond', 'responded', 'responding', 'responds', 'response', 'responses', 'responsibilities', 'responsibility', 'responsible', 'responsibly', 'rest', 'restart', 'restarted', 'restarting', 'restaurant', 'restaurants', 'restaurantso', 'rested', 'restful', 'resting', 'restless', 'restock', 'restore', 'restrain', 'restrict', 'restricted', 'restricting', 'restriction', 'restrictions', 'restrictive', 'result', 'resulted', 'results', 'resume', 'resumed', 'resuming', 'resurrection', 'retail', 'retain', 'retention', 'rethinking', 'retirement', 'retorts', 'retreat', 'retrieve', 'retrieving', 'retrospect', 'return', 'returned', 'returning', 'reuben', 'reunion', 'reunite', 'reuptake', 'rev', 'reveal', 'revealing', 'revelation', 'reverse', 'reversed', 'reverses', 'reversing', 'revert', 'review', 'revisions', 'revisit', 'revolutionary', 'revolve', 'revolves', 'revolving', 'reward', 'rewarded', 'rewarding', 'rewatch', 'rewire', 'rhythm', 'rib', 'ribeye', 'ribs', 'rice', 'rich', 'ricola', 'rid', 'riddled', 'ride', 'rides', 'ridiculous', 'ridiculously', 'riding', 'right', 'righteous', 'rightfully', 'riley', 'rind', 'rinds', 'ring', 'ringers', 'ringing', 'ringo', 'rings', 'rinse', 'rip', 'ripped', 'rise', 'riser', 'rising', 'risk', 'risked', 'riskier', 'riskiest', 'risking', 'risks', 'ritual', 'rituals', 'rivalled', 'river', 'rls', 'rn', 'roacutane', 'road', 'roadies', 'roads', 'roast', 'roasted', 'roasting', 'robbed', 'robbery', 'robbing', 'robot', 'rock', 'rocked', 'rocking', 'rocks', 'rocky', 'rodents', 'rodeo', 'role', 'roles', 'roll', 'rolled', 'roller', 'rollerblading', 'rollercoaster', 'rolling', 'rolls', 'rom', 'romaine', 'romance', 'romantically', 'romeso', 'romper', 'roof', 'room', 'roomates', 'roomies', 'rooming', 'roommate', 'roommates', 'rooms', 'root', 'rooting', 'roped', 'rose', 'rotate', 'rotation', 'rotator', 'rotisserie', 'rotten', 'rotting', 'rough', 'roughly', 'round', 'rounded', 'rounding', 'rounds', 'route', 'routine', 'routines', 'row', 'rowdy', 'rowing', 'royal', 'royally', 'rubbed', 'rubbing', 'rubs', 'rudderless', 'rude', 'ruin', 'ruined', 'ruining', 'ruins', 'rule', 'ruler', 'rules', 'rum', 'ruminate', 'ruminating', 'rumination', 'run', 'rungs', 'runner', 'running', 'runs', 'ruptured', 'rush', 'rushed', 'rushing', 'rut', 'sa', 'saaaveee', 'sabotage', 'sabotaging', 'saccharin', 'sacrifice', 'sad', 'saddens', 'sadder', 'saddest', 'saddle', 'sadly', 'sadness', 'safe', 'safely', 'safety', 'said', 'sailing', 'sainthomer', 'saintlisa', 'sake', 'salad', 'salads', 'salami', 'sale', 'sales', 'salesman', 'saline', 'salmon', 'salsa', 'salt', 'salted', 'saltier', 'salts', 'salty', 'sam', 'sand', 'sandwich', 'sandwiches', 'sane', 'sangria', 'sanity', 'sanother', 'sappier', 'sarcastic', 'sardines', 'sat', 'satisfaction', 'satisfied', 'satisfying', 'saturates', 'saturday', 'sauce', 'sauces', 'sauna', 'sausage', 'sausages', 'save', 'saved', 'saver', 'saving', 'savings', 'savior', 'savory', 'saw', 'say', 'sayi', 'saying', 'says', 'scabbed', 'scale', 'scaled', 'scales', 'scandinavian', 'scanned', 'scans', 'scare', 'scared', 'scaredbeen', 'scares', 'scarfing', 'scarier', 'scariest', 'scaring', 'scarring', 'scary', 'scaryvegi', 'scattered', 'scenario', 'scene', 'scenery', 'scented', 'schedule', 'scheduled', 'schizoaffective', 'school', 'schools', 'schoolwork', 'sciatica', 'science', 'scientific', 'sclerosus', 'scooper', 'score', 'scoring', 'scotch', 'scotia', 'scram', 'scramble', 'scrambled', 'scrambledhey', 'scrambles', 'scrape', 'scraped', 'scrapes', 'scraping', 'scratch', 'scratched', 'scratches', 'scream', 'screaming', 'screen', 'screened', 'screw', 'screwed', 'script', 'scrolling', 'scrub', 'scrunched', 'scrutiny', 'scull', 'sd', 'sea', 'seafood', 'seal', 'search', 'searched', 'searching', 'searidge', 'seas', 'season', 'seasonal', 'seasonally', 'seasoned', 'seasoning', 'seasonings', 'seasons', 'seat', 'seated', 'seattleites', 'second', 'secondary', 'secondly', 'seconds', 'secret', 'secretly', 'section', 'secular', 'secure', 'sedentary', 'see', 'seed', 'seeds', 'seeing', 'seek', 'seeking', 'seem', 'seemed', 'seemingly', 'seems', 'seen', 'sees', 'segment', 'seizure', 'seizures', 'selection', 'self', 'selfcare', 'selfie', 'selfish', 'selfishness', 'sell', 'selling', 'seltzer', 'seltzers', 'semester', 'semi', 'seminal', 'semper', 'send', 'sending', 'senior', 'sensation', 'sensations', 'sense', 'senses', 'sensibly', 'sensitive', 'sensitivity', 'sensitization', 'sensor', 'sensory', 'sent', 'sente', 'sentence', 'sentiment', 'separate', 'separated', 'separately', 'sept', 'september', 'seran', 'serendipity', 'serenity', 'seretonin', 'sergent', 'serial', 'series', 'serious', 'seriously', 'seriousness', 'seroquel', 'serve', 'served', 'serves', 'service', 'services', 'serving', 'servings', 'sesame', 'session', 'sessions', 'set', 'setbacks', 'sets', 'setting', 'settings', 'settle', 'settled', 'setup', 'seven', 'sever', 'several', 'severe', 'severed', 'severely', 'severity', 'severly', 'sex', 'sexual', 'sexually', 'sexy', 'sf', 'sh', 'shack', 'shackeveryone', 'shackled', 'shadiest', 'shady', 'shake', 'shaken', 'shakes', 'shaking', 'shaky', 'shall', 'shallow', 'shame', 'shamed', 'shameful', 'shamefully', 'shamelessly', 'shane', 'shape', 'shaped', 'share', 'shared', 'shares', 'sharethis', 'sharing', 'shark', 'sharp', 'sharper', 'shat', 'shattered', 'shave', 'shaved', 'shaving', 'shawarma', 'shed', 'shedding', 'sheer', 'sheets', 'sheild', 'shelf', 'shell', 'shelled', 'shells', 'shelter', 'sheriff', 'shift', 'shifted', 'shifting', 'shifts', 'shin', 'shine', 'shins', 'shiny', 'ship', 'shipment', 'shirataki', 'shirley', 'shirt', 'shirts', 'shit', 'shitfaced', 'shitless', 'shits', 'shitstorm', 'shitter', 'shittiness', 'shitty', 'shivering', 'sho', 'shock', 'shocked', 'shocking', 'shockingly', 'shoes', 'shook', 'shoot', 'shooters', 'shooting', 'shop', 'shopped', 'shopping', 'shoreline', 'short', 'shortly', 'shorts', 'shot', 'shots', 'shoulder', 'shoulders', 'shout', 'shouting', 'shoutout', 'shove', 'shoved', 'shoveling', 'show', 'showdown', 'showed', 'shower', 'showered', 'showereveryone', 'showers', 'showing', 'showings', 'shown', 'showrunners', 'shows', 'shred', 'shredded', 'shredding', 'shrimp', 'shrink', 'shrinking', 'shrunk', 'shrunken', 'shudder', 'shuffling', 'shut', 'shutdown', 'shuts', 'shutting', 'shy', 'shyness', 'siblings', 'sick', 'sickest', 'sickness', 'side', 'sidebar', 'sideline', 'sides', 'sidewalk', 'sidewalki', 'sideways', 'sift', 'sigh', 'sight', 'sightedness', 'sign', 'signal', 'signals', 'signed', 'significance', 'significant', 'significantly', 'signs', 'sil', 'silence', 'silenced', 'silent', 'silently', 'silk', 'silly', 'silver', 'similar', 'similarities', 'similarly', 'similiar', 'simple', 'simplest', 'simplicity', 'simply', 'simultaneously', 'sin', 'since', 'sincere', 'sincerely', 'sinful', 'sing', 'singing', 'single', 'singled', 'sinister', 'sink', 'sinus', 'sinuses', 'sip', 'sipping', 'sips', 'siren', 'sis', 'sister', 'sisters', 'sit', 'site', 'sites', 'sits', 'sitting', 'situation', 'situations', 'six', 'sixer', 'size', 'sized', 'sizes', 'skated', 'skeletons', 'skeptical', 'sketches', 'sketchy', 'skill', 'skills', 'skin', 'skincare', 'skinless', 'skinny', 'skip', 'skipped', 'skipping', 'skirts', 'skull', 'sky', 'skydive', 'skyrocketed', 'slab', 'slack', 'slacking', 'slammed', 'slamming', 'slather', 'slaving', 'slay', 'sleep', 'sleepi', 'sleeping', 'sleepinghey', 'sleepinghi', 'sleepless', 'sleepso', 'sleeptoday', 'sleepy', 'sleeve', 'sleeveless', 'sleeves', 'slept', 'slice', 'sliced', 'slices', 'slide', 'sliding', 'slight', 'slightly', 'slim', 'slimy', 'slip', 'slipped', 'slippedall', 'slippery', 'slipping', 'slips', 'sliver', 'slob', 'slope', 'sloppy', 'slot', 'slow', 'slowed', 'slower', 'slowing', 'slowly', 'slows', 'sluggish', 'slumps', 'slur', 'slurred', 'slurring', 'slurry', 'slush', 'slushes', 'slushies', 'small', 'smaller', 'smallville', 'smart', 'smarter', 'smartest', 'smash', 'smashed', 'smashing', 'smell', 'smells', 'smh', 'smiled', 'smiling', 'smoke', 'smoked', 'smoker', 'smokers', 'smokes', 'smoking', 'smokingi', 'smoky', 'smooth', 'smoother', 'smoothie', 'smoothies', 'smoothly', 'smores', 'smorgasbord', 'smth', 'snack', 'snacked', 'snacking', 'snacks', 'snacky', 'snagged', 'snake', 'snap', 'snapchat', 'snapped', 'snaps', 'snarfed', 'snatched', 'sneak', 'sneaking', 'sniffs', 'snooty', 'snore', 'snoring', 'snoringi', 'snorted', 'snuggly', 'soaking', 'sobbing', 'sober', 'sobered', 'soberfirst', 'soberhad', 'soberi', 'sobering', 'soberistas', 'soberjust', 'soberlast', 'soberlife', 'soberly', 'sobermy', 'sobernaut', 'sobernauts', 'soberversary', 'sobriety', 'sobrietyhi', 'sobrietyi', 'sobrietyim', 'sobrietythis', 'soccer', 'sociable', 'social', 'sociali', 'socialise', 'socialize', 'socializing', 'socially', 'societal', 'societies', 'society', 'socio', 'socks', 'soda', 'sodaa', 'sodai', 'sodas', 'sodium', 'sodiumhey', 'sofa', 'soft', 'softball', 'soften', 'softened', 'softening', 'solace', 'soldiers', 'sole', 'solely', 'solid', 'solidarity', 'solidified', 'solo', 'solution', 'solutions', 'solve', 'solved', 'somebody', 'someday', 'somedays', 'somehow', 'someone', 'someones', 'someplace', 'something', 'sometime', 'sometimes', 'somewhat', 'somewhere', 'son', 'song', 'songover', 'songs', 'sonics', 'sonora', 'sons', 'soo', 'soon', 'sooner', 'sooo', 'soooo', 'sooooo', 'soooooo', 'soothe', 'soothing', 'sope', 'sore', 'soreness', 'sores', 'sorry', 'sort', 'sorta', 'sorting', 'sorts', 'sos', 'sought', 'soul', 'souls', 'sound', 'sounded', 'soundhey', 'sounds', 'soup', 'soups', 'sour', 'source', 'sources', 'sourdough', 'sous', 'south', 'sows', 'soy', 'space', 'spaghetti', 'spain', 'span', 'spare', 'sparkling', 'sparkly', 'sparrowthis', 'sparse', 'spasms', 'speach', 'speak', 'speaker', 'speaking', 'spec', 'special', 'specialist', 'specialists', 'specialty', 'specific', 'specifically', 'specifics', 'specs', 'spectrum', 'speculation', 'speed', 'speeding', 'speeds', 'spell', 'spelled', 'spells', 'spend', 'spending', 'spends', 'spent', 'spice', 'spices', 'spicing', 'spicy', 'spiders', 'spike', 'spiked', 'spikes', 'spiking', 'spill', 'spilled', 'spin', 'spinach', 'spinning', 'spiral', 'spiraled', 'spiraling', 'spiralled', 'spiralling', 'spirit', 'spirits', 'spiritual', 'spirituality', 'spiritually', 'spirulina', 'spit', 'spite', 'splash', 'splashing', 'splenda', 'split', 'splurges', 'spoil', 'spoiler', 'spoke', 'spoken', 'sponsor', 'sponsored', 'spoon', 'spoonful', 'sporadically', 'sporting', 'sports', 'spot', 'spotify', 'spots', 'spousal', 'spouse', 'spravato', 'spread', 'sprindrift', 'spring', 'springs', 'sprinkle', 'sprinkles', 'sprint', 'sprinted', 'sprouts', 'sprung', 'spurred', 'squad', 'squalor', 'squandering', 'square', 'squares', 'squash', 'squats', 'squatters', 'squatty', 'squeak', 'squeaks', 'squeeze', 'squirreled', 'ssri', 'ssris', 'st', 'stability', 'stable', 'stacked', 'stackingit', 'staff', 'staffed', 'stage', 'stages', 'stagger', 'staggered', 'stagnant', 'stagnating', 'stain', 'stairs', 'stale', 'stalk', 'stall', 'stalled', 'stalling', 'stallingthere', 'stalls', 'stand', 'standard', 'standards', 'standing', 'stands', 'staple', 'staples', 'starbucks', 'starch', 'starchy', 'stare', 'staring', 'starr', 'start', 'started', 'startin', 'starting', 'startled', 'startmy', 'starts', 'startup', 'starvation', 'starve', 'starving', 'stashed', 'stat', 'state', 'stated', 'statement', 'states', 'statin', 'stating', 'station', 'stationary', 'stations', 'stats', 'statstical', 'status', 'staving', 'stay', 'stayed', 'stayin', 'staying', 'stays', 'steadily', 'steady', 'steak', 'steal', 'stealing', 'steals', 'steam', 'steamed', 'steamy', 'stem', 'step', 'stepdad', 'stepdaughter', 'stepmom', 'stepmother', 'stepped', 'stepping', 'steps', 'stereo', 'stereotypes', 'steroids', 'stevia', 'stew', 'stewarts', 'stewhey', 'stick', 'stickiness', 'sticking', 'sticks', 'sticky', 'stiff', 'stigator', 'stigma', 'still', 'stimulant', 'stimulated', 'stimulating', 'stinking', 'stint', 'stir', 'stirred', 'stitches', 'stocked', 'stocking', 'stocks', 'stoked', 'stole', 'stolen', 'stomach', 'stomachs', 'stone', 'stoned', 'stones', 'stool', 'stools', 'stop', 'stopdrinkingi', 'stopeating', 'stopi', 'stopped', 'stopping', 'stops', 'stopshop', 'stopslipping', 'storage', 'store', 'stores', 'storie', 'stories', 'storing', 'storm', 'stormed', 'story', 'stove', 'straight', 'strain', 'strained', 'straining', 'strange', 'stranger', 'strangers', 'strangulation', 'strategies', 'strategy', 'strava', 'straw', 'strawberries', 'strawberry', 'streak', 'stream', 'streaming', 'street', 'strenght', 'strength', 'strenuous', 'stress', 'stressed', 'stressful', 'stressing', 'stressor', 'stretch', 'stretches', 'stretching', 'strict', 'strictly', 'strictness', 'strike', 'strikes', 'string', 'stringy', 'strip', 'stripes', 'stripped', 'strips', 'strive', 'striving', 'stroke', 'stroll', 'stroller', 'strong', 'stronger', 'strongly', 'structure', 'struggeling', 'struggle', 'struggled', 'strugglei', 'strugglers', 'struggles', 'struggleyesterday', 'struggling', 'strugglingi', 'strugglinglast', 'strugglingthe', 'strung', 'stubborn', 'stuck', 'stud', 'student', 'studied', 'studies', 'study', 'stuf', 'stuff', 'stuffed', 'stuffy', 'stumble', 'stumbled', 'stumbling', 'stumped', 'stupid', 'stupidest', 'stupidity', 'stupidly', 'stupor', 'sturdy', 'stutter', 'style', 'su', 'sub', 'subconscious', 'subhuman', 'subi', 'subject', 'subjecting', 'subliminally', 'submerge', 'subreddit', 'subreddits', 'subs', 'subscribed', 'subscription', 'subsequent', 'subsequently', 'subside', 'subsided', 'subsiding', 'substance', 'substances', 'substitute', 'substituteanyone', 'substitutes', 'subtle', 'subtly', 'subtract', 'succeed', 'succeeded', 'succeeding', 'success', 'successdid', 'successes', 'successful', 'successfully', 'successhello', 'succession', 'suck', 'sucked', 'sucking', 'sucks', 'sucky', 'sucralose', 'sudden', 'suddenly', 'suffer', 'suffered', 'suffering', 'suffice', 'sufficient', 'suffocate', 'sugar', 'sugari', 'sugars', 'sugary', 'suggest', 'suggested', 'suggesting', 'suggestions', 'suggestionsgood', 'suggestionshey', 'suggests', 'suicidal', 'suicide', 'suit', 'suitable', 'suits', 'sulfate', 'sullen', 'summaryi', 'summer', 'summeras', 'summers', 'sun', 'sunburn', 'sunday', 'sundays', 'sunflower', 'sunk', 'sunny', 'sunrise', 'sunriseday', 'sunrisetoday', 'sunshine', 'super', 'superior', 'supermarket', 'superstore', 'supervised', 'supervisor', 'suplementing', 'suppers', 'supplement', 'supplementation', 'supplementing', 'supplements', 'supplies', 'supply', 'support', 'supportdear', 'supported', 'supportfebruary', 'supporting', 'supportive', 'supportmy', 'supports', 'suppose', 'supposed', 'supposedly', 'suppositories', 'suppress', 'suppressed', 'suppresses', 'supremely', 'sure', 'surely', 'surface', 'surfs', 'surgeries', 'surgery', 'surly', 'surmounted', 'surpassing', 'surprise', 'surprised', 'surprising', 'surprisingly', 'surreal', 'surround', 'surrounded', 'surrounding', 'surroundings', 'survie', 'survive', 'survived', 'surviving', 'sushi', 'suspect', 'suspected', 'suspicion', 'suspicious', 'sustain', 'sustainability', 'sustainable', 'sv', 'sw', 'swabbed', 'swag', 'swallow', 'swam', 'swear', 'sweat', 'sweater', 'sweating', 'sweats', 'sweaty', 'swede', 'sweeping', 'sweet', 'sweetened', 'sweetener', 'sweeteners', 'sweeter', 'sweetner', 'sweetners', 'sweets', 'swelling', 'swerve', 'swig', 'swigging', 'swigs', 'swim', 'swimming', 'swims', 'swings', 'swirling', 'swiss', 'switch', 'switched', 'switches', 'switching', 'switzerland', 'swollen', 'swoop', 'swore', 'swung', 'syevia', 'sympathizing', 'symptom', 'symptomatic', 'symptoms', 'syndrome', 'syrup', 'syrups', 'system', 'systems', 'systemso', 'tab', 'table', 'tables', 'tablespoon', 'tablespoons', 'tablets', 'tac', 'tackle', 'tackling', 'taco', 'tacs', 'tagged', 'tahini', 'tailgating', 'tails', 'tait', 'take', 'takeaway', 'takeaways', 'taken', 'takeout', 'taker', 'takes', 'taking', 'tales', 'talk', 'talked', 'talking', 'talks', 'tall', 'tallboys', 'taller', 'tandem', 'tangible', 'tank', 'tanked', 'tap', 'tape', 'taper', 'tapered', 'tapering', 'target', 'targeting', 'tarnish', 'tartar', 'task', 'taste', 'tasted', 'tastes', 'tasting', 'tasty', 'tattoo', 'taubes', 'taught', 'taurine', 'taxing', 'tbh', 'tbs', 'tbsp', 'tc', 'tdee', 'tdlr', 'tea', 'teach', 'teacher', 'teachers', 'teahello', 'team', 'teammate', 'tear', 'tears', 'teaso', 'teaspoon', 'teaspoons', 'tecate', 'technical', 'technically', 'techniques', 'technology', 'teddy', 'teen', 'teenage', 'teenager', 'teenageracts', 'teens', 'teeny', 'teetering', 'teeth', 'teetotal', 'tell', 'telling', 'tells', 'temp', 'temper', 'temperature', 'temperatures', 'tempest', 'temple', 'temporarily', 'temporary', 'tempt', 'temptation', 'temptations', 'tempted', 'temptedto', 'tempting', 'tempts', 'ten', 'tenant', 'tend', 'tended', 'tendencies', 'tendency', 'tender', 'tenderness', 'tenders', 'tendon', 'tendonjust', 'tends', 'tennessee', 'tennis', 'tense', 'tension', 'tents', 'tequila', 'term', 'terminal', 'terminator', 'terms', 'terrible', 'terribleit', 'terribly', 'terrified', 'terrifying', 'territory', 'terror', 'terrors', 'test', 'tested', 'testedgot', 'testicular', 'testimony', 'testing', 'testingdoes', 'testosterone', 'tests', 'tether', 'teturam', 'tex', 'text', 'textbook', 'texted', 'texting', 'texts', 'textual', 'texture', 'textures', 'tge', 'tgi', 'th', 'thai', 'thailand', 'thank', 'thanked', 'thankful', 'thankfully', 'thanks', 'thanksgiving', 'thankyou', 'thats', 'thawing', 'thc', 'theater', 'theft', 'theme', 'thenewmomma', 'theoretically', 'theories', 'theory', 'therapeutic', 'therapist', 'therapists', 'therapy', 'therefore', 'theres', 'thermos', 'thesobersmidgen', 'theyd', 'theyve', 'thiamin', 'thiamine', 'thicc', 'thick', 'thicken', 'thicker', 'thickness', 'thieves', 'thigh', 'thighs', 'thin', 'thing', 'things', 'thingy', 'think', 'thinkers', 'thinkin', 'thinking', 'thinks', 'thinly', 'thinner', 'third', 'thirst', 'thirsty', 'thirties', 'thishey', 'thisreal', 'thistle', 'thnks', 'tho', 'thorne', 'thoroughly', 'though', 'thoughjust', 'thought', 'thoughtful', 'thoughtless', 'thoughts', 'thoughtsi', 'thousand', 'thousands', 'thread', 'threadhello', 'threads', 'threat', 'threatened', 'threatening', 'three', 'threonate', 'threshold', 'thresholds', 'threw', 'thrilled', 'thrive', 'thrived', 'throat', 'throats', 'thrombosis', 'throughout', 'throw', 'throwaway', 'throwing', 'thrown', 'throws', 'thru', 'thrust', 'thst', 'thumb', 'thursday', 'thursdays', 'thus', 'thyroid', 'thyroids', 'tia', 'tic', 'tick', 'ticked', 'ticket', 'tickets', 'ticking', 'tickled', 'tickling', 'tide', 'tidied', 'tied', 'tifu', 'tight', 'tighten', 'tighter', 'tightness', 'tikka', 'tiktok', 'til', 'till', 'time', 'timei', 'timeline', 'timelines', 'timequake', 'timers', 'times', 'timey', 'timing', 'tingling', 'tingly', 'tiny', 'tip', 'tipped', 'tips', 'tipsy', 'tiramisu', 'tire', 'tired', 'tiredness', 'tiring', 'tisane', 'title', 'titled', 'tixs', 'tjs', 'tl', 'tlc', 'tldr', 'tmr', 'tn', 'tnm', 'toast', 'toasting', 'toasts', 'toasty', 'tobacco', 'today', 'todaybut', 'todayclosing', 'todayday', 'todayedit', 'todayi', 'todayidk', 'todayit', 'todaypoured', 'todaytwo', 'todaywent', 'toddler', 'toe', 'toes', 'together', 'togethers', 'toilet', 'told', 'tolerable', 'tolerance', 'tolerate', 'toll', 'tolle', 'tomato', 'tomatoes', 'tommorow', 'tomorrow', 'tomorrows', 'tomorrowtomorrow', 'ton', 'tone', 'toned', 'tongue', 'tonight', 'tonighti', 'tonne', 'tonnes', 'tons', 'took', 'tool', 'toolbox', 'tools', 'tooooooo', 'tooth', 'top', 'topic', 'topicbut', 'topped', 'toppings', 'tops', 'torch', 'tore', 'toriani', 'torn', 'tornado', 'toronto', 'torpedoed', 'tortillas', 'torture', 'tortured', 'torturing', 'torturous', 'toss', 'tossed', 'tossing', 'total', 'totally', 'totals', 'totday', 'touch', 'touched', 'touching', 'tough', 'tougher', 'toughest', 'toughness', 'tour', 'tournament', 'tournaments', 'tours', 'toward', 'towards', 'towel', 'town', 'towni', 'toxic', 'toxin', 'toxins', 'toying', 'toys', 'tp', 'trace', 'track', 'tracked', 'tracker', 'trackerhi', 'tracki', 'tracking', 'tracks', 'trackthis', 'trade', 'trader', 'tradition', 'traditional', 'traditionally', 'trail', 'train', 'trained', 'trainer', 'training', 'trainingi', 'trainwreck', 'trajectory', 'transactions', 'transaminase', 'transfer', 'transference', 'transferred', 'transformation', 'transformative', 'transgender', 'transient', 'transition', 'transitioned', 'transitioning', 'translate', 'translates', 'transpired', 'transplant', 'transporting', 'trap', 'trapped', 'traps', 'traptoday', 'trash', 'trashed', 'trauma', 'traumas', 'traumatizing', 'travel', 'traveled', 'traveling', 'travelling', 'travellinghi', 'tray', 'trays', 'tread', 'treading', 'treadmill', 'treat', 'treated', 'treating', 'treatment', 'treatments', 'treats', 'tree', 'trees', 'trembling', 'tremendous', 'tremendously', 'tremor', 'tremors', 'trenches', 'trend', 'triage', 'trial', 'trialling', 'trials', 'tribe', 'tribute', 'tricep', 'trick', 'tricked', 'tricki', 'trickle', 'tricks', 'tried', 'tries', 'trigger', 'triggered', 'triggering', 'triggerless', 'triggers', 'triggersthis', 'triggertoday', 'triglycerides', 'triglyceries', 'trip', 'triple', 'tripped', 'trips', 'triumphs', 'trivia', 'trivial', 'trolled', 'trolling', 'trouble', 'troublei', 'troubles', 'troubleshooting', 'trout', 'trt', 'truck', 'trucking', 'trudging', 'true', 'trulieve', 'truly', 'trulys', 'trumpet', 'trupod', 'trust', 'trusted', 'trusting', 'truth', 'truths', 'try', 'tryign', 'trying', 'tryna', 'tryouts', 'trypthopan', 'ts', 'tsh', 'tshirts', 'tsp', 'tsps', 'tub', 'tube', 'tuck', 'tucson', 'tuesday', 'tuesdayhappy', 'tumeric', 'tummy', 'tumour', 'tums', 'tuna', 'tunnel', 'turbulent', 'turkey', 'turn', 'turned', 'turning', 'turns', 'tux', 'tuxedo', 'tv', 'tvs', 'tw', 'tweaked', 'tweaking', 'tweaks', 'twelve', 'twenties', 'twenty', 'twice', 'twin', 'twist', 'twitching', 'twitter', 'two', 'ty', 'tylenol', 'tyler', 'type', 'types', 'typical', 'typically', 'typing', 'typos', 'uber', 'ufc', 'uggh', 'ugh', 'ughhhh', 'ughhhhh', 'ughhhhhh', 'ughhhhhhh', 'ugly', 'uk', 'ukraine', 'ulcerative', 'ultima', 'ultimately', 'ultimatum', 'ultra', 'ultrasound', 'um', 'umbilical', 'un', 'unable', 'unacceptable', 'unavoidable', 'unaware', 'unbearable', 'unbelievable', 'unbelievably', 'unbroken', 'uncertain', 'uncertainty', 'uncharted', 'uncle', 'uncomfortable', 'uncomfortably', 'uncommon', 'unconditionally', 'unconsciously', 'uncontrollably', 'uncoordinated', 'undergone', 'underlying', 'underneath', 'underrated', 'understand', 'understandably', 'understanding', 'understands', 'understatement', 'understood', 'underwear', 'underweight', 'underwhelming', 'undesirable', 'undiagnosed', 'undo', 'undoing', 'uneasiness', 'unemployed', 'unequivocally', 'unexpected', 'unexpectedly', 'unexplained', 'unfair', 'unfocused', 'unfolded', 'unfollowed', 'unfortified', 'unfortunate', 'unfortunately', 'ungluedthese', 'ungodly', 'unhappiness', 'unhappy', 'unhealthily', 'unhealthy', 'uniforms', 'unintentionally', 'uninvited', 'unique', 'unit', 'universal', 'universally', 'universe', 'university', 'unkinked', 'unless', 'unlike', 'unlikely', 'unlocked', 'unlucky', 'unmotivated', 'unnoticeable', 'unplanned', 'unpleasant', 'unpopular', 'unprecedented', 'unprepared', 'unprompted', 'unravel', 'unraveling', 'unreal', 'unrealistic', 'unrelated', 'unrelenting', 'unreliable', 'unresponsive', 'unsaid', 'unsalted', 'unsatiated', 'unsavory', 'unstable', 'unstuck', 'unsuccessful', 'unsuccessfully', 'unsure', 'unsustainable', 'unsweet', 'unsweetened', 'untenable', 'untill', 'unusual', 'unwanted', 'unwind', 'unwinding', 'unwritten', 'upafter', 'upbeat', 'upcoming', 'update', 'updated', 'updatehi', 'updateit', 'updateme', 'updates', 'upheaval', 'upi', 'uplifting', 'upon', 'upped', 'upper', 'uppers', 'upping', 'ups', 'upscale', 'upset', 'upsets', 'upside', 'upsides', 'upsundays', 'upthanks', 'upvoting', 'upward', 'upwards', 'urge', 'urgent', 'urges', 'urging', 'uric', 'urinate', 'urination', 'urine', 'urninating', 'us', 'usa', 'usage', 'use', 'used', 'useful', 'usehey', 'useless', 'user', 'username', 'users', 'uses', 'using', 'ussually', 'usual', 'usually', 'ususally', 'utensils', 'utilise', 'utilities', 'utilize', 'utilizing', 'utter', 'utterly', 'va', 'vacation', 'vacations', 'vacay', 'vaccinated', 'vaccination', 'vaccine', 'vague', 'valid', 'validated', 'validation', 'valium', 'valuable', 'value', 'valued', 'values', 'van', 'vancouver', 'vanilla', 'vanished', 'vanity', 'vape', 'vaping', 'variants', 'variation', 'variations', 'varied', 'varies', 'varieties', 'variety', 'various', 'vary', 'vastly', 'veg', 'vegan', 'vegas', 'vegasi', 'vegetable', 'vegetables', 'vegetarian', 'veggie', 'veggies', 'vegis', 'vehemently', 'vehicle', 'veil', 'vengeance', 'vengence', 'venmo', 'venous', 'vent', 'ventilator', 'venting', 'verbalizing', 'verbally', 'verdict', 'version', 'versions', 'versus', 'vertical', 'vertigo', 'vet', 'veteran', 'veterans', 'via', 'vibe', 'vibes', 'vibrant', 'vice', 'vicious', 'victim', 'victims', 'victoria', 'victories', 'victory', 'vide', 'video', 'videos', 'view', 'viewed', 'vigilant', 'vinegar', 'vineyard', 'violate', 'violent', 'violently', 'virgin', 'virginia', 'virta', 'virtual', 'virtually', 'visceral', 'visible', 'visibly', 'visine', 'vision', 'visit', 'visited', 'visiting', 'visitors', 'visits', 'visualisation', 'visuals', 'vital', 'vitals', 'vitamin', 'vitamins', 'vivid', 'vivitrol', 'vlckd', 'vocal', 'vodka', 'voice', 'voices', 'void', 'volume', 'voluntary', 'volunteer', 'volunteering', 'vomit', 'vomited', 'vomiting', 'vonnegut', 'votre', 'vow', 'vowed', 'vowing', 'vs', 'vu', 'vuit', 'vulnerabilities', 'vulnerable', 'vyvanse', 'waa', 'wacky', 'waffles', 'wage', 'wagon', 'wagoni', 'waist', 'waistline', 'wait', 'waited', 'waiting', 'waitress', 'waiver', 'wake', 'waken', 'waking', 'waksberg', 'wal', 'walgreens', 'walk', 'walked', 'walking', 'walks', 'walkway', 'wall', 'wallhello', 'wallow', 'wallowing', 'walls', 'walmart', 'wan', 'wander', 'wandered', 'wandering', 'wanna', 'wannabe', 'want', 'wanted', 'wanting', 'wants', 'war', 'wardrobe', 'warm', 'warn', 'warned', 'warning', 'warriors', 'wary', 'wasa', 'wash', 'washed', 'washing', 'washroom', 'wasnt', 'waste', 'wasted', 'wastedi', 'wasteland', 'wasting', 'wat', 'watch', 'watched', 'watchers', 'watching', 'water', 'waterbottle', 'watered', 'watering', 'waters', 'watery', 'watter', 'wave', 'wavered', 'wavering', 'waves', 'wavy', 'way', 'ways', 'wayyy', 'weak', 'weakened', 'weakens', 'weaker', 'weakness', 'weaknesses', 'wean', 'weaned', 'weaning', 'weapon', 'wear', 'wearing', 'weary', 'weather', 'web', 'website', 'websites', 'wed', 'wedding', 'weddings', 'wedge', 'wednesday', 'wednesdayit', 'wednesdays', 'weed', 'weedi', 'week', 'weekday', 'weekdays', 'weekend', 'weekendevery', 'weekendgm', 'weekends', 'weekendthis', 'weekly', 'weeknight', 'weeknow', 'weeks', 'weekthis', 'weening', 'weep', 'weeped', 'wegmans', 'weigh', 'weighed', 'weighing', 'weight', 'weightbasically', 'weighthi', 'weighti', 'weighting', 'weightliftinghi', 'weightloss', 'weights', 'weightthis', 'weird', 'weirded', 'weirdly', 'weirdo', 'welbutrin', 'welcome', 'welcomed', 'welcomes', 'well', 'wellbeing', 'wellbutrin', 'wellenjoy', 'wellness', 'welp', 'wen', 'wendy', 'wendys', 'went', 'west', 'wet', 'wfh', 'whack', 'whammy', 'whatever', 'whats', 'whatsoever', 'wheat', 'wheel', 'wheels', 'whenever', 'whereas', 'wherever', 'whether', 'whetherspoons', 'whew', 'whey', 'whiff', 'whilst', 'whim', 'whinge', 'whinging', 'whipping', 'whirl', 'whiskey', 'whisky', 'whispered', 'white', 'whiteheads', 'whitney', 'whittaker', 'whoah', 'whoever', 'whole', 'whoop', 'whos', 'whose', 'wide', 'widely', 'wife', 'wifes', 'wiggle', 'wil', 'wild', 'wildest', 'wildly', 'willful', 'willing', 'willpower', 'win', 'winded', 'window', 'wine', 'wineries', 'wings', 'winning', 'wins', 'winter', 'wipe', 'wire', 'wired', 'wisdom', 'wise', 'wish', 'wished', 'wishes', 'wishing', 'withdraw', 'withdrawal', 'withdrawalgood', 'withdrawals', 'withdrawing', 'within', 'withing', 'without', 'withstand', 'witness', 'witnessed', 'wits', 'witty', 'wizened', 'wks', 'woe', 'woes', 'woesi', 'woild', 'woke', 'woken', 'woman', 'women', 'wonder', 'wondered', 'wonderful', 'wondering', 'wonders', 'wonfirst', 'wont', 'woo', 'wooden', 'woods', 'woodwork', 'woohoo', 'wooshing', 'woozy', 'word', 'words', 'wore', 'work', 'workbook', 'worked', 'worker', 'workers', 'working', 'workout', 'workouts', 'works', 'worktoday', 'workweek', 'world', 'worms', 'worn', 'worried', 'worries', 'worrisome', 'worry', 'worrying', 'worse', 'worsen', 'worsened', 'worsening', 'worst', 'worth', 'worthless', 'worthlessness', 'worthy', 'would', 'wouldnt', 'wound', 'wounds', 'wow', 'wrap', 'wrapped', 'wrapping', 'wraps', 'wreak', 'wreaking', 'wreaks', 'wreck', 'wrecking', 'wrecks', 'wrench', 'wrestles', 'wrestling', 'wretched', 'wrinkles', 'wrist', 'write', 'writer', 'writhing', 'writing', 'written', 'wrong', 'wrongdoings', 'wronged', 'wrongly', 'wrote', 'wtf', 'wtheck', 'xanax', 'xantham', 'xanthan', 'xanthana', 'xbox', 'xl', 'xo', 'xoxo', 'xviii', 'xxl', 'xxx', 'xy', 'xyz', 'ya', 'yada', 'yall', 'yard', 'yards', 'yay', 'yeah', 'year', 'yearhello', 'yearly', 'years', 'yearscurrently', 'yearsi', 'yearsthe', 'yeast', 'yell', 'yelled', 'yelling', 'yellow', 'yep', 'yer', 'yerba', 'yes', 'yesss', 'yesterday', 'yesterdayout', 'yesterdayso', 'yet', 'ymmv', 'yo', 'yoga', 'yoghurt', 'yogurt', 'yogurthey', 'yogurts', 'yolks', 'yoooo', 'youi', 'youmemorial', 'young', 'younger', 'youngest', 'youre', 'yourhealthstore', 'youth', 'youtube', 'yr', 'yri', 'yrs', 'yrsi', 'ytd', 'yu', 'yuck', 'yummy', 'yup', 'zen', 'zenis', 'zero', 'zerocarb', 'zeroed', 'zinc', 'zion', 'zip', 'zipfizzi', 'zma', 'zombie', 'zombielike', 'zone', 'zonked', 'zoo', 'zoom', 'zucchini', 'zucchinis']\n"
     ]
    }
   ],
   "source": [
    "# Check features\n",
    "vocab_t = tvec.get_feature_names()\n",
    "print(vocab_t)"
   ]
  },
  {
   "cell_type": "code",
   "execution_count": 21,
   "id": "a90a3057",
   "metadata": {},
   "outputs": [
    {
     "data": {
      "text/plain": [
       "10116"
      ]
     },
     "execution_count": 21,
     "metadata": {},
     "output_type": "execute_result"
    }
   ],
   "source": [
    "len(vocab_t)"
   ]
  },
  {
   "cell_type": "markdown",
   "id": "d22c858a",
   "metadata": {},
   "source": [
    "#### Logistic regression with tfidf vectorizer"
   ]
  },
  {
   "cell_type": "code",
   "execution_count": 22,
   "id": "9b8f345b",
   "metadata": {},
   "outputs": [
    {
     "name": "stdout",
     "output_type": "stream",
     "text": [
      "Logistic regression with tfidf vectorizer training Score: 0.9854070660522274\n",
      "Logistic regression with tfidf vectorizer testing Score: 0.9540229885057471\n"
     ]
    }
   ],
   "source": [
    "# Instantiate logistic regression model.\n",
    "lr = LogisticRegression()\n",
    "\n",
    "# Fit model to training data.\n",
    "lr.fit(X_train_tvec, y_train)\n",
    "\n",
    "# Evaluate model on training data.\n",
    "lr.score(X_train_tvec, y_train)\n",
    "\n",
    "# Evaluate model on testing data.\n",
    "lr.score(X_test_tvec, y_test)\n",
    "\n",
    "# Print scores\n",
    "print(\n",
    "    f'Logistic regression with tfidf vectorizer training Score: {lr.score(X_train_tvec, y_train)}'\n",
    ")\n",
    "print(\n",
    "    f'Logistic regression with tfidf vectorizer testing Score: {lr.score(X_test_tvec, y_test)}'\n",
    ")"
   ]
  },
  {
   "cell_type": "markdown",
   "id": "03eb16ea",
   "metadata": {},
   "source": [
    "#### Naive bayes with tfidf vectorizer"
   ]
  },
  {
   "cell_type": "code",
   "execution_count": 23,
   "id": "c16950e3",
   "metadata": {},
   "outputs": [
    {
     "name": "stdout",
     "output_type": "stream",
     "text": [
      "Naive bayes with tfidf vectorizer training Score: 0.9685099846390169\n",
      "Naive bayes with tfidf vectorizer testing Score: 0.9356321839080459\n"
     ]
    }
   ],
   "source": [
    "# Instantiate naive bayes model.\n",
    "nb = MultinomialNB()\n",
    "\n",
    "# Fit model to training data.\n",
    "nb.fit(X_train_tvec, y_train)\n",
    "\n",
    "# Evaluate model on training data.\n",
    "nb.score(X_train_tvec, y_train)\n",
    "\n",
    "# Evaluate model on testing data.\n",
    "nb.score(X_test_tvec, y_test)\n",
    "\n",
    "# Print scores\n",
    "print(\n",
    "    f'Naive bayes with tfidf vectorizer training Score: {nb.score(X_train_tvec, y_train)}'\n",
    ")\n",
    "print(\n",
    "    f'Naive bayes with tfidf vectorizer testing Score: {nb.score(X_test_tvec, y_test)}'\n",
    ")"
   ]
  },
  {
   "cell_type": "markdown",
   "id": "3c8bed67",
   "metadata": {},
   "source": [
    "### GridSearchCV with.."
   ]
  },
  {
   "cell_type": "markdown",
   "id": "07caffe4",
   "metadata": {},
   "source": [
    "#### Transformer: CountVectorizer, Model: Logistic Regression"
   ]
  },
  {
   "cell_type": "code",
   "execution_count": 24,
   "id": "c41fae40",
   "metadata": {},
   "outputs": [],
   "source": [
    "# Set a pipeline up with two stages:\n",
    "# 1. CountVectorizer (transformer)\n",
    "# 2. LogisticRegression (model)\n",
    "\n",
    "cvlrpipe = Pipeline([('cvec', CountVectorizer()),\n",
    "                     ('lr', LogisticRegression())])"
   ]
  },
  {
   "cell_type": "code",
   "execution_count": 25,
   "id": "bb0f5f15",
   "metadata": {},
   "outputs": [],
   "source": [
    "# Search over the following values of hyperparameters:\n",
    "# Maximum number of features fit: 2000, 3000, 4000\n",
    "# Maximum number of documents needed to include token: 80%, 90%, 100%\n",
    "# Check (individual tokens) and also check (individual tokens and 2-grams)\n",
    "# Regularization strength of model: 0.1, 1, 10\n",
    "\n",
    "cvlrpipe_params = {\n",
    "    'cvec__max_features': [2000, 3000, 4000],\n",
    "    'cvec__max_df': [0.8, 0.9, 1.0],\n",
    "    'cvec__ngram_range': [(1, 1), (1, 2), (2, 2)],\n",
    "    'lr__C': [0.1, 1, 10]\n",
    "}"
   ]
  },
  {
   "cell_type": "code",
   "execution_count": 26,
   "id": "fa03c0d4",
   "metadata": {},
   "outputs": [],
   "source": [
    "# Instantiate GridSearchCV.\n",
    "cvlrgs = GridSearchCV(\n",
    "    cvlrpipe,  # object we are optimizing\n",
    "    param_grid=cvlrpipe_params,  # parameters values we are searching\n",
    "    cv=5)  # 5-fold cross-validation"
   ]
  },
  {
   "cell_type": "code",
   "execution_count": 27,
   "id": "a81697fa",
   "metadata": {},
   "outputs": [
    {
     "data": {
      "text/plain": [
       "GridSearchCV(cv=5,\n",
       "             estimator=Pipeline(steps=[('cvec', CountVectorizer()),\n",
       "                                       ('lr', LogisticRegression())]),\n",
       "             param_grid={'cvec__max_df': [0.8, 0.9, 1.0],\n",
       "                         'cvec__max_features': [2000, 3000, 4000],\n",
       "                         'cvec__ngram_range': [(1, 1), (1, 2), (2, 2)],\n",
       "                         'lr__C': [0.1, 1, 10]})"
      ]
     },
     "execution_count": 27,
     "metadata": {},
     "output_type": "execute_result"
    }
   ],
   "source": [
    "# Fit GridSearch to training data.\n",
    "cvlrgs.fit(X_train, y_train)"
   ]
  },
  {
   "cell_type": "code",
   "execution_count": 28,
   "id": "f00af8bf",
   "metadata": {},
   "outputs": [
    {
     "data": {
      "text/plain": [
       "0.9477571470674919"
      ]
     },
     "execution_count": 28,
     "metadata": {},
     "output_type": "execute_result"
    }
   ],
   "source": [
    "# Best score\n",
    "cvlrgs.best_score_"
   ]
  },
  {
   "cell_type": "code",
   "execution_count": 29,
   "id": "6e46e8cf",
   "metadata": {},
   "outputs": [
    {
     "data": {
      "text/plain": [
       "Pipeline(steps=[('cvec', CountVectorizer(max_df=0.8, max_features=3000)),\n",
       "                ('lr', LogisticRegression(C=0.1))])"
      ]
     },
     "execution_count": 29,
     "metadata": {},
     "output_type": "execute_result"
    }
   ],
   "source": [
    "# Save best model as cvlr_model.\n",
    "cvlr_model = cvlrgs.best_estimator_\n",
    "cvlr_model"
   ]
  },
  {
   "cell_type": "code",
   "execution_count": 51,
   "id": "37e8ceb0",
   "metadata": {},
   "outputs": [
    {
     "data": {
      "text/plain": [
       "{'cvec__max_df': 0.8,\n",
       " 'cvec__max_features': 3000,\n",
       " 'cvec__ngram_range': (1, 1),\n",
       " 'lr__C': 0.1}"
      ]
     },
     "execution_count": 51,
     "metadata": {},
     "output_type": "execute_result"
    }
   ],
   "source": [
    "# Check best parameters\n",
    "cvlrgs.best_params_"
   ]
  },
  {
   "cell_type": "code",
   "execution_count": 30,
   "id": "ca6e83e7",
   "metadata": {},
   "outputs": [
    {
     "name": "stdout",
     "output_type": "stream",
     "text": [
      "Logistic regression with count vectorizer training Score: 0.9946236559139785\n",
      "Logistic regression with count vectorizer testing Score: 0.960919540229885\n"
     ]
    }
   ],
   "source": [
    "# Score model on training set.\n",
    "cvlr_model.score(X_train, y_train)\n",
    "\n",
    "# Score model on testing set.\n",
    "cvlr_model.score(X_test, y_test)\n",
    "\n",
    "# Print scores\n",
    "print(\n",
    "    f'Logistic regression with count vectorizer training Score: {cvlr_model.score(X_train, y_train)}'\n",
    ")\n",
    "print(\n",
    "    f'Logistic regression with count vectorizer testing Score: {cvlr_model.score(X_test, y_test)}'\n",
    ")"
   ]
  },
  {
   "cell_type": "markdown",
   "id": "271a4ab8",
   "metadata": {},
   "source": [
    "#### Transformer: CountVectorizer, Model: Naive bayes"
   ]
  },
  {
   "cell_type": "code",
   "execution_count": 31,
   "id": "538c7d69",
   "metadata": {},
   "outputs": [],
   "source": [
    "# Set a pipeline up with two stages:\n",
    "# 1. CountVectorizer (transformer)\n",
    "# 2. Naive Bayes (model)\n",
    "\n",
    "cvnbpipe = Pipeline([('cvec', CountVectorizer()), ('nb', MultinomialNB())])"
   ]
  },
  {
   "cell_type": "code",
   "execution_count": 32,
   "id": "a9ce5768",
   "metadata": {},
   "outputs": [],
   "source": [
    "# Search over the following values of hyperparameters:\n",
    "# Maximum number of features fit: 2000, 3000, 4000\n",
    "# Maximum number of documents needed to include token: 80%, 90%, 100%\n",
    "# Check (individual tokens) and also check (individual tokens and 2-grams)\n",
    "# Additive smoothing: 1, 2\n",
    "\n",
    "cvnbpipe_params = {\n",
    "    'cvec__max_features': [2000, 3000, 4000],\n",
    "    'cvec__max_df': [0.8, 0.9, 1.0],\n",
    "    'cvec__ngram_range': [(1, 1), (1, 2), (2, 2)],\n",
    "    'nb__alpha': [1, 2]\n",
    "}"
   ]
  },
  {
   "cell_type": "code",
   "execution_count": 33,
   "id": "4897a615",
   "metadata": {},
   "outputs": [],
   "source": [
    "# Instantiate GridSearchCV.\n",
    "cvnbgs = GridSearchCV(\n",
    "    cvnbpipe,  # object we are optimizing\n",
    "    param_grid=cvnbpipe_params,  # parameters values we are searching\n",
    "    cv=5)  # 5-fold cross-validation"
   ]
  },
  {
   "cell_type": "code",
   "execution_count": 34,
   "id": "fa7b7a8b",
   "metadata": {},
   "outputs": [
    {
     "data": {
      "text/plain": [
       "GridSearchCV(cv=5,\n",
       "             estimator=Pipeline(steps=[('cvec', CountVectorizer()),\n",
       "                                       ('nb', MultinomialNB())]),\n",
       "             param_grid={'cvec__max_df': [0.8, 0.9, 1.0],\n",
       "                         'cvec__max_features': [2000, 3000, 4000],\n",
       "                         'cvec__ngram_range': [(1, 1), (1, 2), (2, 2)],\n",
       "                         'nb__alpha': [1, 2]})"
      ]
     },
     "execution_count": 34,
     "metadata": {},
     "output_type": "execute_result"
    }
   ],
   "source": [
    "# Fit GridSearch to training data.\n",
    "cvnbgs.fit(X_train, y_train)"
   ]
  },
  {
   "cell_type": "code",
   "execution_count": 35,
   "id": "98c06957",
   "metadata": {},
   "outputs": [
    {
     "data": {
      "text/plain": [
       "0.9646625405246094"
      ]
     },
     "execution_count": 35,
     "metadata": {},
     "output_type": "execute_result"
    }
   ],
   "source": [
    "# Best score\n",
    "cvnbgs.best_score_"
   ]
  },
  {
   "cell_type": "code",
   "execution_count": 36,
   "id": "44645d4c",
   "metadata": {
    "scrolled": true
   },
   "outputs": [
    {
     "data": {
      "text/plain": [
       "Pipeline(steps=[('cvec', CountVectorizer(max_df=0.8, max_features=2000)),\n",
       "                ('nb', MultinomialNB(alpha=1))])"
      ]
     },
     "execution_count": 36,
     "metadata": {},
     "output_type": "execute_result"
    }
   ],
   "source": [
    "# Save best model as cvnb_model.\n",
    "cvnb_model = cvnbgs.best_estimator_\n",
    "cvnb_model"
   ]
  },
  {
   "cell_type": "code",
   "execution_count": 52,
   "id": "7ec1c92f",
   "metadata": {},
   "outputs": [
    {
     "data": {
      "text/plain": [
       "{'cvec__max_df': 0.8,\n",
       " 'cvec__max_features': 2000,\n",
       " 'cvec__ngram_range': (1, 1),\n",
       " 'nb__alpha': 1}"
      ]
     },
     "execution_count": 52,
     "metadata": {},
     "output_type": "execute_result"
    }
   ],
   "source": [
    "# Check best parameters\n",
    "cvnbgs.best_params_"
   ]
  },
  {
   "cell_type": "code",
   "execution_count": 37,
   "id": "1852fe5a",
   "metadata": {},
   "outputs": [
    {
     "name": "stdout",
     "output_type": "stream",
     "text": [
      "Naive bayes with count vectorizer training Score: 0.9800307219662059\n",
      "Naive bayes with count vectorizer testing Score: 0.9770114942528736\n"
     ]
    }
   ],
   "source": [
    "# Score model on training set.\n",
    "cvnb_model.score(X_train, y_train)\n",
    "\n",
    "# Score model on testing set.\n",
    "cvnb_model.score(X_test, y_test)\n",
    "\n",
    "# Print scores\n",
    "print(\n",
    "    f'Naive bayes with count vectorizer training Score: {cvnb_model.score(X_train, y_train)}'\n",
    ")\n",
    "print(\n",
    "    f'Naive bayes with count vectorizer testing Score: {cvnb_model.score(X_test, y_test)}'\n",
    ")"
   ]
  },
  {
   "cell_type": "markdown",
   "id": "8af4cc7f",
   "metadata": {},
   "source": [
    "#### Transformer: Tfidf Vectorizer, Model: Logistic Regression"
   ]
  },
  {
   "cell_type": "code",
   "execution_count": 38,
   "id": "72a50ffc",
   "metadata": {},
   "outputs": [],
   "source": [
    "# Set a pipeline up with two stages:\n",
    "# 1. TfidfVectorizer (transformer)\n",
    "# 2. LogisticRegression (model)\n",
    "\n",
    "tvlrpipe = Pipeline([('tvec', TfidfVectorizer()),\n",
    "                     ('lr', LogisticRegression())])"
   ]
  },
  {
   "cell_type": "code",
   "execution_count": 39,
   "id": "a5fc66b2",
   "metadata": {},
   "outputs": [],
   "source": [
    "# Search over the following values of hyperparameters:\n",
    "# Maximum number of features fit: 2000, 3000, 4000\n",
    "# Maximum number of documents needed to include token: 80%, 90%, 100%\n",
    "# Check (individual tokens) and also check (individual tokens and 2-grams)\n",
    "# Regularization strength of model: 0.1, 1, 10\n",
    "\n",
    "tvlrpipe_params = {\n",
    "    'tvec__max_features': [2000, 3000, 4000],\n",
    "    'tvec__max_df': [0.8, 0.9, 1.0],\n",
    "    'tvec__ngram_range': [(1, 1), (1, 2), (2, 2)],\n",
    "    'lr__C': [0.1, 1, 10]\n",
    "}"
   ]
  },
  {
   "cell_type": "code",
   "execution_count": 40,
   "id": "b8145d4f",
   "metadata": {},
   "outputs": [],
   "source": [
    "# Instantiate GridSearchCV.\n",
    "tvlrgs = GridSearchCV(\n",
    "    tvlrpipe,  # object we are optimizing\n",
    "    param_grid=tvlrpipe_params,  # parameters values we are searching\n",
    "    cv=5)  # 5-fold cross-validation"
   ]
  },
  {
   "cell_type": "code",
   "execution_count": 41,
   "id": "10e97e30",
   "metadata": {},
   "outputs": [
    {
     "data": {
      "text/plain": [
       "GridSearchCV(cv=5,\n",
       "             estimator=Pipeline(steps=[('tvec', TfidfVectorizer()),\n",
       "                                       ('lr', LogisticRegression())]),\n",
       "             param_grid={'lr__C': [0.1, 1, 10], 'tvec__max_df': [0.8, 0.9, 1.0],\n",
       "                         'tvec__max_features': [2000, 3000, 4000],\n",
       "                         'tvec__ngram_range': [(1, 1), (1, 2), (2, 2)]})"
      ]
     },
     "execution_count": 41,
     "metadata": {},
     "output_type": "execute_result"
    }
   ],
   "source": [
    "# Fit GridSearch to training data.\n",
    "tvlrgs.fit(X_train, y_train)"
   ]
  },
  {
   "cell_type": "code",
   "execution_count": 42,
   "id": "4a19ce48",
   "metadata": {},
   "outputs": [
    {
     "data": {
      "text/plain": [
       "0.953910993221338"
      ]
     },
     "execution_count": 42,
     "metadata": {},
     "output_type": "execute_result"
    }
   ],
   "source": [
    "# Best score\n",
    "tvlrgs.best_score_"
   ]
  },
  {
   "cell_type": "code",
   "execution_count": 43,
   "id": "07d3ac70",
   "metadata": {
    "scrolled": true
   },
   "outputs": [
    {
     "data": {
      "text/plain": [
       "Pipeline(steps=[('tvec', TfidfVectorizer(max_df=0.8, max_features=2000)),\n",
       "                ('lr', LogisticRegression(C=10))])"
      ]
     },
     "execution_count": 43,
     "metadata": {},
     "output_type": "execute_result"
    }
   ],
   "source": [
    "# Save best model as tvlr_model.\n",
    "tvlr_model = tvlrgs.best_estimator_\n",
    "tvlr_model"
   ]
  },
  {
   "cell_type": "code",
   "execution_count": 53,
   "id": "a05ccdce",
   "metadata": {},
   "outputs": [
    {
     "data": {
      "text/plain": [
       "{'lr__C': 10,\n",
       " 'tvec__max_df': 0.8,\n",
       " 'tvec__max_features': 2000,\n",
       " 'tvec__ngram_range': (1, 1)}"
      ]
     },
     "execution_count": 53,
     "metadata": {},
     "output_type": "execute_result"
    }
   ],
   "source": [
    "# Check best parameters\n",
    "tvlrgs.best_params_"
   ]
  },
  {
   "cell_type": "code",
   "execution_count": 44,
   "id": "1bdd73a5",
   "metadata": {},
   "outputs": [
    {
     "name": "stdout",
     "output_type": "stream",
     "text": [
      "Logistic regression with tfidf vectorizer training Score: 1.0\n",
      "Logistic regression with tfidf vectorizer testing Score: 0.9586206896551724\n"
     ]
    }
   ],
   "source": [
    "# Score model on training set.\n",
    "tvlr_model.score(X_train, y_train)\n",
    "\n",
    "# Score model on testing set.\n",
    "tvlr_model.score(X_test, y_test)\n",
    "\n",
    "# Print scores\n",
    "print(\n",
    "    f'Logistic regression with tfidf vectorizer training Score: {tvlr_model.score(X_train, y_train)}'\n",
    ")\n",
    "print(\n",
    "    f'Logistic regression with tfidf vectorizer testing Score: {tvlr_model.score(X_test, y_test)}'\n",
    ")"
   ]
  },
  {
   "cell_type": "markdown",
   "id": "84f54b23",
   "metadata": {},
   "source": [
    "#### Transformer: Tfidf Vectorizer, Model: Naive bayes"
   ]
  },
  {
   "cell_type": "code",
   "execution_count": 45,
   "id": "08cabc58",
   "metadata": {},
   "outputs": [],
   "source": [
    "# Set a pipeline up with two stages:\n",
    "# 1. TfidfVectorizer (transformer)\n",
    "# 2. Naive bayes (model)\n",
    "\n",
    "tvnbpipe = Pipeline([('tvec', TfidfVectorizer()), ('nb', MultinomialNB())])"
   ]
  },
  {
   "cell_type": "code",
   "execution_count": 46,
   "id": "e69a85f0",
   "metadata": {},
   "outputs": [],
   "source": [
    "# Search over the following values of hyperparameters:\n",
    "# Maximum number of features fit: 2000, 3000, 4000\n",
    "# Maximum number of documents needed to include token: 80%, 90%, 100%\n",
    "# Check (individual tokens) and also check (individual tokens and 2-grams)\n",
    "# Additive smoothing: 1, 2\n",
    "\n",
    "tvnbpipe_params = {\n",
    "    'tvec__max_features': [2000, 3000, 4000],\n",
    "    'tvec__max_df': [0.8, 0.9, 1.0],\n",
    "    'tvec__ngram_range': [(1, 1), (1, 2), (2, 2)],\n",
    "    'nb__alpha': [1, 2]\n",
    "}"
   ]
  },
  {
   "cell_type": "code",
   "execution_count": 47,
   "id": "2e1c674e",
   "metadata": {},
   "outputs": [],
   "source": [
    "# Instantiate GridSearchCV.\n",
    "tvnbgs = GridSearchCV(\n",
    "    tvnbpipe,  # object we are optimizing\n",
    "    param_grid=tvnbpipe_params,  # parameters values we are searching\n",
    "    cv=5)  # 5-fold cross-validation"
   ]
  },
  {
   "cell_type": "code",
   "execution_count": 48,
   "id": "48728dea",
   "metadata": {},
   "outputs": [
    {
     "data": {
      "text/plain": [
       "GridSearchCV(cv=5,\n",
       "             estimator=Pipeline(steps=[('tvec', TfidfVectorizer()),\n",
       "                                       ('nb', MultinomialNB())]),\n",
       "             param_grid={'nb__alpha': [1, 2], 'tvec__max_df': [0.8, 0.9, 1.0],\n",
       "                         'tvec__max_features': [2000, 3000, 4000],\n",
       "                         'tvec__ngram_range': [(1, 1), (1, 2), (2, 2)]})"
      ]
     },
     "execution_count": 48,
     "metadata": {},
     "output_type": "execute_result"
    }
   ],
   "source": [
    "# Fit GridSearch to training data.\n",
    "tvnbgs.fit(X_train, y_train)"
   ]
  },
  {
   "cell_type": "code",
   "execution_count": 57,
   "id": "a3a4d022",
   "metadata": {},
   "outputs": [
    {
     "data": {
      "text/plain": [
       "0.9423902151488358"
      ]
     },
     "execution_count": 57,
     "metadata": {},
     "output_type": "execute_result"
    }
   ],
   "source": [
    "# Best score\n",
    "tvnbgs.best_score_"
   ]
  },
  {
   "cell_type": "code",
   "execution_count": 58,
   "id": "c91f6144",
   "metadata": {},
   "outputs": [
    {
     "data": {
      "text/plain": [
       "Pipeline(steps=[('tvec', TfidfVectorizer(max_df=0.8, max_features=2000)),\n",
       "                ('nb', MultinomialNB(alpha=1))])"
      ]
     },
     "execution_count": 58,
     "metadata": {},
     "output_type": "execute_result"
    }
   ],
   "source": [
    "# Save best model as tvnb_model.\n",
    "tvnb_model = tvnbgs.best_estimator_\n",
    "tvnb_model"
   ]
  },
  {
   "cell_type": "code",
   "execution_count": 59,
   "id": "5327f74d",
   "metadata": {},
   "outputs": [
    {
     "data": {
      "text/plain": [
       "{'nb__alpha': 1,\n",
       " 'tvec__max_df': 0.8,\n",
       " 'tvec__max_features': 2000,\n",
       " 'tvec__ngram_range': (1, 1)}"
      ]
     },
     "execution_count": 59,
     "metadata": {},
     "output_type": "execute_result"
    }
   ],
   "source": [
    "# Check best parameters\n",
    "tvnbgs.best_params_"
   ]
  },
  {
   "cell_type": "code",
   "execution_count": 60,
   "id": "415bcd36",
   "metadata": {
    "scrolled": true
   },
   "outputs": [
    {
     "name": "stdout",
     "output_type": "stream",
     "text": [
      "Naive bayes with tfidf vectorizer training Score: 0.977726574500768\n",
      "Naive bayes with tfidf vectorizer testing Score: 0.9494252873563218\n"
     ]
    }
   ],
   "source": [
    "# Score model on training set.\n",
    "tvnb_model.score(X_train, y_train)\n",
    "\n",
    "# Score model on testing set.\n",
    "tvnb_model.score(X_test, y_test)\n",
    "\n",
    "# Print scores\n",
    "print(\n",
    "    f'Naive bayes with tfidf vectorizer training Score: {tvnb_model.score(X_train, y_train)}'\n",
    ")\n",
    "print(\n",
    "    f'Naive bayes with tfidf vectorizer testing Score: {tvnb_model.score(X_test, y_test)}'\n",
    ")"
   ]
  },
  {
   "cell_type": "markdown",
   "id": "3ef007ea",
   "metadata": {},
   "source": [
    "## Score comparison"
   ]
  },
  {
   "cell_type": "markdown",
   "id": "ce05cd3d",
   "metadata": {},
   "source": [
    "### Logistic regression"
   ]
  },
  {
   "cell_type": "code",
   "execution_count": 55,
   "id": "39f1b08c",
   "metadata": {
    "scrolled": true
   },
   "outputs": [
    {
     "name": "stdout",
     "output_type": "stream",
     "text": [
      "Logistic regression with count vectorizer training Score: 0.9946236559139785\n",
      "Logistic regression with count vectorizer testing Score: 0.960919540229885\n",
      "Logistic regression with tfidf vectorizer training Score: 1.0\n",
      "Logistic regression with tfidf vectorizer testing Score: 0.9586206896551724\n"
     ]
    }
   ],
   "source": [
    "print(\n",
    "    f'Logistic regression with count vectorizer training Score: {cvlr_model.score(X_train, y_train)}'\n",
    ")\n",
    "print(\n",
    "    f'Logistic regression with count vectorizer testing Score: {cvlr_model.score(X_test, y_test)}'\n",
    ")\n",
    "print(\n",
    "    f'Logistic regression with tfidf vectorizer training Score: {tvlr_model.score(X_train, y_train)}'\n",
    ")\n",
    "print(\n",
    "    f'Logistic regression with tfidf vectorizer testing Score: {tvlr_model.score(X_test, y_test)}'\n",
    ")"
   ]
  },
  {
   "cell_type": "markdown",
   "id": "74c8ac16",
   "metadata": {},
   "source": [
    "### Naive bayes"
   ]
  },
  {
   "cell_type": "code",
   "execution_count": 61,
   "id": "4b1d1811",
   "metadata": {
    "scrolled": true
   },
   "outputs": [
    {
     "name": "stdout",
     "output_type": "stream",
     "text": [
      "Naive bayes with count vectorizer training Score: 0.9800307219662059\n",
      "Naive bayes with count vectorizer testing Score: 0.9770114942528736\n",
      "Naive bayes with tfidf vectorizer training Score: 0.977726574500768\n",
      "Naive bayes with tfidf vectorizer testing Score: 0.9494252873563218\n"
     ]
    }
   ],
   "source": [
    "print(\n",
    "    f'Naive bayes with count vectorizer training Score: {cvnb_model.score(X_train, y_train)}'\n",
    ")\n",
    "print(\n",
    "    f'Naive bayes with count vectorizer testing Score: {cvnb_model.score(X_test, y_test)}'\n",
    ")\n",
    "print(\n",
    "    f'Naive bayes with tfidf vectorizer training Score: {tvnb_model.score(X_train, y_train)}'\n",
    ")\n",
    "print(\n",
    "    f'Naive bayes with tfidf vectorizer testing Score: {tvnb_model.score(X_test, y_test)}'\n",
    ")"
   ]
  },
  {
   "cell_type": "markdown",
   "id": "bb7fa0b7",
   "metadata": {},
   "source": [
    "#### Conclusion and recommendations\n",
    "First of all, the accuracy of every model is quite high. What could have happened could be the subtle similarities between the 2 subreddit could be a little too subtle than I have expected thus making them too different and easy for the models to distinguish between them. Both models improved only very slightly or even no improvement in terms of accuracy probably because the base scores are already really high and there aren't much room for improvements. The naive assumption of Naive bayes model is that all features are conditionally independent which works exceptionally well in this project especially with the parameter tuning with max_df, max_features and ngram_range thus emerging as the best model in this project with a test score of 0.977.\n",
    "\n",
    "<p>Overall, objectives of this project have been well met by successfully scraping 1989 posts out of an intended 2000 and getting 1737 unique posts for analysis. 2 models are successfully fitted, tuned and tested to eventually yield a production model being Naive bayes with count vectorizer at a test score of 0.977.</p>"
   ]
  }
 ],
 "metadata": {
  "kernelspec": {
   "display_name": "Python 3",
   "language": "python",
   "name": "python3"
  },
  "language_info": {
   "codemirror_mode": {
    "name": "ipython",
    "version": 3
   },
   "file_extension": ".py",
   "mimetype": "text/x-python",
   "name": "python",
   "nbconvert_exporter": "python",
   "pygments_lexer": "ipython3",
   "version": "3.8.8"
  },
  "toc": {
   "base_numbering": 1,
   "nav_menu": {},
   "number_sections": true,
   "sideBar": true,
   "skip_h1_title": false,
   "title_cell": "Table of Contents",
   "title_sidebar": "Contents",
   "toc_cell": false,
   "toc_position": {},
   "toc_section_display": true,
   "toc_window_display": false
  }
 },
 "nbformat": 4,
 "nbformat_minor": 5
}
